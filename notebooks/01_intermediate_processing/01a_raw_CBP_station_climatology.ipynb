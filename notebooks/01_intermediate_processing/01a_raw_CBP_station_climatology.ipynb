{
 "cells": [
  {
   "cell_type": "markdown",
   "id": "7b61bd1c-ea19-4f7a-ace5-a03bf7ff8248",
   "metadata": {},
   "source": [
    "# Calculating the Climatological and Anomaly Values for Selected CBP Stations"
   ]
  },
  {
   "cell_type": "markdown",
   "id": "907de6a3-4e93-499e-8cb8-99b48013291a",
   "metadata": {},
   "source": [
    "Creating a seasonal climatology of the mixed layer from the buoy stations.\n",
    "\n",
    "[Station names](https://d18lev1ok5leia.cloudfront.net/chesapeakebay/documents/map_of_mainstem_and_tributary_monitoring_stations.pdf)"
   ]
  },
  {
   "cell_type": "code",
   "execution_count": 1,
   "id": "c63a1b35-4295-4b68-98b4-18cc2204126e",
   "metadata": {
    "tags": []
   },
   "outputs": [],
   "source": [
    "import os\n",
    "\n",
    "import xarray as xr\n",
    "import pandas as pd\n",
    "import numpy as np\n",
    "import matplotlib.pyplot as plt\n",
    "import matplotlib.colors\n",
    "import geopandas as gpd\n",
    "import cartopy.crs as ccrs\n",
    "import cartopy.feature as cfeature\n",
    "import seaborn as sns"
   ]
  },
  {
   "cell_type": "code",
   "execution_count": 2,
   "id": "c8a3b869-25d8-4dc8-80ad-5f931aff1ea1",
   "metadata": {},
   "outputs": [],
   "source": [
    "SAVE_FIGS = False\n",
    "REPO_ROOT = '/Users/rwegener/repos/chesapeake_mhw'"
   ]
  },
  {
   "cell_type": "markdown",
   "id": "f284c2b5-f258-4dbd-b132-52a6f8593ae3",
   "metadata": {},
   "source": [
    "## Preprocessing"
   ]
  },
  {
   "cell_type": "code",
   "execution_count": 30,
   "id": "0218c5b6-a137-40e7-b628-4565dc67152e",
   "metadata": {},
   "outputs": [],
   "source": [
    "# Read the csv into a pandas dataframe\n",
    "cols = ['EventId', 'Station', 'SampleDate', 'SampleTime', 'Unit',\n",
    "        'Depth', 'Layer','MeasureValue', 'Latitude', 'Longitude']\n",
    "path = os.path.join(REPO_ROOT, 'data/raw', \n",
    "                    'WaterQuality_ChesapeakeBayProgram_20030101_20221231.csv')\n",
    "wq = pd.read_csv(path, usecols=cols, parse_dates=[2])"
   ]
  },
  {
   "cell_type": "code",
   "execution_count": 31,
   "id": "00cde1a3-ff07-4761-a071-3d4119567c78",
   "metadata": {},
   "outputs": [
    {
     "data": {
      "text/plain": [
       "988"
      ]
     },
     "execution_count": 31,
     "metadata": {},
     "output_type": "execute_result"
    }
   ],
   "source": [
    "len(wq.Station.unique())"
   ]
  },
  {
   "cell_type": "code",
   "execution_count": 32,
   "id": "5de6d041-1fa1-452e-aca6-c77ad552a742",
   "metadata": {},
   "outputs": [],
   "source": [
    "# Only consider measurements between 1 and 3 meters depth\n",
    "wq_stations = wq[(wq.Depth > 1) & (wq.Depth < 3)]"
   ]
  },
  {
   "cell_type": "code",
   "execution_count": 36,
   "id": "d66b9f68-d83c-4977-a3a1-8b075527ae72",
   "metadata": {
    "scrolled": true
   },
   "outputs": [],
   "source": [
    "# Take average value of observations at those depths\n",
    "wq_stations = wq_stations.groupby(['Station', 'SampleDate']).mean().reset_index()"
   ]
  },
  {
   "cell_type": "code",
   "execution_count": 40,
   "id": "f53ad186-b6f4-4f95-afd9-89eb74fc144c",
   "metadata": {},
   "outputs": [
    {
     "data": {
      "text/html": [
       "<div>\n",
       "<style scoped>\n",
       "    .dataframe tbody tr th:only-of-type {\n",
       "        vertical-align: middle;\n",
       "    }\n",
       "\n",
       "    .dataframe tbody tr th {\n",
       "        vertical-align: top;\n",
       "    }\n",
       "\n",
       "    .dataframe thead th {\n",
       "        text-align: right;\n",
       "    }\n",
       "</style>\n",
       "<table border=\"1\" class=\"dataframe\">\n",
       "  <thead>\n",
       "    <tr style=\"text-align: right;\">\n",
       "      <th></th>\n",
       "      <th>Station</th>\n",
       "      <th>SampleDate</th>\n",
       "      <th>MeasureValue</th>\n",
       "      <th>Latitude</th>\n",
       "      <th>Longitude</th>\n",
       "    </tr>\n",
       "  </thead>\n",
       "  <tbody>\n",
       "    <tr>\n",
       "      <th>0</th>\n",
       "      <td>1AAUA001.39</td>\n",
       "      <td>2007-03-22</td>\n",
       "      <td>8.3</td>\n",
       "      <td>38.4000</td>\n",
       "      <td>-77.3200</td>\n",
       "    </tr>\n",
       "    <tr>\n",
       "      <th>1</th>\n",
       "      <td>1AAUA001.39</td>\n",
       "      <td>2007-06-18</td>\n",
       "      <td>26.2</td>\n",
       "      <td>38.4000</td>\n",
       "      <td>-77.3200</td>\n",
       "    </tr>\n",
       "    <tr>\n",
       "      <th>2</th>\n",
       "      <td>1AAUA001.39</td>\n",
       "      <td>2007-10-29</td>\n",
       "      <td>14.5</td>\n",
       "      <td>38.4000</td>\n",
       "      <td>-77.3200</td>\n",
       "    </tr>\n",
       "    <tr>\n",
       "      <th>3</th>\n",
       "      <td>1AAUA001.39</td>\n",
       "      <td>2007-12-10</td>\n",
       "      <td>5.2</td>\n",
       "      <td>38.4000</td>\n",
       "      <td>-77.3200</td>\n",
       "    </tr>\n",
       "    <tr>\n",
       "      <th>4</th>\n",
       "      <td>1AAUA001.39</td>\n",
       "      <td>2008-02-04</td>\n",
       "      <td>4.9</td>\n",
       "      <td>38.4000</td>\n",
       "      <td>-77.3200</td>\n",
       "    </tr>\n",
       "    <tr>\n",
       "      <th>...</th>\n",
       "      <td>...</td>\n",
       "      <td>...</td>\n",
       "      <td>...</td>\n",
       "      <td>...</td>\n",
       "      <td>...</td>\n",
       "    </tr>\n",
       "    <tr>\n",
       "      <th>51139</th>\n",
       "      <td>ZDM0003</td>\n",
       "      <td>2004-07-08</td>\n",
       "      <td>27.7</td>\n",
       "      <td>38.9362</td>\n",
       "      <td>-76.5067</td>\n",
       "    </tr>\n",
       "    <tr>\n",
       "      <th>51140</th>\n",
       "      <td>ZDM0003</td>\n",
       "      <td>2004-08-05</td>\n",
       "      <td>29.0</td>\n",
       "      <td>38.9362</td>\n",
       "      <td>-76.5067</td>\n",
       "    </tr>\n",
       "    <tr>\n",
       "      <th>51141</th>\n",
       "      <td>ZDM0003</td>\n",
       "      <td>2004-08-19</td>\n",
       "      <td>26.4</td>\n",
       "      <td>38.9362</td>\n",
       "      <td>-76.5067</td>\n",
       "    </tr>\n",
       "    <tr>\n",
       "      <th>51142</th>\n",
       "      <td>ZDM0003</td>\n",
       "      <td>2004-09-15</td>\n",
       "      <td>24.5</td>\n",
       "      <td>38.9362</td>\n",
       "      <td>-76.5067</td>\n",
       "    </tr>\n",
       "    <tr>\n",
       "      <th>51143</th>\n",
       "      <td>ZDM0003</td>\n",
       "      <td>2004-10-13</td>\n",
       "      <td>17.0</td>\n",
       "      <td>38.9362</td>\n",
       "      <td>-76.5067</td>\n",
       "    </tr>\n",
       "  </tbody>\n",
       "</table>\n",
       "<p>51144 rows × 5 columns</p>\n",
       "</div>"
      ],
      "text/plain": [
       "           Station SampleDate  MeasureValue  Latitude  Longitude\n",
       "0      1AAUA001.39 2007-03-22           8.3   38.4000   -77.3200\n",
       "1      1AAUA001.39 2007-06-18          26.2   38.4000   -77.3200\n",
       "2      1AAUA001.39 2007-10-29          14.5   38.4000   -77.3200\n",
       "3      1AAUA001.39 2007-12-10           5.2   38.4000   -77.3200\n",
       "4      1AAUA001.39 2008-02-04           4.9   38.4000   -77.3200\n",
       "...            ...        ...           ...       ...        ...\n",
       "51139      ZDM0003 2004-07-08          27.7   38.9362   -76.5067\n",
       "51140      ZDM0003 2004-08-05          29.0   38.9362   -76.5067\n",
       "51141      ZDM0003 2004-08-19          26.4   38.9362   -76.5067\n",
       "51142      ZDM0003 2004-09-15          24.5   38.9362   -76.5067\n",
       "51143      ZDM0003 2004-10-13          17.0   38.9362   -76.5067\n",
       "\n",
       "[51144 rows x 5 columns]"
      ]
     },
     "execution_count": 40,
     "metadata": {},
     "output_type": "execute_result"
    }
   ],
   "source": [
    "wq_stations"
   ]
  },
  {
   "cell_type": "code",
   "execution_count": 39,
   "id": "9ae20046-4892-43bc-87a2-77fbd867cec0",
   "metadata": {},
   "outputs": [],
   "source": [
    "wq_stations = wq_stations.drop(['EventId', 'Depth'], axis=1)"
   ]
  },
  {
   "cell_type": "markdown",
   "id": "0475ba7c-bfa9-473f-80b1-6e8087edf19e",
   "metadata": {
    "jp-MarkdownHeadingCollapsed": true
   },
   "source": [
    "### Narrowing down a list of stations with enough evenly distributed data points (delete)\n",
    "\n",
    "\n",
    "Used to use the 35 most sampled stations:\n",
    "```\n",
    "stations = wq.groupby('Station').count().sort_values(by='EventId').iloc[-35:].index\n",
    "```"
   ]
  },
  {
   "cell_type": "code",
   "execution_count": null,
   "id": "77882e34-91f1-4eb4-ad7d-fa1da1b3bddb",
   "metadata": {},
   "outputs": [],
   "source": [
    "# Only inspect stations with at least 20*12 data points (maybe remove this step later?)\n",
    "# st_counts = wq.groupby('Station').count().sort_values(by='EventId')\n",
    "# st_counts = st_counts[st_counts.EventId > 240]\n",
    "# wq_stations = wq[wq.Station.isin(st_counts.index)]"
   ]
  },
  {
   "cell_type": "code",
   "execution_count": null,
   "id": "cedbaa83-ae73-4619-a146-d6a7fa83f268",
   "metadata": {},
   "outputs": [],
   "source": [
    "stations = wq_stations.groupby('Station').count().sort_values(by='EventId').index"
   ]
  },
  {
   "cell_type": "markdown",
   "id": "7b4aad6e-e3b3-42be-b0c4-75e25e414aec",
   "metadata": {},
   "source": [
    "Check for temporal uniformity"
   ]
  },
  {
   "cell_type": "code",
   "execution_count": null,
   "id": "e80e2bac-873a-4df7-a3d5-99123fd71c0a",
   "metadata": {},
   "outputs": [],
   "source": [
    "counts = wq_stations.groupby(['Station', wq_stations.SampleDate.dt.year, wq_stations.SampleDate.dt.month]).count()['MeasureValue']"
   ]
  },
  {
   "cell_type": "code",
   "execution_count": null,
   "id": "44e347ba-2ef8-4930-90da-2e5ae4567199",
   "metadata": {},
   "outputs": [],
   "source": [
    "counts = pd.DataFrame(counts)\n",
    "counts = counts.rename({'MeasureValue': 'ObsCount'}, axis=1)\n",
    "counts.index = counts.index.set_names(['Station', 'year', 'month'])"
   ]
  },
  {
   "cell_type": "code",
   "execution_count": null,
   "id": "9b64e26a-4793-43f1-9625-ccb31d7c58f4",
   "metadata": {
    "tags": []
   },
   "outputs": [],
   "source": [
    "stations_filtered = []\n",
    "completeness_df = pd.DataFrame(\n",
    "    columns = ['Jan', 'Feb', 'Mar', 'Apr', 'May', 'Jun', 'Jul', 'Aug', 'Sep', 'Oct', \n",
    "               'Nov', 'Dec']\n",
    ")\n",
    "\n",
    "for station in stations:\n",
    "    # extract station\n",
    "    df = counts.loc[station]\n",
    "    # preprocessing\n",
    "    df = df.reset_index()\n",
    "    matrix = df.pivot(index='year', columns='month')\n",
    "    \n",
    "    # Add to filtered stations if it meets the condition\n",
    "    if (matrix.sum() < 12).sum() > 0:\n",
    "        # If any month does not have at least 12 years with an obs (60% coverage)\n",
    "        # do not consider it\n",
    "        continue\n",
    "    # Check that there are at least 18 months with obs (90% coverage) in 10 of the months\n",
    "    if ((~matrix.isna()).sum() >= 17).sum() >= 10:\n",
    "        stations_filtered.append(station)\n",
    "        # plot\n",
    "        sns.heatmap(matrix)\n",
    "        plt.title(station)\n",
    "        plt.show()\n",
    "        plt.close()\n",
    "        print('adding', station, 'to stations_filtered')\n",
    "        completeness_df.loc[station] = (~matrix.isna()).sum().values"
   ]
  },
  {
   "cell_type": "code",
   "execution_count": null,
   "id": "351cae1e-dab0-4204-a7d3-31cc3d95bfef",
   "metadata": {},
   "outputs": [],
   "source": [
    "fig, ax = plt.subplots()\n",
    "fig.suptitle('Seasonal distribution of in situ observations')\n",
    "fig.set_size_inches(3, 8)\n",
    "\n",
    "sns.heatmap(completeness_df, ax=ax, cbar_kws={'label': 'Number of years with at least 1 observation'})\n",
    "ax.set_ylabel('Monitoring Station Name')\n",
    "ax.set_xlabel('Month')"
   ]
  },
  {
   "cell_type": "code",
   "execution_count": null,
   "id": "14b53f7e-ae79-4e3f-9b0e-8b339937427c",
   "metadata": {},
   "outputs": [],
   "source": []
  },
  {
   "cell_type": "code",
   "execution_count": null,
   "id": "35bbb454-7f06-4a19-9861-308c28985f0e",
   "metadata": {},
   "outputs": [],
   "source": [
    "wq_stations = wq_stations[wq_stations.Station.isin(stations_filtered)]"
   ]
  },
  {
   "cell_type": "markdown",
   "id": "2348cfeb-0192-455e-ad89-f3c2d371f29d",
   "metadata": {},
   "source": [
    "### Plot location of the stations"
   ]
  },
  {
   "cell_type": "code",
   "execution_count": 7,
   "id": "623a9828-0f8e-43d7-a09a-22fda2efca34",
   "metadata": {},
   "outputs": [],
   "source": [
    "wq_counts = wq_stations.groupby('Station').mean(numeric_only=True)[['Latitude', 'Longitude']]\n",
    "wq_counts['Count'] = wq_stations.groupby('Station').count()['EventId']"
   ]
  },
  {
   "cell_type": "code",
   "execution_count": null,
   "id": "c5eb0167-0d51-4f2d-862c-fb071d632266",
   "metadata": {},
   "outputs": [],
   "source": [
    "geoWQ = gpd.GeoDataFrame(\n",
    "    wq_counts, geometry=gpd.points_from_xy(wq_counts['Longitude'], wq_counts['Latitude']), \n",
    "    crs='epsg:4326')"
   ]
  },
  {
   "cell_type": "code",
   "execution_count": null,
   "id": "2e33dda5-8c3a-426c-86e0-90b67543988a",
   "metadata": {
    "tags": []
   },
   "outputs": [],
   "source": [
    "# ax1 = plt.subplot(121)\n",
    "# ax2 = plt.subplot(122, projection=ccrs.PlateCarree())\n",
    "fig, axes = plt.subplots(1, 2, subplot_kw={'projection': ccrs.PlateCarree()}, \n",
    "                         # gridspec_kw={'width_ratios':[5, 2]}, \n",
    "                         figsize=(10, 7))\n",
    "                        # gridspec_kw={'width_ratios':[2, 1]})  # , 'height_ratios':[2,1]})\n",
    "fig.suptitle('Selected In Situ Validation Stations')\n",
    "\n",
    "# fig.set_size_inches(9, 6)\n",
    "# fig.suptitle('Locations of most frequently sampled in situ locations')\n",
    "\n",
    "# Add background features\n",
    "axes[1].add_feature(cfeature.COASTLINE, alpha=0.3)\n",
    "axes[1].add_feature(cfeature.BORDERS, linestyle=':')\n",
    "axes[1].add_feature(cfeature.RIVERS)\n",
    "# ax.coastlines()\n",
    "\n",
    "axes[1].set_extent([-77.5, -75.4, 36.6, 39.7])\n",
    "\n",
    "# Add and format gridlines. Remove top and right labels\n",
    "gl = axes[1].gridlines(crs=ccrs.PlateCarree(), draw_labels=True,\n",
    "                  linewidth=1, color='gray', alpha=0.2, linestyle='--')\n",
    "gl.top_labels, gl.right_labels = False, False\n",
    "\n",
    "# Add seasonal distribution\n",
    "# attempted and failed to make colorbar discrete\n",
    "# making colorbar discrete is fine; struggling with label location\n",
    "# cmap = plt.get_cmap('inferno_r', np.max(completeness_df.values) - np.min(completeness_df.values) + 1)\n",
    "axes[0].set_title('Seasonal distribution of in situ observations')\n",
    "sns.heatmap(completeness_df, ax=axes[0], cmap='inferno_r',\n",
    "                   # linewidths=0.2,\n",
    "            cbar_kws={'label': 'Number of years with at least 1 observation'})\n",
    "axes[0].set_ylabel('Monitoring Station Name')\n",
    "axes[0].set_xlabel('Month')\n",
    "axes[0].set_xticks([0.5, 2.5, 4.5, 6.5, 8.5, 10.5])\n",
    "axes[0].set_xticklabels(['Jan','Mar','May','Jul', 'Sep', 'Nov'])\n",
    "\n",
    "# Plot in situ locations\n",
    "axes[1].set_title('Spatial distribution of in situ observations')\n",
    "geoWQ.plot(ax=axes[1], column='Count', legend=True, legend_kwds={'label': \"Total # of observations\"})\n",
    "# Add upper / middle / lower locations\n",
    "axes[1].plot([-76.8, -76.0], [39.17, 38.84], color='#bd2b20')  # upper/mid\n",
    "axes[1].plot([-76.6, -75.5], [37.82, 38], color='#bd2b20')  # mid/lower\n",
    "axes[1].text(-76.9, 39.45, 'Upper Bay', color='#bd2b20', size=12)\n",
    "axes[1].text(-77.4, 38.8, 'Middle Bay', color='#bd2b20', size=12)\n",
    "axes[1].text(-77.0, 37.5, 'Lower Bay', color='#bd2b20', size=12)\n",
    "\n",
    "\n",
    "plt.tight_layout()\n",
    "\n",
    "if SAVE_FIGS: \n",
    "    plt.savefig('../../figures/insitu_distribution.png', dpi=400, \n",
    "            bbox_inches='tight')"
   ]
  },
  {
   "cell_type": "code",
   "execution_count": null,
   "id": "b4f5bbf4-c540-44e4-869c-d7dd520803bd",
   "metadata": {},
   "outputs": [],
   "source": [
    "ax0 = plt.subplot(121)\n",
    "ax1 = plt.subplot(122, projection=ccrs.PlateCarree())\n",
    "# fig, axes = plt.subplots(1, 2, subplot_kw={'projection': ccrs.PlateCarree()})\n",
    "fig.suptitle('Selected In Situ Validation Stations')\n",
    "\n",
    "fig.set_size_inches(7, 16)\n",
    "# fig.suptitle('Locations of most frequently sampled in situ locations')\n",
    "\n",
    "# Add background features\n",
    "ax1.add_feature(cfeature.COASTLINE, alpha=0.3)\n",
    "ax1.add_feature(cfeature.BORDERS, linestyle=':')\n",
    "ax1.add_feature(cfeature.RIVERS)\n",
    "# ax.coastlines()\n",
    "\n",
    "ax1.set_extent([-77.5, -75.4, 36.6, 39.7])\n",
    "\n",
    "# Add and format gridlines. Remove top and right labels\n",
    "gl = ax1.gridlines(crs=ccrs.PlateCarree(), draw_labels=True,\n",
    "                  linewidth=1, color='gray', alpha=0.2, linestyle='--')\n",
    "gl.top_labels, gl.right_labels = False, False\n",
    "\n",
    "# Add seasonal distribution\n",
    "ax0.set_title('Seasonal distribution of in situ observations')\n",
    "sns.heatmap(completeness_df, ax=ax0, \n",
    "            cbar_kws={'label': 'Number of years with at least 1 observation'})\n",
    "ax0.set_ylabel('Monitoring Station Name')\n",
    "ax0.set_xlabel('Month')\n",
    "\n",
    "# Add MUR to left plot\n",
    "ax1.set_title('Spatial distribution of in situ observations')\n",
    "geoWQ.plot(ax=ax1, column='Count', legend=True)\n",
    "\n",
    "plt.tight_layout()"
   ]
  },
  {
   "cell_type": "code",
   "execution_count": null,
   "id": "e84571df-f1ac-4b32-9a79-4d5cc3c6d83e",
   "metadata": {},
   "outputs": [],
   "source": [
    "axes"
   ]
  },
  {
   "cell_type": "markdown",
   "id": "e89372a9-4ba6-45c2-a104-87796cfbc841",
   "metadata": {},
   "source": [
    "**Top most sampled stations from several areas of the bay**\n",
    "\n",
    "- CB5.1 -- main stem outside the Patuxent River\n",
    "- RET2.4 -- up the Potomac River\n",
    "- CB7.2 -- main stem near the exit of the Bay"
   ]
  },
  {
   "cell_type": "markdown",
   "id": "e18262ba-dad8-4d28-9bd0-d045aff32663",
   "metadata": {},
   "source": [
    "## Compute the Climatologial Value for each Depth and Location"
   ]
  },
  {
   "cell_type": "code",
   "execution_count": 41,
   "id": "4a232313-7c54-4251-8515-6afc58551791",
   "metadata": {},
   "outputs": [],
   "source": [
    "counts = wq_stations.groupby(['Station', wq_stations.SampleDate.dt.year, wq_stations.SampleDate.dt.month]).count()['MeasureValue']\n",
    "counts = pd.DataFrame(counts)\n",
    "counts = counts.rename({'MeasureValue': 'ObsCount'}, axis=1)\n",
    "counts.index = counts.index.set_names(['Station', 'year', 'month'])"
   ]
  },
  {
   "cell_type": "code",
   "execution_count": 42,
   "id": "fc600db0-d9f6-44aa-a7b5-09de6489d7f4",
   "metadata": {},
   "outputs": [],
   "source": [
    "counts['MeasureValue'] = wq_stations.groupby(['Station', wq_stations.SampleDate.dt.month])['MeasureValue'].mean()"
   ]
  },
  {
   "cell_type": "code",
   "execution_count": 43,
   "id": "43dffc39-2b02-4ddb-9336-aea3d5eb4b73",
   "metadata": {},
   "outputs": [
    {
     "data": {
      "text/html": [
       "<div>\n",
       "<style scoped>\n",
       "    .dataframe tbody tr th:only-of-type {\n",
       "        vertical-align: middle;\n",
       "    }\n",
       "\n",
       "    .dataframe tbody tr th {\n",
       "        vertical-align: top;\n",
       "    }\n",
       "\n",
       "    .dataframe thead th {\n",
       "        text-align: right;\n",
       "    }\n",
       "</style>\n",
       "<table border=\"1\" class=\"dataframe\">\n",
       "  <thead>\n",
       "    <tr style=\"text-align: right;\">\n",
       "      <th></th>\n",
       "      <th></th>\n",
       "      <th></th>\n",
       "      <th>ObsCount</th>\n",
       "      <th>MeasureValue</th>\n",
       "    </tr>\n",
       "    <tr>\n",
       "      <th>Station</th>\n",
       "      <th>year</th>\n",
       "      <th>month</th>\n",
       "      <th></th>\n",
       "      <th></th>\n",
       "    </tr>\n",
       "  </thead>\n",
       "  <tbody>\n",
       "    <tr>\n",
       "      <th rowspan=\"5\" valign=\"top\">1AAUA001.39</th>\n",
       "      <th rowspan=\"4\" valign=\"top\">2007</th>\n",
       "      <th>3</th>\n",
       "      <td>1</td>\n",
       "      <td>NaN</td>\n",
       "    </tr>\n",
       "    <tr>\n",
       "      <th>6</th>\n",
       "      <td>1</td>\n",
       "      <td>NaN</td>\n",
       "    </tr>\n",
       "    <tr>\n",
       "      <th>10</th>\n",
       "      <td>1</td>\n",
       "      <td>NaN</td>\n",
       "    </tr>\n",
       "    <tr>\n",
       "      <th>12</th>\n",
       "      <td>1</td>\n",
       "      <td>NaN</td>\n",
       "    </tr>\n",
       "    <tr>\n",
       "      <th>2008</th>\n",
       "      <th>2</th>\n",
       "      <td>1</td>\n",
       "      <td>NaN</td>\n",
       "    </tr>\n",
       "    <tr>\n",
       "      <th>...</th>\n",
       "      <th>...</th>\n",
       "      <th>...</th>\n",
       "      <td>...</td>\n",
       "      <td>...</td>\n",
       "    </tr>\n",
       "    <tr>\n",
       "      <th rowspan=\"5\" valign=\"top\">ZDM0003</th>\n",
       "      <th rowspan=\"5\" valign=\"top\">2004</th>\n",
       "      <th>6</th>\n",
       "      <td>1</td>\n",
       "      <td>NaN</td>\n",
       "    </tr>\n",
       "    <tr>\n",
       "      <th>7</th>\n",
       "      <td>1</td>\n",
       "      <td>NaN</td>\n",
       "    </tr>\n",
       "    <tr>\n",
       "      <th>8</th>\n",
       "      <td>2</td>\n",
       "      <td>NaN</td>\n",
       "    </tr>\n",
       "    <tr>\n",
       "      <th>9</th>\n",
       "      <td>1</td>\n",
       "      <td>NaN</td>\n",
       "    </tr>\n",
       "    <tr>\n",
       "      <th>10</th>\n",
       "      <td>1</td>\n",
       "      <td>NaN</td>\n",
       "    </tr>\n",
       "  </tbody>\n",
       "</table>\n",
       "<p>41858 rows × 2 columns</p>\n",
       "</div>"
      ],
      "text/plain": [
       "                        ObsCount  MeasureValue\n",
       "Station     year month                        \n",
       "1AAUA001.39 2007 3             1           NaN\n",
       "                 6             1           NaN\n",
       "                 10            1           NaN\n",
       "                 12            1           NaN\n",
       "            2008 2             1           NaN\n",
       "...                          ...           ...\n",
       "ZDM0003     2004 6             1           NaN\n",
       "                 7             1           NaN\n",
       "                 8             2           NaN\n",
       "                 9             1           NaN\n",
       "                 10            1           NaN\n",
       "\n",
       "[41858 rows x 2 columns]"
      ]
     },
     "execution_count": 43,
     "metadata": {},
     "output_type": "execute_result"
    }
   ],
   "source": [
    "counts"
   ]
  },
  {
   "cell_type": "code",
   "execution_count": 44,
   "id": "d34516ed-28b6-42a1-bf53-49abbbe2ac0a",
   "metadata": {},
   "outputs": [],
   "source": [
    "wq_clim = wq_stations.groupby(['Station', wq_stations.SampleDate.dt.month])['MeasureValue'].mean(numeric_only=True)"
   ]
  },
  {
   "cell_type": "code",
   "execution_count": 45,
   "id": "02bc7c3b-7e5c-468e-a2cb-b4cf73184d12",
   "metadata": {},
   "outputs": [],
   "source": [
    "wq_clim = wq_clim.dropna().sort_index().reset_index()  \\\n",
    "    .rename(columns={'SampleDate': 'Month', 'MeasureValue': 'ClimValue'})"
   ]
  },
  {
   "cell_type": "code",
   "execution_count": 46,
   "id": "2fb8277b-36f2-4797-a592-61ce847fbcaf",
   "metadata": {},
   "outputs": [
    {
     "data": {
      "text/html": [
       "<div>\n",
       "<style scoped>\n",
       "    .dataframe tbody tr th:only-of-type {\n",
       "        vertical-align: middle;\n",
       "    }\n",
       "\n",
       "    .dataframe tbody tr th {\n",
       "        vertical-align: top;\n",
       "    }\n",
       "\n",
       "    .dataframe thead th {\n",
       "        text-align: right;\n",
       "    }\n",
       "</style>\n",
       "<table border=\"1\" class=\"dataframe\">\n",
       "  <thead>\n",
       "    <tr style=\"text-align: right;\">\n",
       "      <th></th>\n",
       "      <th>Station</th>\n",
       "      <th>Month</th>\n",
       "      <th>ClimValue</th>\n",
       "    </tr>\n",
       "  </thead>\n",
       "  <tbody>\n",
       "    <tr>\n",
       "      <th>0</th>\n",
       "      <td>1AAUA001.39</td>\n",
       "      <td>2</td>\n",
       "      <td>4.90</td>\n",
       "    </tr>\n",
       "    <tr>\n",
       "      <th>1</th>\n",
       "      <td>1AAUA001.39</td>\n",
       "      <td>3</td>\n",
       "      <td>9.25</td>\n",
       "    </tr>\n",
       "    <tr>\n",
       "      <th>2</th>\n",
       "      <td>1AAUA001.39</td>\n",
       "      <td>5</td>\n",
       "      <td>17.90</td>\n",
       "    </tr>\n",
       "    <tr>\n",
       "      <th>3</th>\n",
       "      <td>1AAUA001.39</td>\n",
       "      <td>6</td>\n",
       "      <td>26.20</td>\n",
       "    </tr>\n",
       "    <tr>\n",
       "      <th>4</th>\n",
       "      <td>1AAUA001.39</td>\n",
       "      <td>7</td>\n",
       "      <td>28.00</td>\n",
       "    </tr>\n",
       "    <tr>\n",
       "      <th>...</th>\n",
       "      <td>...</td>\n",
       "      <td>...</td>\n",
       "      <td>...</td>\n",
       "    </tr>\n",
       "    <tr>\n",
       "      <th>6050</th>\n",
       "      <td>ZDM0003</td>\n",
       "      <td>6</td>\n",
       "      <td>25.40</td>\n",
       "    </tr>\n",
       "    <tr>\n",
       "      <th>6051</th>\n",
       "      <td>ZDM0003</td>\n",
       "      <td>7</td>\n",
       "      <td>27.70</td>\n",
       "    </tr>\n",
       "    <tr>\n",
       "      <th>6052</th>\n",
       "      <td>ZDM0003</td>\n",
       "      <td>8</td>\n",
       "      <td>27.70</td>\n",
       "    </tr>\n",
       "    <tr>\n",
       "      <th>6053</th>\n",
       "      <td>ZDM0003</td>\n",
       "      <td>9</td>\n",
       "      <td>24.50</td>\n",
       "    </tr>\n",
       "    <tr>\n",
       "      <th>6054</th>\n",
       "      <td>ZDM0003</td>\n",
       "      <td>10</td>\n",
       "      <td>17.00</td>\n",
       "    </tr>\n",
       "  </tbody>\n",
       "</table>\n",
       "<p>6055 rows × 3 columns</p>\n",
       "</div>"
      ],
      "text/plain": [
       "          Station  Month  ClimValue\n",
       "0     1AAUA001.39      2       4.90\n",
       "1     1AAUA001.39      3       9.25\n",
       "2     1AAUA001.39      5      17.90\n",
       "3     1AAUA001.39      6      26.20\n",
       "4     1AAUA001.39      7      28.00\n",
       "...           ...    ...        ...\n",
       "6050      ZDM0003      6      25.40\n",
       "6051      ZDM0003      7      27.70\n",
       "6052      ZDM0003      8      27.70\n",
       "6053      ZDM0003      9      24.50\n",
       "6054      ZDM0003     10      17.00\n",
       "\n",
       "[6055 rows x 3 columns]"
      ]
     },
     "execution_count": 46,
     "metadata": {},
     "output_type": "execute_result"
    }
   ],
   "source": [
    "wq_clim"
   ]
  },
  {
   "cell_type": "markdown",
   "id": "d3ab7d11-0140-40a0-9d43-9e8915f3d8d0",
   "metadata": {},
   "source": [
    "## Compute Anomalies (delete)"
   ]
  },
  {
   "cell_type": "code",
   "execution_count": null,
   "id": "8b238df0-d926-4c87-90f1-a7b0dc22e880",
   "metadata": {},
   "outputs": [],
   "source": [
    "wq_stations['Month'] = wq_stations.SampleDate.dt.month\n",
    "# Averaging if there are multiple observations at the same depth\n",
    "wq_stations = wq_stations.groupby(['Station', 'SampleDate']).mean(numeric_only=True).drop('Depth', axis=1)\n",
    "wq_stations = wq_stations.reset_index()"
   ]
  },
  {
   "cell_type": "code",
   "execution_count": null,
   "id": "592aefca-3344-4449-acf7-b9391b71d5bb",
   "metadata": {},
   "outputs": [],
   "source": [
    "wq = pd.merge(wq_stations, wq_clim, on=['Station', 'Month'])  \\\n",
    "    .drop(columns=['Month', 'EventId'])"
   ]
  },
  {
   "cell_type": "code",
   "execution_count": null,
   "id": "f54d98bf-7082-4889-b741-be65605c1edb",
   "metadata": {},
   "outputs": [],
   "source": [
    "len(wq.Station.unique())"
   ]
  },
  {
   "cell_type": "code",
   "execution_count": null,
   "id": "6bfee16c-980d-4be4-bd54-024faa5554a4",
   "metadata": {},
   "outputs": [],
   "source": [
    "wq['MeasureAnomaly'] = wq['MeasureValue'] - wq['ClimValue']"
   ]
  },
  {
   "cell_type": "markdown",
   "id": "a9e1776b-1c04-40dc-b13a-c1d9860708b5",
   "metadata": {},
   "source": [
    "## Save"
   ]
  },
  {
   "cell_type": "code",
   "execution_count": 48,
   "id": "108edb5d-1627-476f-bd5a-4e3e42b01a32",
   "metadata": {},
   "outputs": [],
   "source": [
    "path = os.path.join(REPO_ROOT, 'data/interim', 'cbp_stations_climatology_raw_filtered.csv')\n",
    "wq_stations.to_csv(path, index=False)"
   ]
  },
  {
   "cell_type": "code",
   "execution_count": 47,
   "id": "a0e159cb-7f42-47da-ba7c-5fc0e6b312d6",
   "metadata": {},
   "outputs": [
    {
     "data": {
      "text/html": [
       "<div>\n",
       "<style scoped>\n",
       "    .dataframe tbody tr th:only-of-type {\n",
       "        vertical-align: middle;\n",
       "    }\n",
       "\n",
       "    .dataframe tbody tr th {\n",
       "        vertical-align: top;\n",
       "    }\n",
       "\n",
       "    .dataframe thead th {\n",
       "        text-align: right;\n",
       "    }\n",
       "</style>\n",
       "<table border=\"1\" class=\"dataframe\">\n",
       "  <thead>\n",
       "    <tr style=\"text-align: right;\">\n",
       "      <th></th>\n",
       "      <th>Station</th>\n",
       "      <th>SampleDate</th>\n",
       "      <th>MeasureValue</th>\n",
       "      <th>Latitude</th>\n",
       "      <th>Longitude</th>\n",
       "    </tr>\n",
       "  </thead>\n",
       "  <tbody>\n",
       "    <tr>\n",
       "      <th>0</th>\n",
       "      <td>1AAUA001.39</td>\n",
       "      <td>2007-03-22</td>\n",
       "      <td>8.3</td>\n",
       "      <td>38.4000</td>\n",
       "      <td>-77.3200</td>\n",
       "    </tr>\n",
       "    <tr>\n",
       "      <th>1</th>\n",
       "      <td>1AAUA001.39</td>\n",
       "      <td>2007-06-18</td>\n",
       "      <td>26.2</td>\n",
       "      <td>38.4000</td>\n",
       "      <td>-77.3200</td>\n",
       "    </tr>\n",
       "    <tr>\n",
       "      <th>2</th>\n",
       "      <td>1AAUA001.39</td>\n",
       "      <td>2007-10-29</td>\n",
       "      <td>14.5</td>\n",
       "      <td>38.4000</td>\n",
       "      <td>-77.3200</td>\n",
       "    </tr>\n",
       "    <tr>\n",
       "      <th>3</th>\n",
       "      <td>1AAUA001.39</td>\n",
       "      <td>2007-12-10</td>\n",
       "      <td>5.2</td>\n",
       "      <td>38.4000</td>\n",
       "      <td>-77.3200</td>\n",
       "    </tr>\n",
       "    <tr>\n",
       "      <th>4</th>\n",
       "      <td>1AAUA001.39</td>\n",
       "      <td>2008-02-04</td>\n",
       "      <td>4.9</td>\n",
       "      <td>38.4000</td>\n",
       "      <td>-77.3200</td>\n",
       "    </tr>\n",
       "    <tr>\n",
       "      <th>...</th>\n",
       "      <td>...</td>\n",
       "      <td>...</td>\n",
       "      <td>...</td>\n",
       "      <td>...</td>\n",
       "      <td>...</td>\n",
       "    </tr>\n",
       "    <tr>\n",
       "      <th>51139</th>\n",
       "      <td>ZDM0003</td>\n",
       "      <td>2004-07-08</td>\n",
       "      <td>27.7</td>\n",
       "      <td>38.9362</td>\n",
       "      <td>-76.5067</td>\n",
       "    </tr>\n",
       "    <tr>\n",
       "      <th>51140</th>\n",
       "      <td>ZDM0003</td>\n",
       "      <td>2004-08-05</td>\n",
       "      <td>29.0</td>\n",
       "      <td>38.9362</td>\n",
       "      <td>-76.5067</td>\n",
       "    </tr>\n",
       "    <tr>\n",
       "      <th>51141</th>\n",
       "      <td>ZDM0003</td>\n",
       "      <td>2004-08-19</td>\n",
       "      <td>26.4</td>\n",
       "      <td>38.9362</td>\n",
       "      <td>-76.5067</td>\n",
       "    </tr>\n",
       "    <tr>\n",
       "      <th>51142</th>\n",
       "      <td>ZDM0003</td>\n",
       "      <td>2004-09-15</td>\n",
       "      <td>24.5</td>\n",
       "      <td>38.9362</td>\n",
       "      <td>-76.5067</td>\n",
       "    </tr>\n",
       "    <tr>\n",
       "      <th>51143</th>\n",
       "      <td>ZDM0003</td>\n",
       "      <td>2004-10-13</td>\n",
       "      <td>17.0</td>\n",
       "      <td>38.9362</td>\n",
       "      <td>-76.5067</td>\n",
       "    </tr>\n",
       "  </tbody>\n",
       "</table>\n",
       "<p>51144 rows × 5 columns</p>\n",
       "</div>"
      ],
      "text/plain": [
       "           Station SampleDate  MeasureValue  Latitude  Longitude\n",
       "0      1AAUA001.39 2007-03-22           8.3   38.4000   -77.3200\n",
       "1      1AAUA001.39 2007-06-18          26.2   38.4000   -77.3200\n",
       "2      1AAUA001.39 2007-10-29          14.5   38.4000   -77.3200\n",
       "3      1AAUA001.39 2007-12-10           5.2   38.4000   -77.3200\n",
       "4      1AAUA001.39 2008-02-04           4.9   38.4000   -77.3200\n",
       "...            ...        ...           ...       ...        ...\n",
       "51139      ZDM0003 2004-07-08          27.7   38.9362   -76.5067\n",
       "51140      ZDM0003 2004-08-05          29.0   38.9362   -76.5067\n",
       "51141      ZDM0003 2004-08-19          26.4   38.9362   -76.5067\n",
       "51142      ZDM0003 2004-09-15          24.5   38.9362   -76.5067\n",
       "51143      ZDM0003 2004-10-13          17.0   38.9362   -76.5067\n",
       "\n",
       "[51144 rows x 5 columns]"
      ]
     },
     "execution_count": 47,
     "metadata": {},
     "output_type": "execute_result"
    }
   ],
   "source": [
    "wq_stations"
   ]
  },
  {
   "cell_type": "code",
   "execution_count": null,
   "id": "ad9e20e5-cc0e-49d9-915e-d0f2f9ac6875",
   "metadata": {},
   "outputs": [],
   "source": []
  },
  {
   "cell_type": "code",
   "execution_count": null,
   "id": "b18c039b-ccaf-48df-a0fc-4e7302a485fa",
   "metadata": {},
   "outputs": [],
   "source": []
  },
  {
   "cell_type": "code",
   "execution_count": null,
   "id": "b4a74ed8-0d9d-4034-aaa6-7b5e8718d786",
   "metadata": {},
   "outputs": [],
   "source": []
  },
  {
   "cell_type": "code",
   "execution_count": null,
   "id": "b1db0b92-0b26-40e3-9249-9f64834b75c0",
   "metadata": {},
   "outputs": [],
   "source": []
  },
  {
   "cell_type": "markdown",
   "id": "58cdb576-dc6d-4552-aee3-8097c6d7f694",
   "metadata": {},
   "source": [
    "## Exploring Feasibility of creating a climatology"
   ]
  },
  {
   "cell_type": "code",
   "execution_count": null,
   "id": "559f4d30-4c23-42e1-9423-ee9ba34aface",
   "metadata": {},
   "outputs": [],
   "source": [
    "cb51 = wq_clim[wq_clim.Station == 'CB5.1'].reset_index()\n",
    "cb72 = wq_clim[wq_clim.Station == 'CB7.2'].reset_index()"
   ]
  },
  {
   "cell_type": "code",
   "execution_count": null,
   "id": "13abc59c-fe0d-49b4-92f3-16c597a02674",
   "metadata": {},
   "outputs": [],
   "source": [
    "cb51.SampleDate.hist(bins=20)"
   ]
  },
  {
   "cell_type": "markdown",
   "id": "90af2ed9-df41-44c9-94bb-7503d9a907c6",
   "metadata": {},
   "source": [
    "Seems to be one station per month. Exact dates do not repeat exactly. We can get monthly climatologies, then. To compare to the sst I could either\n",
    "1. average a month together\n",
    "2. pick out specifically the same days as the in situ\n",
    "\n",
    "I'm leaning toward no. 2, because it feels like a more similar comparison"
   ]
  },
  {
   "cell_type": "code",
   "execution_count": null,
   "id": "af3d6f2b-7b6c-4496-a137-4a432b07228a",
   "metadata": {},
   "outputs": [],
   "source": [
    "cb51.groupby([cb51.SampleDate.dt.month, 'Depth']).count()"
   ]
  },
  {
   "cell_type": "markdown",
   "id": "8a3e8321-cd5a-48f7-9ca0-b7f0377c1241",
   "metadata": {},
   "source": [
    "Honestly at least between these two the depths are more standard than I gave them credit for. I can probably avoid interpolation, but I will still drop depths with fewer than a certain number of points."
   ]
  },
  {
   "cell_type": "code",
   "execution_count": null,
   "id": "741f6797-8cc9-4587-9c53-246a25ae0173",
   "metadata": {},
   "outputs": [],
   "source": [
    "depths_cb72 = cb72.Depth.unique()"
   ]
  },
  {
   "cell_type": "code",
   "execution_count": null,
   "id": "8c8d54d8-a5fb-443d-b600-9fa4423befb2",
   "metadata": {},
   "outputs": [],
   "source": [
    "depths_cb72"
   ]
  },
  {
   "cell_type": "code",
   "execution_count": null,
   "id": "1e14fbf0-21bf-47e6-8f54-d7b92cbd4056",
   "metadata": {},
   "outputs": [],
   "source": [
    "depths = cb51.Depth.unique()"
   ]
  },
  {
   "cell_type": "code",
   "execution_count": null,
   "id": "de5b0731-d5ab-49df-9872-0ba59baa3bf1",
   "metadata": {},
   "outputs": [],
   "source": [
    "depths"
   ]
  },
  {
   "cell_type": "markdown",
   "id": "f8c291b3-8864-486b-ab9a-1da8658dda02",
   "metadata": {},
   "source": [
    "This is the function that is going to have to get more complex. Need to check counts, for example."
   ]
  },
  {
   "cell_type": "code",
   "execution_count": null,
   "id": "c7502efd-4355-4a81-90a9-7bb0625aea4d",
   "metadata": {},
   "outputs": [],
   "source": []
  },
  {
   "cell_type": "code",
   "execution_count": null,
   "id": "8d570193-58aa-48f1-b1bf-4e5562d0913d",
   "metadata": {},
   "outputs": [],
   "source": []
  },
  {
   "cell_type": "code",
   "execution_count": null,
   "id": "028463e3-57d7-43b6-bf2f-7ce5602ee5af",
   "metadata": {},
   "outputs": [],
   "source": []
  },
  {
   "cell_type": "markdown",
   "id": "4e54d764-60fc-4787-86c4-c5b603a37e3f",
   "metadata": {},
   "source": [
    "## Plotting Climatologies"
   ]
  },
  {
   "cell_type": "markdown",
   "id": "cfe7f901-179c-4651-8518-d3cbcf4d9939",
   "metadata": {},
   "source": [
    "### Preprocessing"
   ]
  },
  {
   "cell_type": "markdown",
   "id": "8d3d2d5f-121b-49c2-8621-3bfcde8e64dd",
   "metadata": {},
   "source": [
    "1 - adding relevant datetime columns"
   ]
  },
  {
   "cell_type": "code",
   "execution_count": null,
   "id": "3b4c6645-fa6e-4953-a3b1-d58bd58aa0fa",
   "metadata": {},
   "outputs": [],
   "source": [
    "wq['month'] = wq['SampleDate'].dt.month\n",
    "wq['day'] = wq['SampleDate'].dt.day"
   ]
  },
  {
   "cell_type": "markdown",
   "id": "d7c215aa-f303-429b-ad3c-1c1acd7ed48a",
   "metadata": {},
   "source": [
    "2 - sorting into each station"
   ]
  },
  {
   "cell_type": "code",
   "execution_count": null,
   "id": "e1b33029-bfa1-462a-b968-80e66238eea0",
   "metadata": {},
   "outputs": [],
   "source": [
    "cb51 = wq[wq.Station == 'CB5.1'].reset_index()\n",
    "ret24 = wq[wq.Station == 'RET2.4'].reset_index()\n",
    "cb72 = wq[wq.Station == 'CB7.2'].reset_index()"
   ]
  },
  {
   "cell_type": "markdown",
   "id": "0018f305-a0c4-4965-a405-6da7e8a969ec",
   "metadata": {},
   "source": [
    "### Compute means"
   ]
  },
  {
   "cell_type": "code",
   "execution_count": null,
   "id": "96079a3a-d3c8-4424-95bf-f4935d38d35d",
   "metadata": {},
   "outputs": [],
   "source": [
    "cb51_grouped = cb51.groupby(['month', 'Depth']) \\\n",
    "    .mean(numeric_only=True)['MeasureValue'].reset_index()"
   ]
  },
  {
   "cell_type": "markdown",
   "id": "b83ecea3-1c24-4ccb-8a28-ec21c580bdb6",
   "metadata": {},
   "source": [
    "### Plot"
   ]
  },
  {
   "cell_type": "code",
   "execution_count": null,
   "id": "87315d7d-c30f-4f4f-a8e5-b6820a3bdd11",
   "metadata": {},
   "outputs": [],
   "source": [
    "fig, ax = plt.subplots(1,1)\n",
    "cb51_grouped[cb51_grouped.month == 1].plot.scatter(ax=ax, x='MeasureValue', y='Depth', color='yellow')\n",
    "cb51_grouped[cb51_grouped.month == 2].plot.scatter(ax=ax, x='MeasureValue', y='Depth', color='orange')\n",
    "cb51_grouped[cb51_grouped.month == 3].plot.scatter(ax=ax, x='MeasureValue', y='Depth', color='red')\n",
    "cb51_grouped[cb51_grouped.month == 4].plot.scatter(ax=ax, x='MeasureValue', y='Depth', color='pink')\n",
    "cb51_grouped[cb51_grouped.month == 5].plot.scatter(ax=ax, x='MeasureValue', y='Depth', color='lavender')\n",
    "cb51_grouped[cb51_grouped.month == 6].plot.scatter(ax=ax, x='MeasureValue', y='Depth', color='purple')\n",
    "cb51_grouped[cb51_grouped.month == 7].plot.scatter(ax=ax, x='MeasureValue', y='Depth', color='darkcyan')\n",
    "cb51_grouped[cb51_grouped.month == 8].plot.scatter(ax=ax, x='MeasureValue', y='Depth', color='blue')\n",
    "cb51_grouped[cb51_grouped.month == 9].plot.scatter(ax=ax, x='MeasureValue', y='Depth', color='green')\n",
    "cb51_grouped[cb51_grouped.month == 10].plot.scatter(ax=ax, x='MeasureValue', y='Depth', color='darkgreen')\n",
    "cb51_grouped[cb51_grouped.month == 11].plot.scatter(ax=ax, x='MeasureValue', y='Depth', color='grey')\n",
    "cb51_grouped[cb51_grouped.month == 12].plot.scatter(ax=ax, x='MeasureValue', y='Depth', color='black')"
   ]
  },
  {
   "cell_type": "code",
   "execution_count": null,
   "id": "4d282ee3-58dd-48fe-bfac-9abe9c9e2bbd",
   "metadata": {
    "tags": []
   },
   "outputs": [],
   "source": [
    "cb51_grouped.pivot(index='MeasureValue', columns='month', values='Depth')"
   ]
  },
  {
   "cell_type": "markdown",
   "id": "db912e03-5cd1-4140-b11d-4cb9f5b725ec",
   "metadata": {},
   "source": [
    "### Plot"
   ]
  },
  {
   "cell_type": "code",
   "execution_count": null,
   "id": "6380ac12-4eee-470e-975f-36d9f96ac927",
   "metadata": {},
   "outputs": [],
   "source": [
    "df = cb51_grouped.reset_index().pivot(index='month', \n",
    "                                      columns='Depth', values='MeasureValue')"
   ]
  },
  {
   "cell_type": "code",
   "execution_count": null,
   "id": "198a3670-6c76-4c4a-b5d6-7c150dfbfd85",
   "metadata": {},
   "outputs": [],
   "source": [
    "df.plot()"
   ]
  },
  {
   "cell_type": "code",
   "execution_count": null,
   "id": "61ac65e4-50b3-4e52-a84e-c508f24b88b9",
   "metadata": {},
   "outputs": [],
   "source": [
    "df = pd.DataFrame([['red', 0, 0], ['red', 1, 1], ['red', 2, 2], ['red', 3, 3], ['red', 4, 4], ['red', 5, 5], ['red', 6, 6], ['red', 7, 7], ['red', 8, 8], ['red', 9, 9], ['blue', 0, 0], ['blue', 1, 1], ['blue', 2, 4], ['blue', 3, 9], ['blue', 4, 16], ['blue', 5, 25], ['blue', 6, 36], ['blue', 7, 49], ['blue', 8, 64], ['blue', 9, 81]],\n",
    "                  columns=['color', 'x', 'y'])\n",
    "df"
   ]
  },
  {
   "cell_type": "code",
   "execution_count": null,
   "id": "e52b5dd9-018e-4ca2-bdab-f1eee46860d1",
   "metadata": {},
   "outputs": [],
   "source": [
    "# pivot the data into the correct shape\n",
    "df = df.pivot(index='x', columns='color', values='y')\n",
    "df"
   ]
  },
  {
   "cell_type": "code",
   "execution_count": null,
   "id": "802ca2b0-4944-41ea-9aec-e5fe56aeb4f2",
   "metadata": {},
   "outputs": [],
   "source": [
    "# plot the pivoted dataframe; if the column names aren't colors, remove color=df.columns\n",
    "df.plot(color=df.columns, figsize=(5, 3))"
   ]
  },
  {
   "cell_type": "code",
   "execution_count": null,
   "id": "b3f9f092-ef90-4c4f-a80a-56d6dfce1861",
   "metadata": {},
   "outputs": [],
   "source": []
  },
  {
   "cell_type": "code",
   "execution_count": null,
   "id": "4caefd50-ed5d-4c24-bff9-edc00dbf9bed",
   "metadata": {},
   "outputs": [],
   "source": [
    "ts = pd.Series(np.random.randn(1000), index=pd.date_range(\"1/1/2000\", periods=1000))\n",
    "df = pd.DataFrame(np.random.randn(1000, 4), index=ts.index, columns=list(\"ABCD\"))\n",
    "\n",
    "df = df.cumsum()\n",
    "df"
   ]
  },
  {
   "cell_type": "code",
   "execution_count": null,
   "id": "174a90d3-6bfb-4ed6-8cd7-8b4259947f8e",
   "metadata": {},
   "outputs": [],
   "source": []
  },
  {
   "cell_type": "code",
   "execution_count": null,
   "id": "68b5322b-dac1-47ea-bb3f-f1729cc497b4",
   "metadata": {},
   "outputs": [],
   "source": []
  },
  {
   "cell_type": "markdown",
   "id": "7c4180ca-f55f-4211-b545-88515869560d",
   "metadata": {
    "tags": []
   },
   "source": [
    "## Monthly Climatology Plot for One Station"
   ]
  },
  {
   "cell_type": "markdown",
   "id": "c2c35410-fb18-46b3-935a-40fb2046ca66",
   "metadata": {},
   "source": [
    "### Calculate"
   ]
  },
  {
   "cell_type": "code",
   "execution_count": null,
   "id": "5cd4ddf0-3dd7-4388-9a70-2143cbaee40c",
   "metadata": {},
   "outputs": [],
   "source": [
    "cb51 = wq_stations[wq_stations.Station == 'CB5.1'].reset_index()"
   ]
  },
  {
   "cell_type": "code",
   "execution_count": null,
   "id": "67f5e4d8-a6a0-4840-9edf-9130987f6e16",
   "metadata": {},
   "outputs": [],
   "source": [
    "def filter_mean(df):\n",
    "    # 19 years of data right now\n",
    "    if len(df) < 18:\n",
    "        # print('fewer than 15 points. Dropping month', df.SampleDate.dt.month.iloc[0],\n",
    "        #       'at depth', df.Depth.iloc[0])\n",
    "        val = np.nan\n",
    "    else:\n",
    "        val = np.mean(df.MeasureValue)\n",
    "    return val"
   ]
  },
  {
   "cell_type": "code",
   "execution_count": null,
   "id": "8ed17769-8e65-4d8c-beb0-7a11d0609edc",
   "metadata": {
    "tags": []
   },
   "outputs": [],
   "source": [
    "# Group the point by month and depth and average points\n",
    "cb51_clim = cb51.drop(['index', 'EventId'], axis=1) \\\n",
    "    .groupby([cb51.SampleDate.dt.month, 'Depth']).apply(filter_mean)\n",
    "# Reformat\n",
    "cb51_clim = cb51_clim.dropna().sort_index().reset_index(name='MeasureValue')"
   ]
  },
  {
   "cell_type": "markdown",
   "id": "4e6c0bd0-1646-40d9-a095-e3ca0ea046d6",
   "metadata": {},
   "source": [
    "### Plot the Climatology for one station"
   ]
  },
  {
   "cell_type": "code",
   "execution_count": null,
   "id": "5ebb063f-9160-4ca4-8513-cf034fa18ffb",
   "metadata": {},
   "outputs": [],
   "source": [
    "# Make months easier to read\n",
    "# TODO is this guaranteed to keep its order?\n",
    "months_mapping = {\n",
    "    1: 'Jan', 2: 'Feb', 3: 'Mar', 4: 'Apr', 5: 'May', 6: 'Jun', 7: 'Jul', 8: 'Aug', \n",
    "    9: 'Sep', 10: 'Oct', 11: 'Nov', 12: 'Dec'\n",
    "}\n",
    "cb51_clim = cb51_clim.replace({'SampleDate': months_mapping})"
   ]
  },
  {
   "cell_type": "code",
   "execution_count": null,
   "id": "5aebed53-0b4f-4220-ae9f-f649e5642bcd",
   "metadata": {},
   "outputs": [],
   "source": [
    "fig, ax = plt.subplots()\n",
    "fig.set_size_inches(10, 5)\n",
    "fig.suptitle('Monthly Climtological Temperatures for Station CB5.1 (main stem outside Patuxent)')\n",
    "\n",
    "# Format the colorbar\n",
    "cmap = plt.cm.twilight\n",
    "norm = matplotlib.colors.BoundaryNorm(range(1, 15), cmap.N)\n",
    "sm = plt.cm.ScalarMappable(norm=norm, cmap=cmap)\n",
    "# Assign a color to each month\n",
    "color_dict = {}\n",
    "months = months_mapping.values()\n",
    "for i, month in enumerate(months):\n",
    "    color_dict[month] = sm.to_rgba(i+1)\n",
    "\n",
    "# Plot the data\n",
    "cb51_clim.plot.scatter(ax=ax,x='MeasureValue', y='Depth', \n",
    "                       color = [color_dict[i] for i in cb51_clim['SampleDate']])\n",
    "\n",
    "# Format the axes and lables\n",
    "ax.invert_yaxis()\n",
    "ax.tick_params(top=True, labeltop=True, bottom=False, labelbottom=False)\n",
    "ax.set_xlabel('Observed Temperature ($^o$C)', loc='center')\n",
    "ax.set_ylabel('Depth (m)')\n",
    "ax.xaxis.set_label_position('top')\n",
    "\n",
    "fig.colorbar(sm, orientation='horizontal', label=\"Month\")\n",
    "\n",
    "plt.tight_layout()"
   ]
  },
  {
   "cell_type": "code",
   "execution_count": null,
   "id": "e7079a5e-89cd-4b1e-b768-b8a80131850d",
   "metadata": {},
   "outputs": [],
   "source": []
  },
  {
   "cell_type": "markdown",
   "id": "cd9cf60c-55c3-42be-b94d-ec1c08fca34b",
   "metadata": {
    "tags": []
   },
   "source": [
    "## Side quest about ocean preconditioning"
   ]
  },
  {
   "cell_type": "code",
   "execution_count": null,
   "id": "8fd1c2bb-7323-4e1b-b8f5-e9358d5e49ec",
   "metadata": {},
   "outputs": [],
   "source": [
    "cb63 = wq[wq.Station == 'CB6.3']\n",
    "# cb62 = wq[wq.Station == 'CB6.2']"
   ]
  },
  {
   "cell_type": "code",
   "execution_count": null,
   "id": "8f38093e-a061-44f2-b9d5-a0a8b6d8adeb",
   "metadata": {},
   "outputs": [],
   "source": [
    "cb63 = cb63[(cb63.SampleDate > '2016-07-10') & (cb63.SampleDate < '2016-09-30')]\n",
    "# cb62 = cb62[(cb62.SampleDate > '2016-07-10') & (cb62.SampleDate < '2016-09-30')]"
   ]
  },
  {
   "cell_type": "markdown",
   "id": "9053c07d-4862-4978-83ee-dcaa967b05ab",
   "metadata": {},
   "source": [
    "Samples taken: July 11th, July 25th, August 8th, August 29th, Sept 26"
   ]
  },
  {
   "cell_type": "code",
   "execution_count": null,
   "id": "4b7a44ef-ed9d-419a-a848-4b8cec565262",
   "metadata": {},
   "outputs": [],
   "source": [
    "cb63"
   ]
  },
  {
   "cell_type": "code",
   "execution_count": null,
   "id": "8578ded2-516b-4ee2-846a-1ebcb7993be0",
   "metadata": {},
   "outputs": [],
   "source": [
    "print(cb63.SampleDate.unique())\n",
    "# print(cb62.SampleDate.unique())"
   ]
  },
  {
   "cell_type": "code",
   "execution_count": null,
   "id": "bc4500f7-be32-4ded-8cd0-dc7a1ec1588b",
   "metadata": {},
   "outputs": [],
   "source": [
    "cb63[cb63.SampleDate == d]"
   ]
  },
  {
   "cell_type": "code",
   "execution_count": null,
   "id": "a274444f-0ed4-4d17-a3dd-ad49fef8aaaa",
   "metadata": {},
   "outputs": [],
   "source": [
    "fig, axes = plt.subplots(2, 3)\n",
    "fig.set_size_inches(10, 6)\n",
    "\n",
    "for ax in axes.flatten():\n",
    "    ax.invert_yaxis()\n",
    "    ax.set_xlim([24, 30])\n",
    "    \n",
    "dates = ['2016-07-11', '2016-07-25', '2016-08-08', '2016-08-29',\n",
    "        '2016-09-26']\n",
    "\n",
    "d = dates[0]\n",
    "cb63[cb63.SampleDate == d].plot.scatter(\n",
    "    ax=axes[0, 0], y='Depth', x='MeasureValue', title=d\n",
    ")\n",
    "\n",
    "d = dates[1]\n",
    "cb63[cb63.SampleDate == d].plot.scatter(\n",
    "    ax=axes[0, 1], y='Depth', x='MeasureValue', title=d\n",
    ")\n",
    "\n",
    "d = dates[2]\n",
    "cb63[cb63.SampleDate == d].plot.scatter(\n",
    "    ax=axes[0, 2], y='Depth', x='MeasureValue', title=d\n",
    ")\n",
    "\n",
    "d = dates[3]\n",
    "cb63[cb63.SampleDate == d].plot.scatter(\n",
    "    ax=axes[1, 0], y='Depth', x='MeasureValue', title=d\n",
    ")\n",
    "\n",
    "d = dates[4]\n",
    "cb63[cb63.SampleDate == d].plot.scatter(\n",
    "    ax=axes[1, 1], y='Depth', x='MeasureValue', title=d\n",
    ")\n",
    "\n",
    "plt.tight_layout()"
   ]
  }
 ],
 "metadata": {
  "kernelspec": {
   "display_name": "Python [conda env:chesapeake_mhw]",
   "language": "python",
   "name": "conda-env-chesapeake_mhw-py"
  },
  "language_info": {
   "codemirror_mode": {
    "name": "ipython",
    "version": 3
   },
   "file_extension": ".py",
   "mimetype": "text/x-python",
   "name": "python",
   "nbconvert_exporter": "python",
   "pygments_lexer": "ipython3",
   "version": "3.11.0"
  }
 },
 "nbformat": 4,
 "nbformat_minor": 5
}
