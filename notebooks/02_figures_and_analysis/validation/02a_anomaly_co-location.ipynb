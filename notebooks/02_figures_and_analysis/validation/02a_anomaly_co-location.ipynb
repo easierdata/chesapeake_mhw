{
 "cells": [
  {
   "cell_type": "markdown",
   "id": "0a1c6909-e4a9-4323-9ac6-b217292f5821",
   "metadata": {},
   "source": [
    "# Co-locating Temperature Anomaly Values between CBP Monitoring Stations and Satellite SST"
   ]
  },
  {
   "cell_type": "markdown",
   "id": "d24a0b76-1421-496e-b866-440f9cde6638",
   "metadata": {},
   "source": [
    "This script creates a csv which holds the corresponding validation data points from both Chesapeake Bay Program's (CBP) Water Quality dataset and the two satellite datasets. The csv contains one row for each day and pixel in which there was a CBP validation point, and either a MUR or a Geopolar satellite pixel.\n",
    "Output: csv of temperature values that can be observed in the satellite SST datasets and the in situ CBP data"
   ]
  },
  {
   "cell_type": "code",
   "execution_count": 1,
   "id": "f567369a-ef3f-4241-bfaa-b08607710133",
   "metadata": {},
   "outputs": [],
   "source": [
    "import os\n",
    "import warnings\n",
    "\n",
    "import xarray as xr\n",
    "import pandas as pd\n",
    "import numpy as np\n",
    "import matplotlib.pyplot as plt\n",
    "import geopandas as gpd"
   ]
  },
  {
   "cell_type": "code",
   "execution_count": 2,
   "id": "ee8a3d4c-9adf-4df8-b419-383e0d56581c",
   "metadata": {},
   "outputs": [],
   "source": [
    "REPO_ROOT = '/Users/rwegener/repos/chesapeake_mhw'\n",
    "SAVE_FIGS = False"
   ]
  },
  {
   "cell_type": "markdown",
   "id": "c318d4c1-5708-49c3-a528-77e7c7717387",
   "metadata": {
    "tags": []
   },
   "source": [
    "## Read CBay Program In Situ Anomaly Data"
   ]
  },
  {
   "cell_type": "code",
   "execution_count": 3,
   "id": "a27e8902-8ee5-4fdc-8b92-2c0347967107",
   "metadata": {},
   "outputs": [],
   "source": [
    "path = os.path.join(REPO_ROOT, 'data/interim', 'cbp_stations_climatology_anomaly_filtered.csv')\n",
    "wq = pd.read_csv(path, parse_dates=[1])"
   ]
  },
  {
   "cell_type": "markdown",
   "id": "3ce9af80-67f8-4fbb-8730-8b3df32fe4c7",
   "metadata": {
    "jp-MarkdownHeadingCollapsed": true,
    "tags": []
   },
   "source": [
    "#### Probably getting deleted"
   ]
  },
  {
   "cell_type": "code",
   "execution_count": null,
   "id": "0befa3c5-cb1b-46ce-b0b6-6c4e676cac69",
   "metadata": {},
   "outputs": [],
   "source": [
    "wq['SampleDate'] = pd.to_datetime(wq.SampleDate)"
   ]
  },
  {
   "cell_type": "markdown",
   "id": "257ba1dd-3477-4a93-b3bd-63e77174532f",
   "metadata": {},
   "source": [
    "**Layer Codes**\n",
    "from page 33 of [the database schema](https://d18lev1ok5leia.cloudfront.net/chesapeakebay/documents/cbwqdb2004_rb.pdf).\n",
    "| Code | Meaning|\n",
    "| :--: | :--: |\n",
    "| AB | FIXED ABOVE BOTTOM |\n",
    "| AP | ABOVE PYCNOCLINE |\n",
    "| B | BOTTOM |\n",
    "| BP | BELOW PYCNOCLINE |\n",
    "| BS | FLOATING BELOW SURFACE |\n",
    "| I | INTEGRATED |\n",
    "| M | MID-DEPTH |\n",
    "| M1 | MIDDLE 1/3 OF TOTAL STATION DEPTH |\n",
    "| M2 | MIDDLE 2/3 OF TOTAL STATION DEPTH |\n",
    "| S | SURFACE |\n",
    "| VP | VERTICAL PROFILE |"
   ]
  },
  {
   "cell_type": "code",
   "execution_count": null,
   "id": "9613fc6b-f742-471e-a13b-ad03e88f99f3",
   "metadata": {},
   "outputs": [],
   "source": [
    "# Select only samples taken at mid-depths, below the pycnocline, or as part of a vertical profile\n",
    "# wq = wq[(wq.Layer == 'BP') | (wq.Layer == 'M') | (wq.Layer == 'M1') | \\\n",
    "#         (wq.Layer == 'M2') | (wq.Layer == 'VP')]"
   ]
  },
  {
   "cell_type": "markdown",
   "id": "ee38d47d-943a-4aab-99f2-045e0d3024fe",
   "metadata": {
    "jp-MarkdownHeadingCollapsed": true,
    "tags": []
   },
   "source": [
    "## Filtering to one depth per location (delete)"
   ]
  },
  {
   "cell_type": "code",
   "execution_count": 4,
   "id": "0aaf0317-d0ad-4226-9cf2-75be14cd6585",
   "metadata": {},
   "outputs": [
    {
     "data": {
      "text/html": [
       "<div>\n",
       "<style scoped>\n",
       "    .dataframe tbody tr th:only-of-type {\n",
       "        vertical-align: middle;\n",
       "    }\n",
       "\n",
       "    .dataframe tbody tr th {\n",
       "        vertical-align: top;\n",
       "    }\n",
       "\n",
       "    .dataframe thead th {\n",
       "        text-align: right;\n",
       "    }\n",
       "</style>\n",
       "<table border=\"1\" class=\"dataframe\">\n",
       "  <thead>\n",
       "    <tr style=\"text-align: right;\">\n",
       "      <th></th>\n",
       "      <th>Station</th>\n",
       "      <th>SampleDate</th>\n",
       "      <th>MeasureValue</th>\n",
       "      <th>Latitude</th>\n",
       "      <th>Longitude</th>\n",
       "      <th>ClimValue</th>\n",
       "      <th>MeasureAnomaly</th>\n",
       "      <th>geometry</th>\n",
       "    </tr>\n",
       "  </thead>\n",
       "  <tbody>\n",
       "    <tr>\n",
       "      <th>0</th>\n",
       "      <td>CB2.1</td>\n",
       "      <td>2003-01-15</td>\n",
       "      <td>1.10</td>\n",
       "      <td>39.44149</td>\n",
       "      <td>-76.02599</td>\n",
       "      <td>3.138462</td>\n",
       "      <td>-2.038462</td>\n",
       "      <td>POINT (-76.02599 39.44149)</td>\n",
       "    </tr>\n",
       "    <tr>\n",
       "      <th>1</th>\n",
       "      <td>CB2.1</td>\n",
       "      <td>2004-01-14</td>\n",
       "      <td>0.30</td>\n",
       "      <td>39.44149</td>\n",
       "      <td>-76.02599</td>\n",
       "      <td>3.138462</td>\n",
       "      <td>-2.838462</td>\n",
       "      <td>POINT (-76.02599 39.44149)</td>\n",
       "    </tr>\n",
       "    <tr>\n",
       "      <th>2</th>\n",
       "      <td>CB2.1</td>\n",
       "      <td>2005-01-13</td>\n",
       "      <td>4.90</td>\n",
       "      <td>39.44149</td>\n",
       "      <td>-76.02599</td>\n",
       "      <td>3.138462</td>\n",
       "      <td>1.761538</td>\n",
       "      <td>POINT (-76.02599 39.44149)</td>\n",
       "    </tr>\n",
       "    <tr>\n",
       "      <th>3</th>\n",
       "      <td>CB2.1</td>\n",
       "      <td>2006-01-12</td>\n",
       "      <td>4.60</td>\n",
       "      <td>39.44149</td>\n",
       "      <td>-76.02599</td>\n",
       "      <td>3.138462</td>\n",
       "      <td>1.461538</td>\n",
       "      <td>POINT (-76.02599 39.44149)</td>\n",
       "    </tr>\n",
       "    <tr>\n",
       "      <th>4</th>\n",
       "      <td>CB2.1</td>\n",
       "      <td>2007-01-12</td>\n",
       "      <td>5.30</td>\n",
       "      <td>39.44149</td>\n",
       "      <td>-76.02599</td>\n",
       "      <td>3.138462</td>\n",
       "      <td>2.161538</td>\n",
       "      <td>POINT (-76.02599 39.44149)</td>\n",
       "    </tr>\n",
       "    <tr>\n",
       "      <th>...</th>\n",
       "      <td>...</td>\n",
       "      <td>...</td>\n",
       "      <td>...</td>\n",
       "      <td>...</td>\n",
       "      <td>...</td>\n",
       "      <td>...</td>\n",
       "      <td>...</td>\n",
       "      <td>...</td>\n",
       "    </tr>\n",
       "    <tr>\n",
       "      <th>15758</th>\n",
       "      <td>WT8.3</td>\n",
       "      <td>2018-02-15</td>\n",
       "      <td>3.60</td>\n",
       "      <td>38.84250</td>\n",
       "      <td>-76.53410</td>\n",
       "      <td>3.915625</td>\n",
       "      <td>-0.315625</td>\n",
       "      <td>POINT (-76.5341 38.8425)</td>\n",
       "    </tr>\n",
       "    <tr>\n",
       "      <th>15759</th>\n",
       "      <td>WT8.3</td>\n",
       "      <td>2019-02-11</td>\n",
       "      <td>3.90</td>\n",
       "      <td>38.84250</td>\n",
       "      <td>-76.53410</td>\n",
       "      <td>3.915625</td>\n",
       "      <td>-0.015625</td>\n",
       "      <td>POINT (-76.5341 38.8425)</td>\n",
       "    </tr>\n",
       "    <tr>\n",
       "      <th>15760</th>\n",
       "      <td>WT8.3</td>\n",
       "      <td>2020-02-13</td>\n",
       "      <td>7.00</td>\n",
       "      <td>38.84250</td>\n",
       "      <td>-76.53410</td>\n",
       "      <td>3.915625</td>\n",
       "      <td>3.084375</td>\n",
       "      <td>POINT (-76.5341 38.8425)</td>\n",
       "    </tr>\n",
       "    <tr>\n",
       "      <th>15761</th>\n",
       "      <td>WT8.3</td>\n",
       "      <td>2021-02-08</td>\n",
       "      <td>3.30</td>\n",
       "      <td>38.84250</td>\n",
       "      <td>-76.53410</td>\n",
       "      <td>3.915625</td>\n",
       "      <td>-0.615625</td>\n",
       "      <td>POINT (-76.5341 38.8425)</td>\n",
       "    </tr>\n",
       "    <tr>\n",
       "      <th>15762</th>\n",
       "      <td>WT8.3</td>\n",
       "      <td>2022-02-09</td>\n",
       "      <td>3.15</td>\n",
       "      <td>38.84250</td>\n",
       "      <td>-76.53410</td>\n",
       "      <td>3.915625</td>\n",
       "      <td>-0.765625</td>\n",
       "      <td>POINT (-76.5341 38.8425)</td>\n",
       "    </tr>\n",
       "  </tbody>\n",
       "</table>\n",
       "<p>15763 rows × 8 columns</p>\n",
       "</div>"
      ],
      "text/plain": [
       "      Station SampleDate  MeasureValue  Latitude  Longitude  ClimValue  \\\n",
       "0       CB2.1 2003-01-15          1.10  39.44149  -76.02599   3.138462   \n",
       "1       CB2.1 2004-01-14          0.30  39.44149  -76.02599   3.138462   \n",
       "2       CB2.1 2005-01-13          4.90  39.44149  -76.02599   3.138462   \n",
       "3       CB2.1 2006-01-12          4.60  39.44149  -76.02599   3.138462   \n",
       "4       CB2.1 2007-01-12          5.30  39.44149  -76.02599   3.138462   \n",
       "...       ...        ...           ...       ...        ...        ...   \n",
       "15758   WT8.3 2018-02-15          3.60  38.84250  -76.53410   3.915625   \n",
       "15759   WT8.3 2019-02-11          3.90  38.84250  -76.53410   3.915625   \n",
       "15760   WT8.3 2020-02-13          7.00  38.84250  -76.53410   3.915625   \n",
       "15761   WT8.3 2021-02-08          3.30  38.84250  -76.53410   3.915625   \n",
       "15762   WT8.3 2022-02-09          3.15  38.84250  -76.53410   3.915625   \n",
       "\n",
       "       MeasureAnomaly                    geometry  \n",
       "0           -2.038462  POINT (-76.02599 39.44149)  \n",
       "1           -2.838462  POINT (-76.02599 39.44149)  \n",
       "2            1.761538  POINT (-76.02599 39.44149)  \n",
       "3            1.461538  POINT (-76.02599 39.44149)  \n",
       "4            2.161538  POINT (-76.02599 39.44149)  \n",
       "...               ...                         ...  \n",
       "15758       -0.315625    POINT (-76.5341 38.8425)  \n",
       "15759       -0.015625    POINT (-76.5341 38.8425)  \n",
       "15760        3.084375    POINT (-76.5341 38.8425)  \n",
       "15761       -0.615625    POINT (-76.5341 38.8425)  \n",
       "15762       -0.765625    POINT (-76.5341 38.8425)  \n",
       "\n",
       "[15763 rows x 8 columns]"
      ]
     },
     "execution_count": 4,
     "metadata": {},
     "output_type": "execute_result"
    }
   ],
   "source": [
    "wq"
   ]
  },
  {
   "cell_type": "code",
   "execution_count": 5,
   "id": "e90cb637-9d48-46b2-81ae-4a217e498af0",
   "metadata": {
    "tags": []
   },
   "outputs": [],
   "source": [
    "# Filter out anything shallower than 1m and deeper than 3m\n",
    "# wq = wq[(wq.Depth > 1) & (wq.Depth < 3)]"
   ]
  },
  {
   "cell_type": "markdown",
   "id": "ee03ae73-d61d-476f-8847-94aa9802f3df",
   "metadata": {},
   "source": [
    "### Isolating just one depth observation per location\n",
    "\n",
    "Select one measurement for each location and time, in each case selecting the measurement closest to 2 meters depth."
   ]
  },
  {
   "cell_type": "code",
   "execution_count": 6,
   "id": "dcf1cb84-2818-4326-861d-4a2d33357dad",
   "metadata": {},
   "outputs": [],
   "source": [
    "# def find_correct_depth(df):\n",
    "#     if len(df) > 1:\n",
    "#         # Get the row with the depth closest to 2 meters\n",
    "#         df = df.iloc[(df['Depth']-2).abs().argsort()[:1]]\n",
    "#     # if there was only 1 row to begin with, just return that one\n",
    "#     return df"
   ]
  },
  {
   "cell_type": "code",
   "execution_count": 7,
   "id": "c011b9ab-4dc1-434e-b942-8277b84eaccc",
   "metadata": {},
   "outputs": [],
   "source": [
    "# wq = wq.groupby(['Station', 'SampleDate', 'SampleTime']) \\\n",
    "#                 .apply(find_correct_depth)"
   ]
  },
  {
   "cell_type": "code",
   "execution_count": 8,
   "id": "36a8b239-53d2-4aed-8560-57b8c4311848",
   "metadata": {},
   "outputs": [],
   "source": [
    "# wq.Depth.unique()"
   ]
  },
  {
   "cell_type": "markdown",
   "id": "088f551a-f8e7-4985-90d0-9dbc4f461ee9",
   "metadata": {
    "tags": []
   },
   "source": [
    "### Inspecting the remaining observations"
   ]
  },
  {
   "cell_type": "code",
   "execution_count": 9,
   "id": "c3883c4f-89d4-44f8-bbbc-5250445c0f7f",
   "metadata": {},
   "outputs": [
    {
     "data": {
      "image/png": "[encoded data removed]",
      "text/plain": [
       "<Figure size 640x480 with 2 Axes>"
      ]
     },
     "metadata": {},
     "output_type": "display_data"
    }
   ],
   "source": [
    "fig, ax1 = plt.subplots()\n",
    "ax2 = ax1.twinx()\n",
    "ax2.set_ylim([800, 4000])\n",
    "\n",
    "histogram = wq.SampleDate.hist(bins=68, ax=ax1, grid=False)\n",
    "ax1.set_ylabel('Number of observations (3 month bins)')\n",
    "ax1.set_xlabel('Year')\n",
    "# ax1.grid(axis='y', linestyle='--', color='lightgrey')\n",
    "# ax1.set_yticks(np.arange(100, 900, 100))\n",
    "\n",
    "# Making the line plot\n",
    "# didn't work using default pandas .plot(ax=ax2) I think because date range was off\n",
    "avgs = wq.groupby(wq.SampleDate.dt.year).count().Station.values\n",
    "year_start = pd.date_range('2003', '2019', freq='YS')\n",
    "year_end = pd.date_range('2003', '2020', freq='Y')\n",
    "# ax2.hlines(avgs, year_start, year_end, color='black')\n",
    "ax2.set_ylabel('Average # of observations per calendar year')\n",
    "# ax2.set_yticks(np.arange(1200, 3200, 3050))\n",
    "\n",
    "fig.suptitle('Number of Available Validation Data Points over Time')\n",
    "\n",
    "if SAVE_FIGS:\n",
    "    path = os.path.join(REPO_ROOT, 'figures/supplemental', 'validation_points_temporal_histogram.png')\n",
    "    plt.savefig(path)"
   ]
  },
  {
   "cell_type": "code",
   "execution_count": null,
   "id": "8e79498c-e3fb-4256-a33b-7347243a20a1",
   "metadata": {},
   "outputs": [],
   "source": []
  },
  {
   "cell_type": "markdown",
   "id": "0ac26eb6-dfa3-45aa-80ce-e50ccc8ce5e7",
   "metadata": {},
   "source": [
    "## Intersect Operation -- co-locating SST and in situ obs"
   ]
  },
  {
   "cell_type": "code",
   "execution_count": 4,
   "id": "6f8a70ea-0c07-48c9-a1fe-46785cae1ea0",
   "metadata": {
    "tags": []
   },
   "outputs": [],
   "source": [
    "def get_satellite_sst(full_sst, lat, lon, time):\n",
    "    '''\n",
    "    TODO: docstring\n",
    "    '''\n",
    "    # time does NOT have nearest interpolation because we do not want adjacent days to\n",
    "    # be selected\n",
    "    try:\n",
    "        matching_array = full_sst.sel(lat=lat, lon=lon, \n",
    "                                      method='nearest').sel(time=time.strftime('%Y-%m-%d')).values\n",
    "        if matching_array.size == 1:\n",
    "            matching_sst = matching_array[0]\n",
    "        else:\n",
    "            matching_sst = np.nan\n",
    "            warnings.warn('Matching array length is not 1. Date is likely missing (?)' + time.strftime('%Y-%m-%d'))\n",
    "    except KeyError:\n",
    "        # If a key error was raised the corresponding date was not found. Return nan for that sample location\n",
    "        matching_sst = np.nan\n",
    "    # print('returning ', matching_sst)\n",
    "    return matching_sst"
   ]
  },
  {
   "cell_type": "code",
   "execution_count": 11,
   "id": "ad05c074-58c7-4f11-a50d-3fd90ef8cf62",
   "metadata": {},
   "outputs": [],
   "source": [
    "wq = wq[['MeasureAnomaly', 'Latitude', 'Longitude', 'SampleDate']]\n",
    "wq_sst = wq.copy()\n",
    "wq_sst['geopolar_anom'] = -999\n",
    "wq_sst['mur_anom'] = -999"
   ]
  },
  {
   "cell_type": "code",
   "execution_count": 12,
   "id": "526943a1-1b7e-4568-891f-129c6e6db820",
   "metadata": {},
   "outputs": [],
   "source": [
    "path = os.path.join(\n",
    "    REPO_ROOT, 'data/raw', \n",
    "    'L4_GHRSST-SSTfnd-Geo_Polar_Blended_Night-GLOB-v02.0-fv01.0_CB_20020901_20230831.nc'\n",
    ")\n",
    "geopolar = xr.open_dataset(path).analysed_sst\n",
    "\n",
    "path = os.path.join(REPO_ROOT, 'data/interim', 'geopolar_climatology_chesapeake.nc')\n",
    "geopolar_clim = xr.open_dataset(path).climatology\n",
    "\n",
    "geopolar_anom = geopolar - geopolar_clim"
   ]
  },
  {
   "cell_type": "markdown",
   "id": "3c816843-69ef-46c5-b4f3-a1a303eca20f",
   "metadata": {},
   "source": [
    "Timing Notes\n",
    "\n",
    "Feb 1: ~22,000 rows: ~50 seconds\n"
   ]
  },
  {
   "cell_type": "code",
   "execution_count": 13,
   "id": "04610115-afc2-4586-ac68-b82b18cd034d",
   "metadata": {
    "tags": []
   },
   "outputs": [
    {
     "name": "stderr",
     "output_type": "stream",
     "text": [
      "/var/folders/p8/985fq4dx1356qtcv5dd4zgyr0000gn/T/ipykernel_40451/3466669827.py:14: UserWarning: Matching array length is not 1. Date is likely missing (?)2018-03-12\n",
      "  warnings.warn('Matching array length is not 1. Date is likely missing (?)' + time.strftime('%Y-%m-%d'))\n",
      "/var/folders/p8/985fq4dx1356qtcv5dd4zgyr0000gn/T/ipykernel_40451/3466669827.py:14: UserWarning: Matching array length is not 1. Date is likely missing (?)2018-03-12\n",
      "  warnings.warn('Matching array length is not 1. Date is likely missing (?)' + time.strftime('%Y-%m-%d'))\n",
      "/var/folders/p8/985fq4dx1356qtcv5dd4zgyr0000gn/T/ipykernel_40451/3466669827.py:14: UserWarning: Matching array length is not 1. Date is likely missing (?)2018-03-12\n",
      "  warnings.warn('Matching array length is not 1. Date is likely missing (?)' + time.strftime('%Y-%m-%d'))\n",
      "/var/folders/p8/985fq4dx1356qtcv5dd4zgyr0000gn/T/ipykernel_40451/3466669827.py:14: UserWarning: Matching array length is not 1. Date is likely missing (?)2018-03-12\n",
      "  warnings.warn('Matching array length is not 1. Date is likely missing (?)' + time.strftime('%Y-%m-%d'))\n",
      "/var/folders/p8/985fq4dx1356qtcv5dd4zgyr0000gn/T/ipykernel_40451/3466669827.py:14: UserWarning: Matching array length is not 1. Date is likely missing (?)2018-03-12\n",
      "  warnings.warn('Matching array length is not 1. Date is likely missing (?)' + time.strftime('%Y-%m-%d'))\n",
      "/var/folders/p8/985fq4dx1356qtcv5dd4zgyr0000gn/T/ipykernel_40451/3466669827.py:14: UserWarning: Matching array length is not 1. Date is likely missing (?)2018-03-12\n",
      "  warnings.warn('Matching array length is not 1. Date is likely missing (?)' + time.strftime('%Y-%m-%d'))\n"
     ]
    },
    {
     "name": "stdout",
     "output_type": "stream",
     "text": [
      "CPU times: user 19.4 s, sys: 350 ms, total: 19.8 s\n",
      "Wall time: 20 s\n"
     ]
    }
   ],
   "source": [
    "%%time\n",
    "\n",
    "# Create a new column of the wq dataframe containing the corresponding geopolar sst value\n",
    "wq_sst['geopolar_anom'] = wq_sst.apply(lambda x: get_satellite_sst(geopolar_anom, x.Latitude, x.Longitude, x.SampleDate), \n",
    "                                                axis=1)"
   ]
  },
  {
   "cell_type": "markdown",
   "id": "d49e6b84-3d79-4d31-877f-3aee43fb3cca",
   "metadata": {},
   "source": [
    "**Step:** fill anomaly column for MUR"
   ]
  },
  {
   "cell_type": "code",
   "execution_count": 14,
   "id": "40ef06a9-4c28-44ab-a8d8-68c1f8b44bdd",
   "metadata": {},
   "outputs": [],
   "source": [
    "path = os.path.join(\n",
    "    REPO_ROOT, 'data/raw', \n",
    "    'MUR-JPL-L4_GHRSST-SSTfnd-GLOB-v02.0-fv04.1-20020901_20230831.nc'\n",
    ")\n",
    "mur = xr.open_dataset(path).analysed_sst\n",
    "\n",
    "path = os.path.join(REPO_ROOT, 'data/interim', 'mur_climatology_chesapeake.nc')\n",
    "mur_clim = xr.open_dataset(path).climatology\n",
    "\n",
    "mur_anom = mur - mur_clim"
   ]
  },
  {
   "cell_type": "code",
   "execution_count": 15,
   "id": "e7e64d36-41e3-4ca4-9a90-1227e13de666",
   "metadata": {
    "tags": []
   },
   "outputs": [
    {
     "name": "stderr",
     "output_type": "stream",
     "text": [
      "/var/folders/p8/985fq4dx1356qtcv5dd4zgyr0000gn/T/ipykernel_40451/3466669827.py:14: UserWarning: Matching array length is not 1. Date is likely missing (?)2022-11-09\n",
      "  warnings.warn('Matching array length is not 1. Date is likely missing (?)' + time.strftime('%Y-%m-%d'))\n",
      "/var/folders/p8/985fq4dx1356qtcv5dd4zgyr0000gn/T/ipykernel_40451/3466669827.py:14: UserWarning: Matching array length is not 1. Date is likely missing (?)2022-11-09\n",
      "  warnings.warn('Matching array length is not 1. Date is likely missing (?)' + time.strftime('%Y-%m-%d'))\n",
      "/var/folders/p8/985fq4dx1356qtcv5dd4zgyr0000gn/T/ipykernel_40451/3466669827.py:14: UserWarning: Matching array length is not 1. Date is likely missing (?)2022-11-09\n",
      "  warnings.warn('Matching array length is not 1. Date is likely missing (?)' + time.strftime('%Y-%m-%d'))\n",
      "/var/folders/p8/985fq4dx1356qtcv5dd4zgyr0000gn/T/ipykernel_40451/3466669827.py:14: UserWarning: Matching array length is not 1. Date is likely missing (?)2022-11-09\n",
      "  warnings.warn('Matching array length is not 1. Date is likely missing (?)' + time.strftime('%Y-%m-%d'))\n",
      "/var/folders/p8/985fq4dx1356qtcv5dd4zgyr0000gn/T/ipykernel_40451/3466669827.py:14: UserWarning: Matching array length is not 1. Date is likely missing (?)2022-11-09\n",
      "  warnings.warn('Matching array length is not 1. Date is likely missing (?)' + time.strftime('%Y-%m-%d'))\n",
      "/var/folders/p8/985fq4dx1356qtcv5dd4zgyr0000gn/T/ipykernel_40451/3466669827.py:14: UserWarning: Matching array length is not 1. Date is likely missing (?)2022-11-09\n",
      "  warnings.warn('Matching array length is not 1. Date is likely missing (?)' + time.strftime('%Y-%m-%d'))\n",
      "/var/folders/p8/985fq4dx1356qtcv5dd4zgyr0000gn/T/ipykernel_40451/3466669827.py:14: UserWarning: Matching array length is not 1. Date is likely missing (?)2022-11-09\n",
      "  warnings.warn('Matching array length is not 1. Date is likely missing (?)' + time.strftime('%Y-%m-%d'))\n"
     ]
    },
    {
     "name": "stdout",
     "output_type": "stream",
     "text": [
      "CPU times: user 19.5 s, sys: 519 ms, total: 20 s\n",
      "Wall time: 20.2 s\n"
     ]
    }
   ],
   "source": [
    "%%time\n",
    "\n",
    "# Create a new column of the wq dataframe containing the corresponding geopolar sst value\n",
    "wq_sst['mur_anom'] = wq_sst.apply(lambda x: get_satellite_sst(mur_anom, x.Latitude, x.Longitude, x.SampleDate), \n",
    "                                                axis=1)"
   ]
  },
  {
   "cell_type": "markdown",
   "id": "3fdd5e2a-462f-41f0-ba16-9c64690a8a46",
   "metadata": {},
   "source": [
    "### Cleaning Output"
   ]
  },
  {
   "cell_type": "markdown",
   "id": "62a90ac4-415f-4c89-ba09-7703d9bf2ecc",
   "metadata": {},
   "source": [
    "Keep just the rows where either mur or geopolar have values. (Remove the rows where both mur and geopolar are null)"
   ]
  },
  {
   "cell_type": "markdown",
   "id": "bc2c9773-88e4-4f86-b17c-2ccbb3d3710f",
   "metadata": {},
   "source": [
    "_Do we want an AND or an OR in there?_ --> OR is good. (note the NOT in front of the isnull)"
   ]
  },
  {
   "cell_type": "code",
   "execution_count": 16,
   "id": "7c933c1e-d861-4d31-b068-87774d89d70a",
   "metadata": {},
   "outputs": [],
   "source": [
    "wq_sst = wq_sst[(~wq_sst['mur_anom'].isnull()) | (~wq_sst['geopolar_anom'].isnull())]"
   ]
  },
  {
   "cell_type": "code",
   "execution_count": 17,
   "id": "52a8eb97-256a-4d1d-8cd6-7b7998eb863b",
   "metadata": {},
   "outputs": [
    {
     "data": {
      "text/html": [
       "<div>\n",
       "<style scoped>\n",
       "    .dataframe tbody tr th:only-of-type {\n",
       "        vertical-align: middle;\n",
       "    }\n",
       "\n",
       "    .dataframe tbody tr th {\n",
       "        vertical-align: top;\n",
       "    }\n",
       "\n",
       "    .dataframe thead th {\n",
       "        text-align: right;\n",
       "    }\n",
       "</style>\n",
       "<table border=\"1\" class=\"dataframe\">\n",
       "  <thead>\n",
       "    <tr style=\"text-align: right;\">\n",
       "      <th></th>\n",
       "      <th>MeasureAnomaly</th>\n",
       "      <th>Latitude</th>\n",
       "      <th>Longitude</th>\n",
       "      <th>SampleDate</th>\n",
       "      <th>geopolar_anom</th>\n",
       "      <th>mur_anom</th>\n",
       "    </tr>\n",
       "  </thead>\n",
       "  <tbody>\n",
       "    <tr>\n",
       "      <th>0</th>\n",
       "      <td>-2.038462</td>\n",
       "      <td>39.44149</td>\n",
       "      <td>-76.02599</td>\n",
       "      <td>2003-01-15</td>\n",
       "      <td>-0.741257</td>\n",
       "      <td>-0.627800</td>\n",
       "    </tr>\n",
       "    <tr>\n",
       "      <th>1</th>\n",
       "      <td>-2.838462</td>\n",
       "      <td>39.44149</td>\n",
       "      <td>-76.02599</td>\n",
       "      <td>2004-01-14</td>\n",
       "      <td>-0.954054</td>\n",
       "      <td>-0.414873</td>\n",
       "    </tr>\n",
       "    <tr>\n",
       "      <th>2</th>\n",
       "      <td>1.761538</td>\n",
       "      <td>39.44149</td>\n",
       "      <td>-76.02599</td>\n",
       "      <td>2005-01-13</td>\n",
       "      <td>0.379810</td>\n",
       "      <td>1.283643</td>\n",
       "    </tr>\n",
       "    <tr>\n",
       "      <th>3</th>\n",
       "      <td>1.461538</td>\n",
       "      <td>39.44149</td>\n",
       "      <td>-76.02599</td>\n",
       "      <td>2006-01-12</td>\n",
       "      <td>1.240869</td>\n",
       "      <td>-1.815707</td>\n",
       "    </tr>\n",
       "    <tr>\n",
       "      <th>4</th>\n",
       "      <td>2.161538</td>\n",
       "      <td>39.44149</td>\n",
       "      <td>-76.02599</td>\n",
       "      <td>2007-01-12</td>\n",
       "      <td>1.800897</td>\n",
       "      <td>3.213284</td>\n",
       "    </tr>\n",
       "    <tr>\n",
       "      <th>...</th>\n",
       "      <td>...</td>\n",
       "      <td>...</td>\n",
       "      <td>...</td>\n",
       "      <td>...</td>\n",
       "      <td>...</td>\n",
       "      <td>...</td>\n",
       "    </tr>\n",
       "    <tr>\n",
       "      <th>15758</th>\n",
       "      <td>-0.315625</td>\n",
       "      <td>38.84250</td>\n",
       "      <td>-76.53410</td>\n",
       "      <td>2018-02-15</td>\n",
       "      <td>0.428398</td>\n",
       "      <td>NaN</td>\n",
       "    </tr>\n",
       "    <tr>\n",
       "      <th>15759</th>\n",
       "      <td>-0.015625</td>\n",
       "      <td>38.84250</td>\n",
       "      <td>-76.53410</td>\n",
       "      <td>2019-02-11</td>\n",
       "      <td>-0.307749</td>\n",
       "      <td>NaN</td>\n",
       "    </tr>\n",
       "    <tr>\n",
       "      <th>15760</th>\n",
       "      <td>3.084375</td>\n",
       "      <td>38.84250</td>\n",
       "      <td>-76.53410</td>\n",
       "      <td>2020-02-13</td>\n",
       "      <td>1.321393</td>\n",
       "      <td>NaN</td>\n",
       "    </tr>\n",
       "    <tr>\n",
       "      <th>15761</th>\n",
       "      <td>-0.615625</td>\n",
       "      <td>38.84250</td>\n",
       "      <td>-76.53410</td>\n",
       "      <td>2021-02-08</td>\n",
       "      <td>0.745728</td>\n",
       "      <td>NaN</td>\n",
       "    </tr>\n",
       "    <tr>\n",
       "      <th>15762</th>\n",
       "      <td>-0.765625</td>\n",
       "      <td>38.84250</td>\n",
       "      <td>-76.53410</td>\n",
       "      <td>2022-02-09</td>\n",
       "      <td>0.170924</td>\n",
       "      <td>NaN</td>\n",
       "    </tr>\n",
       "  </tbody>\n",
       "</table>\n",
       "<p>13488 rows × 6 columns</p>\n",
       "</div>"
      ],
      "text/plain": [
       "       MeasureAnomaly  Latitude  Longitude SampleDate  geopolar_anom  mur_anom\n",
       "0           -2.038462  39.44149  -76.02599 2003-01-15      -0.741257 -0.627800\n",
       "1           -2.838462  39.44149  -76.02599 2004-01-14      -0.954054 -0.414873\n",
       "2            1.761538  39.44149  -76.02599 2005-01-13       0.379810  1.283643\n",
       "3            1.461538  39.44149  -76.02599 2006-01-12       1.240869 -1.815707\n",
       "4            2.161538  39.44149  -76.02599 2007-01-12       1.800897  3.213284\n",
       "...               ...       ...        ...        ...            ...       ...\n",
       "15758       -0.315625  38.84250  -76.53410 2018-02-15       0.428398       NaN\n",
       "15759       -0.015625  38.84250  -76.53410 2019-02-11      -0.307749       NaN\n",
       "15760        3.084375  38.84250  -76.53410 2020-02-13       1.321393       NaN\n",
       "15761       -0.615625  38.84250  -76.53410 2021-02-08       0.745728       NaN\n",
       "15762       -0.765625  38.84250  -76.53410 2022-02-09       0.170924       NaN\n",
       "\n",
       "[13488 rows x 6 columns]"
      ]
     },
     "execution_count": 17,
     "metadata": {},
     "output_type": "execute_result"
    }
   ],
   "source": [
    "wq_sst"
   ]
  },
  {
   "cell_type": "code",
   "execution_count": 18,
   "id": "4c3ec4aa-6f55-4cc7-8b2b-779f72bc1ace",
   "metadata": {
    "tags": []
   },
   "outputs": [],
   "source": [
    "# droplevel - get rid of SampleDate, because it already exists and \n",
    "# also the old index value\n",
    "# wq_sst = wq_sst.droplevel([1, 3]).reset_index()"
   ]
  },
  {
   "cell_type": "markdown",
   "id": "94d5bff7-ad27-4e8f-a7f5-a9890f1bd797",
   "metadata": {},
   "source": [
    "### Save File"
   ]
  },
  {
   "cell_type": "code",
   "execution_count": 20,
   "id": "5a63f305-56f4-4276-a106-972b0eb6dad0",
   "metadata": {},
   "outputs": [],
   "source": [
    "path = os.path.join(\n",
    "    REPO_ROOT, 'data/processed', \n",
    "    'anomaly_values_satellites_CBPstations_filtered.csv'\n",
    ")\n",
    "wq_sst.to_csv(path, index=False)"
   ]
  },
  {
   "cell_type": "code",
   "execution_count": null,
   "id": "a8466acf-37c7-4e01-af0e-2d0cb81aacfd",
   "metadata": {},
   "outputs": [],
   "source": []
  },
  {
   "cell_type": "code",
   "execution_count": null,
   "id": "c0e010b7-c24b-4caa-b81b-106f6196f0b5",
   "metadata": {},
   "outputs": [],
   "source": []
  },
  {
   "cell_type": "code",
   "execution_count": null,
   "id": "ce240b9f-758b-4d7b-850b-945b31c54e16",
   "metadata": {},
   "outputs": [],
   "source": []
  },
  {
   "cell_type": "code",
   "execution_count": null,
   "id": "2273d478-bbb5-45d1-8210-9807f6cf6f4c",
   "metadata": {},
   "outputs": [],
   "source": []
  }
 ],
 "metadata": {
  "kernelspec": {
   "display_name": "Python [conda env:chesapeake_mhw]",
   "language": "python",
   "name": "conda-env-chesapeake_mhw-py"
  },
  "language_info": {
   "codemirror_mode": {
    "name": "ipython",
    "version": 3
   },
   "file_extension": ".py",
   "mimetype": "text/x-python",
   "name": "python",
   "nbconvert_exporter": "python",
   "pygments_lexer": "ipython3",
   "version": "3.11.0"
  }
 },
 "nbformat": 4,
 "nbformat_minor": 5
}
