{
 "cells": [
  {
   "cell_type": "code",
   "execution_count": null,
   "id": "140d75ce-2991-4539-ab20-fb59aa115af0",
   "metadata": {},
   "outputs": [],
   "source": []
  },
  {
   "cell_type": "markdown",
   "id": "1e2e9a80-6bb0-4e3c-806d-df3aba405839",
   "metadata": {},
   "source": [
    "_Add back in: 1) opening geopolar SST (It gets used to provide coordinates to the stats arrays) 2) Read the `event_statistics` dict from the pickle that gets made during MHW calculation._"
   ]
  },
  {
   "cell_type": "markdown",
   "id": "56d567f5-c1c3-472d-a3aa-3d0714639aec",
   "metadata": {},
   "source": [
    "## Calculate Average Stats by pixel"
   ]
  },
  {
   "cell_type": "markdown",
   "id": "8db48b4c-ba08-4c65-bfc9-228df46d7d5c",
   "metadata": {},
   "source": [
    "Define functions for each of the MHW stats aggregations."
   ]
  },
  {
   "cell_type": "code",
   "execution_count": 18,
   "id": "70dbbb24-0d30-4ded-8c7d-c07b5e842fc8",
   "metadata": {},
   "outputs": [],
   "source": [
    "def no_occurrences(time_arr):\n",
    "    '''\n",
    "    returns the number of MHW events detected over the full time series\n",
    "    '''\n",
    "    return len(time_arr['time_start'])"
   ]
  },
  {
   "cell_type": "code",
   "execution_count": 19,
   "id": "9f9c4fda-6681-4d0e-afea-b86afa53b3fb",
   "metadata": {},
   "outputs": [],
   "source": [
    "def avg_duration(time_arr):\n",
    "    '''\n",
    "    returns the average duration of a MHW event over the full time series\n",
    "    '''\n",
    "    return np.mean(time_arr['duration'])"
   ]
  },
  {
   "cell_type": "code",
   "execution_count": 20,
   "id": "72f1ffeb-5fcf-4ba9-8a80-1a0feeb7dc8e",
   "metadata": {},
   "outputs": [],
   "source": [
    "def avg_max_intensity(time_arr):\n",
    "    '''\n",
    "    returns the average value for the maximum intensity, `intensity_max`, \n",
    "    averaged over the full time series\n",
    "    '''\n",
    "    return np.mean(time_arr['intensity_max'])"
   ]
  },
  {
   "cell_type": "code",
   "execution_count": 25,
   "id": "a36f234c-b4c5-4f1e-a004-c6492c787543",
   "metadata": {},
   "outputs": [],
   "source": [
    "def avg_mean_intensity(time_arr):\n",
    "    '''\n",
    "    returns the average value for the mean intensity, `intensity_mean`, \n",
    "    averaged over the full time series\n",
    "    '''\n",
    "    return np.mean(time_arr['intensity_mean'])"
   ]
  },
  {
   "cell_type": "code",
   "execution_count": 21,
   "id": "cebf4f8b-386d-4135-a871-35b2c4ddbafc",
   "metadata": {
    "tags": []
   },
   "outputs": [],
   "source": [
    "def avg_no_annual_events(time_arr):\n",
    "    '''\n",
    "    counts the number of mhw in each year and returns the average number\n",
    "    over MHW events per year\n",
    "    '''\n",
    "    # getting the years from the start date\n",
    "    f = lambda x: x.year\n",
    "    years = np.vectorize(f, otypes=[int])(time_arr['date_start'])\n",
    "    \n",
    "    # count the number of events for every year from 2003 to 2021\n",
    "    # don't include 2002 or 2022 because we don't have the full time series\n",
    "    year_counts = np.empty(len(range(2003, 2022)))\n",
    "    for i, yr in enumerate(range(2003, 2022)):\n",
    "        year_counts[i] = np.count_nonzero(years == yr)\n",
    "    \n",
    "    # find the average number of events per year\n",
    "    return np.mean(year_counts)"
   ]
  },
  {
   "cell_type": "code",
   "execution_count": 26,
   "id": "8d58517a-5f02-49c3-b0d0-df691e04b373",
   "metadata": {
    "tags": []
   },
   "outputs": [],
   "source": [
    "def avg_rate_onset(time_arr):\n",
    "    '''\n",
    "    returns the rate of onset of MHW, averaged over all MHW in the time \n",
    "    series (`rate_onset`)\n",
    "    '''\n",
    "    return np.mean(time_arr['rate_onset'])"
   ]
  },
  {
   "cell_type": "code",
   "execution_count": 27,
   "id": "26df580f-75c3-4bd7-ba04-22004030cde9",
   "metadata": {
    "tags": []
   },
   "outputs": [],
   "source": [
    "def avg_rate_decline(time_arr):\n",
    "    '''\n",
    "    returns the rate of decline of MHW, averaged over all MHW in the time series \n",
    "    (`rate_decline`)\n",
    "    '''\n",
    "    return np.mean(time_arr['rate_decline'])"
   ]
  },
  {
   "cell_type": "code",
   "execution_count": 28,
   "id": "2ff8b9b9-abf0-4306-b27a-1aa69d107c9c",
   "metadata": {
    "tags": []
   },
   "outputs": [],
   "source": [
    "def avg_cum_intensity(time_arr):\n",
    "    '''\n",
    "    calculate the cumulative intensity in each year and returns the average over\n",
    "    all the years\n",
    "    '''\n",
    "    # getting the years from the start date\n",
    "    f = lambda x: x.year\n",
    "    years = np.vectorize(f, otypes=[int])(time_arr['date_start'])\n",
    "    \n",
    "    # create a pandas dataframe to zip the years and the cumultive intensities\n",
    "    df = pd.DataFrame({'year': years, \n",
    "                       'cumulative_intensity': time_arr['intensity_cumulative']})\n",
    "    # groupby to take the mean of each year\n",
    "    df = df.groupby('year').mean()\n",
    "    # reindex to make sure that years without marine heatwaves are still present\n",
    "    df = df.reindex(range(2003, 2022), fill_value=0)\n",
    "    \n",
    "    # find the average number of events per year\n",
    "    return df['cumulative_intensity'].mean()"
   ]
  },
  {
   "cell_type": "markdown",
   "id": "2442f303-55f6-4bd3-8ccb-d4c0544bb3e4",
   "metadata": {},
   "source": [
    "Run the functions on each of the pixels in the dataset"
   ]
  },
  {
   "cell_type": "code",
   "execution_count": 29,
   "id": "dc18ca30-321c-4bc1-a9bb-4d9d8103e6f4",
   "metadata": {
    "tags": []
   },
   "outputs": [],
   "source": [
    "def apply_function(function, mhw_event_statistics, matching_arr):\n",
    "    \"\"\"\n",
    "    Apply the given function in a vectorized manner (over all the pixels)\n",
    "    to the MHW event data from mhw.detect(). Reformat and output as a\n",
    "    dataarray.\n",
    "    :function: a function which takes a 1D array that is to be applied to all\n",
    "    the pixels\n",
    "    :avg_stats_arr: the 0th output of the mhw.detect() function, in an array\n",
    "    form for all of the pixels\n",
    "    :matching_arr: a dataarray with lat and lon that has coordinate dimensions\n",
    "    that matching the pixel locations of avg_stats_arr\n",
    "    \"\"\"\n",
    "    stats_output = np.vectorize(function)(mhw_event_statistics)\n",
    "    return xr.DataArray(stats_output, \n",
    "                          coords=[matching_arr.lat.values, \n",
    "                                  matching_arr.lon.values], \n",
    "                          dims=['latitude', 'longitude'])"
   ]
  },
  {
   "cell_type": "code",
   "execution_count": 30,
   "id": "04620485-af1a-41fb-a52d-c048d627f9b1",
   "metadata": {
    "tags": []
   },
   "outputs": [
    {
     "name": "stderr",
     "output_type": "stream",
     "text": [
      "/Users/rwegener/miniconda3/envs/chesapeake_mhw_2021dask/lib/python3.9/site-packages/numpy/core/fromnumeric.py:3464: RuntimeWarning: Mean of empty slice.\n",
      "  return _methods._mean(a, axis=axis, dtype=dtype,\n",
      "/Users/rwegener/miniconda3/envs/chesapeake_mhw_2021dask/lib/python3.9/site-packages/numpy/core/_methods.py:192: RuntimeWarning: invalid value encountered in scalar divide\n",
      "  ret = ret.dtype.type(ret / rcount)\n",
      "/Users/rwegener/miniconda3/envs/chesapeake_mhw_2021dask/lib/python3.9/site-packages/numpy/lib/function_base.py:2412: RuntimeWarning: invalid value encountered in avg_duration (vectorized)\n",
      "  outputs = ufunc(*inputs)\n",
      "/Users/rwegener/miniconda3/envs/chesapeake_mhw_2021dask/lib/python3.9/site-packages/numpy/lib/function_base.py:2412: RuntimeWarning: invalid value encountered in avg_max_intensity (vectorized)\n",
      "  outputs = ufunc(*inputs)\n",
      "/Users/rwegener/miniconda3/envs/chesapeake_mhw_2021dask/lib/python3.9/site-packages/numpy/lib/function_base.py:2412: RuntimeWarning: invalid value encountered in avg_mean_intensity (vectorized)\n",
      "  outputs = ufunc(*inputs)\n",
      "/Users/rwegener/miniconda3/envs/chesapeake_mhw_2021dask/lib/python3.9/site-packages/numpy/lib/function_base.py:2412: RuntimeWarning: invalid value encountered in avg_rate_onset (vectorized)\n",
      "  outputs = ufunc(*inputs)\n",
      "/Users/rwegener/miniconda3/envs/chesapeake_mhw_2021dask/lib/python3.9/site-packages/numpy/lib/function_base.py:2412: RuntimeWarning: invalid value encountered in avg_rate_decline (vectorized)\n",
      "  outputs = ufunc(*inputs)\n"
     ]
    }
   ],
   "source": [
    "no_occ_da = apply_function(no_occurrences, event_statstics, geopolar)\n",
    "avg_dur_da = apply_function(avg_duration, event_statstics, geopolar)\n",
    "avg_max_int_da = apply_function(avg_max_intensity, event_statstics, geopolar)\n",
    "avg_mean_int_da = apply_function(avg_mean_intensity, event_statstics, geopolar)\n",
    "\n",
    "avg_rate_on_da = apply_function(avg_rate_onset, event_statstics, geopolar)\n",
    "avg_rate_off_da = apply_function(avg_rate_decline, event_statstics, geopolar)\n",
    "\n",
    "avg_annual_events_da = apply_function(avg_no_annual_events, event_statstics, geopolar)\n",
    "avg_cum_intensity_da = apply_function(avg_cum_intensity, event_statstics, geopolar)"
   ]
  },
  {
   "cell_type": "code",
   "execution_count": null,
   "id": "0671cc2b-efae-4f2f-a5e5-3aa586994405",
   "metadata": {},
   "outputs": [],
   "source": []
  },
  {
   "cell_type": "markdown",
   "id": "b63c8c05-834b-4d94-b038-7039ec3976b1",
   "metadata": {},
   "source": [
    "## Save each statistic into individual netcdf files"
   ]
  },
  {
   "cell_type": "code",
   "execution_count": 31,
   "id": "0ce4443d-52ed-4cb4-afb5-ea16f1cf566e",
   "metadata": {
    "tags": []
   },
   "outputs": [],
   "source": [
    "output_dir = './data/processed/mhw_stats_outputs/'\n",
    "if not os.path.exists(output_dir):\n",
    "    os.makedirs(output_dir)"
   ]
  },
  {
   "cell_type": "markdown",
   "id": "50313f72-d1ad-4662-af52-717cb6286116",
   "metadata": {},
   "source": [
    "Creating a land mask"
   ]
  },
  {
   "cell_type": "code",
   "execution_count": 32,
   "id": "7c67862e-af9d-41cc-ae77-845cc64723eb",
   "metadata": {
    "tags": []
   },
   "outputs": [],
   "source": [
    "mask = geopolar.isel(time=0).drop('time').rename(\n",
    "    {'lat': 'latitude', 'lon': 'longitude'}\n",
    ")"
   ]
  },
  {
   "cell_type": "markdown",
   "id": "f0cc23ed-ab73-4aff-a922-94365a94b853",
   "metadata": {},
   "source": [
    "Number of Occurrences"
   ]
  },
  {
   "cell_type": "code",
   "execution_count": 39,
   "id": "7c60015e-c49d-4dcf-b9c6-7a0832a7ab9b",
   "metadata": {},
   "outputs": [],
   "source": [
    "# mask out land\n",
    "no_occ_da = no_occ_da.where(~mask.isnull())\n",
    "\n",
    "# Add metadata\n",
    "no_occ_da = no_occ_da.rename('total_no_occurrences').assign_attrs(\n",
    "    {'source': 'NOAA Geopolar', 'unit': '# of MHW', 'description': \n",
    "     \"The total number of MHWs reported from EJO's MHW code for each pixel. \" \\\n",
    "     \"Passing along EJO's `n_events` metric.\", 'processing_date': \n",
    "     datetime.strftime(date.today(), '%Y-%m-%d')}\n",
    ")\n",
    "\n",
    "# Save\n",
    "no_occ_da.to_dataset().to_netcdf(\n",
    "    os.path.join(output_dir, 'no_occurrences_CBay_geopolar.nc')\n",
    ")"
   ]
  },
  {
   "cell_type": "markdown",
   "id": "1c27a533-0f43-458d-bd44-c59c1f186fcb",
   "metadata": {},
   "source": [
    "Average Duration"
   ]
  },
  {
   "cell_type": "code",
   "execution_count": 40,
   "id": "357d6db9-fd03-4fb5-8898-dccb61a2df83",
   "metadata": {},
   "outputs": [],
   "source": [
    "# Add metadata\n",
    "avg_dur_da = avg_dur_da.rename('avg_duration').assign_attrs(\n",
    "    {'source': 'NOAA Geopolar', 'unit': '# of days', 'description': \"The 'duration' \" \\\n",
    "     \"statistic reported from EJO's MHW code for each pixel, averaged over all of \" \\\n",
    "     \"the MHW identified in that pixel\", 'processing_date': \n",
    "     datetime.strftime(date.today(), '%Y-%m-%d')\n",
    "    }\n",
    ")\n",
    "\n",
    "# Save\n",
    "avg_dur_da.to_dataset().to_netcdf(\n",
    "    os.path.join(output_dir, 'average_mhw_duration_CBay_geopolar.nc')\n",
    ")"
   ]
  },
  {
   "cell_type": "markdown",
   "id": "3f5d0ed9-e5e0-4a2a-a555-b1780f4ae40d",
   "metadata": {},
   "source": [
    "Average Max Intensity"
   ]
  },
  {
   "cell_type": "code",
   "execution_count": 41,
   "id": "4d259f08-2393-4d4d-85ed-693b7d4ce37c",
   "metadata": {},
   "outputs": [],
   "source": [
    "# Add metadata\n",
    "avg_max_int_da = avg_max_int_da.rename('avg_max_intensity').assign_attrs(\n",
    "    {'source': 'NOAA Geopolar', 'unit': 'deg C', \n",
    "     'description': \"returns the average value for the maximum intensity, \" \\\n",
    "     \"`intensity_max`, averaged over the full time series\", 'processing_date': \n",
    "     datetime.strftime(date.today(), '%Y-%m-%d')}\n",
    ")\n",
    "\n",
    "# Save\n",
    "avg_max_int_da.to_dataset().to_netcdf(\n",
    "    os.path.join(output_dir, 'average_max_intensity_CBay_geopolar.nc')\n",
    ")"
   ]
  },
  {
   "cell_type": "markdown",
   "id": "a712065a-0139-4746-ae72-1de8a116d38b",
   "metadata": {},
   "source": [
    "Average Mean Intensity"
   ]
  },
  {
   "cell_type": "code",
   "execution_count": 36,
   "id": "098c9e07-0929-4b48-ab3a-4d347da3d890",
   "metadata": {},
   "outputs": [],
   "source": [
    "# Add metadata\n",
    "avg_mean_int_da = avg_mean_int_da.rename('avg_mean_intensity').assign_attrs(\n",
    "    {'source': 'NOAA Geopolar', 'unit': 'deg C', \n",
    "     'description': \"returns the average value for the mean intensity, \" \\\n",
    "     \"`intensity_mean`, averaged over the full time series\", 'processing_date': \n",
    "     datetime.strftime(date.today(), '%Y-%m-%d')}\n",
    ")\n",
    "\n",
    "# Save\n",
    "avg_mean_int_da.to_dataset().to_netcdf(\n",
    "    os.path.join(output_dir, 'average_mean_intensity_CBay_geopolar.nc')\n",
    ")"
   ]
  },
  {
   "cell_type": "markdown",
   "id": "945033bf-af41-4e49-91a1-46da4a88d6fd",
   "metadata": {},
   "source": [
    "Average rate of onset"
   ]
  },
  {
   "cell_type": "code",
   "execution_count": 42,
   "id": "c687a450-1905-4157-82ce-3d94d16a20f6",
   "metadata": {},
   "outputs": [],
   "source": [
    "# Add metadata\n",
    "avg_rate_on_da = avg_rate_on_da.rename('avg_onset_rate').assign_attrs(\n",
    "    {'source': 'NOAA Geopolar', 'unit': 'deg C / day', 'description': \"returns \" \\\n",
    "     \"the rate of onset of MHW, averaged over all MHW in the time series \" \\\n",
    "     \"(`rate_onset`)\", 'processing_date':  datetime.strftime(date.today(), '%Y-%m-%d')}\n",
    ")\n",
    "\n",
    "# Save\n",
    "avg_rate_on_da.to_dataset().to_netcdf(\n",
    "    os.path.join(output_dir, 'average_rate_onset_CBay_geopolar.nc')\n",
    ")"
   ]
  },
  {
   "cell_type": "markdown",
   "id": "066ab082-8f2e-4172-a68b-1b01263cf521",
   "metadata": {},
   "source": [
    "Average rate of decline"
   ]
  },
  {
   "cell_type": "code",
   "execution_count": 43,
   "id": "f8b2a5ed-d969-4404-85ff-c14c8458a89f",
   "metadata": {},
   "outputs": [],
   "source": [
    "# Add metadata\n",
    "avg_rate_off_da = avg_rate_off_da.rename('avg_decline_rate').assign_attrs(\n",
    "    {'source': 'NOAA Geopolar', 'unit': 'deg C / day', 'description': \"returns \" \\\n",
    "    \"the rate of deline of MHW, averaged over all MHW in the time series \" \\\n",
    "    \"(`rate_decline`)\", 'processing_date': datetime.strftime(date.today(), '%Y-%m-%d')}\n",
    ")\n",
    "\n",
    "# Save\n",
    "avg_rate_off_da.to_dataset().to_netcdf(\n",
    "    os.path.join(output_dir, 'average_rate_decline_CBay_geopolar.nc')\n",
    ")"
   ]
  },
  {
   "cell_type": "markdown",
   "id": "37425f9e-1687-4b1e-ae78-06a1c06c058e",
   "metadata": {},
   "source": [
    "Average number of annual events"
   ]
  },
  {
   "cell_type": "code",
   "execution_count": 46,
   "id": "0bb5ef6a-ee97-4b6d-8918-0997ccacac5d",
   "metadata": {},
   "outputs": [],
   "source": [
    "# Mask land\n",
    "avg_annual_events_da = avg_annual_events_da.where(~mask.isnull())\n",
    "\n",
    "# Add metadata\n",
    "avg_annual_events_da = avg_annual_events_da.rename('avg_no_annual_events').assign_attrs(\n",
    "    {'source': 'NOAA Geopolar', 'unit': '# MHW', 'description': \"counts the number \" \\\n",
    "     \"of mhw in each year and returns the average number of MHW events per year\", \n",
    "     'processing_date': datetime.strftime(date.today(), '%Y-%m-%d')}\n",
    ")\n",
    "\n",
    "# Save\n",
    "avg_annual_events_da.to_dataset().to_netcdf(\n",
    "    os.path.join(output_dir, 'average_no_annual_events_CBay_geopolar.nc')\n",
    ")"
   ]
  },
  {
   "cell_type": "markdown",
   "id": "c8466da9-2d63-4e92-984b-4123536889bc",
   "metadata": {},
   "source": [
    "Average cumulative intensity"
   ]
  },
  {
   "cell_type": "code",
   "execution_count": 35,
   "id": "138bbf6c-71d9-4f14-b82c-e9e3dd855e6d",
   "metadata": {},
   "outputs": [],
   "source": [
    "# Mask land\n",
    "avg_cum_intensity_da = avg_cum_intensity_da.where(~mask.isnull())\n",
    "\n",
    "# Add metadata\n",
    "avg_cum_intensity_da = avg_cum_intensity_da.rename('avg_cum_intensity').assign_attrs(\n",
    "    {'source': 'NOAA Geopolar', 'unit': 'deg C * day', 'description': \"calculate the \" \\\n",
    "     \"cumulative intensity of all the mhw for each year and returns the average over \" \\\n",
    "     \"all the years\", 'processing_date': datetime.strftime(date.today(), '%Y-%m-%d')}\n",
    ")\n",
    "\n",
    "# Save\n",
    "avg_cum_intensity_da.to_dataset().to_netcdf(\n",
    "    os.path.join(output_dir, 'average_cum_intensity_CBay_geopolar.nc')\n",
    ")"
   ]
  }
 ],
 "metadata": {
  "kernelspec": {
   "display_name": "Python [conda env:chesapeake_mhw_2021dask]",
   "language": "python",
   "name": "conda-env-chesapeake_mhw_2021dask-py"
  },
  "language_info": {
   "codemirror_mode": {
    "name": "ipython",
    "version": 3
   },
   "file_extension": ".py",
   "mimetype": "text/x-python",
   "name": "python",
   "nbconvert_exporter": "python",
   "pygments_lexer": "ipython3",
   "version": "3.9.16"
  }
 },
 "nbformat": 4,
 "nbformat_minor": 5
}
