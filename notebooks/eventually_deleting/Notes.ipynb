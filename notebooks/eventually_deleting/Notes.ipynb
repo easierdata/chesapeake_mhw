{
 "cells": [
  {
   "cell_type": "markdown",
   "id": "8a46a7ec-4e76-41e7-9809-a98c4fb45793",
   "metadata": {},
   "source": [
    "### Creating clim and thresh with dask\n",
    "\n",
    "Below: the chunk of code I was using when I was trying to get just climatology/threshold and drop the MHW statistics."
   ]
  },
  {
   "cell_type": "code",
   "execution_count": null,
   "id": "15551c35-d943-4fac-82bb-b828d36a4ab4",
   "metadata": {},
   "outputs": [],
   "source": [
    "# Create fake input data\n",
    "# lat_size, long_size, time_size = len(geopolar.lat), len(geopolar.lon), len(geopolar.time)\n",
    "# data = da.from_array(sst_np, chunks=(-1, 25, 25))\n",
    "\n",
    "# # define a wrapper to rearrange arguments\n",
    "# def func1d_climatology(arr, time):\n",
    "#     _, point_clim = mhw.detect(time, arr)\n",
    "#     return point_clim['seas']\n",
    "\n",
    "# # define a wrapper to rearrange arguments\n",
    "# def func1d_threshold(arr, time):\n",
    "#     _, point_clim = mhw.detect(time, arr)\n",
    "#     return point_clim['thresh']\n",
    "\n",
    "# # output arrays\n",
    "# full_climatology = da.zeros_like(data)\n",
    "# full_threshold = da.zeros_like(data)\n",
    "\n",
    "# climatology = np.apply_along_axis(func1d_climatology, 0, data, time=time_ordinal, \n",
    "#                                   dtype=data.dtype, shape=(time_size,))\n",
    "# threshold = np.apply_along_axis(func1d_threshold, 0, data, time=time_ordinal, dtype=data.dtype,\n",
    "#                                 shape=(time_size,))\n"
   ]
  },
  {
   "cell_type": "code",
   "execution_count": null,
   "id": "feec090d-8cc2-4851-b8c2-735ff10d3dcc",
   "metadata": {},
   "outputs": [],
   "source": [
    "# %%time\n",
    "\n",
    "# climatology = climatology.compute()"
   ]
  }
 ],
 "metadata": {
  "kernelspec": {
   "display_name": "Python 3 (ipykernel)",
   "language": "python",
   "name": "python3"
  },
  "language_info": {
   "codemirror_mode": {
    "name": "ipython",
    "version": 3
   },
   "file_extension": ".py",
   "mimetype": "text/x-python",
   "name": "python",
   "nbconvert_exporter": "python",
   "pygments_lexer": "ipython3",
   "version": "3.9.16"
  }
 },
 "nbformat": 4,
 "nbformat_minor": 5
}
