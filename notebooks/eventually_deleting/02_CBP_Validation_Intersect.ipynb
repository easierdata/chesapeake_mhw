{
 "cells": [
  {
   "cell_type": "markdown",
   "id": "d24a0b76-1421-496e-b866-440f9cde6638",
   "metadata": {},
   "source": [
    "This script creates a csv which holds the corresponding validation data points from both Chesapeake Bay Program's (CBP) Water Quality dataset and the two satellite datasets. The csv contains one row for each day and pixel in which there was a CBP validation point, and either a MUR or a Geopolar satellite pixel.\n",
    "\n",
    "Before running this script, be sure to run:\n",
    "1. (`01_download_CPBWaterQuality_data.py`) download CBP Water Quality dataset\n",
    "2. (`.py`) download/access Geopolar\n",
    "3. (`.py`) download/access MUR"
   ]
  },
  {
   "cell_type": "code",
   "execution_count": 1,
   "id": "f567369a-ef3f-4241-bfaa-b08607710133",
   "metadata": {},
   "outputs": [],
   "source": [
    "import xarray as xr\n",
    "import pandas as pd\n",
    "import numpy as np\n",
    "import matplotlib.pyplot as plt\n",
    "import geopandas as gpd"
   ]
  },
  {
   "cell_type": "code",
   "execution_count": 10,
   "id": "285ac422-f5be-4226-9be7-e5c4fdb9f5eb",
   "metadata": {},
   "outputs": [],
   "source": [
    "cols = ['EventId', 'Station', 'SampleDate', 'SampleTime', 'Unit',\n",
    "        'Depth', 'Layer','MeasureValue', 'Latitude', 'Longitude']\n",
    "wq = pd.read_csv('../../data/raw/delete/WaterQuality_ChesapeakeBayProgram_thru2022.csv', usecols=cols)  # , skipfooter=1)\n",
    "# wq = wq.drop([521779])  # Remove the empty bottom row\n",
    "wq['SampleDate'] = pd.to_datetime(wq['SampleDate'], format='%m/%d/%Y')\n",
    "# # Remove rows before the beginning of the geopolar collection period\n",
    "# wq = wq[wq['SampleDate'] >= '2002-09-01']\n",
    "# wq = wq[wq['SampleDate'] <= '2022-03-20']\n",
    "# # Remove rows that have a null SST value\n",
    "wq = wq[~wq['MeasureValue'].isnull()]\n",
    "# Clean the 'Layer' column so there is not trailing whitespace\n",
    "wq['Layer'] = wq.Layer.str.strip()\n",
    "# Sort by Date to make life a little easier\n",
    "wq = wq.sort_values('SampleDate').reset_index(drop=True)"
   ]
  },
  {
   "cell_type": "markdown",
   "id": "aa7b806a-6c90-49c0-aa0b-f1d3ef3d7fbc",
   "metadata": {},
   "source": [
    "Just noticing that the data stop in June of last year. Maybe the data hasn't been processed? The URL of the request definetly goes through 12-31-2022."
   ]
  },
  {
   "cell_type": "markdown",
   "id": "9a77f414-281a-41d7-bb9a-a143aac5237c",
   "metadata": {
    "tags": []
   },
   "source": [
    "### Quality Checks"
   ]
  },
  {
   "cell_type": "code",
   "execution_count": 11,
   "id": "fe4fecfa-d582-42c0-8145-f73c110920c5",
   "metadata": {},
   "outputs": [],
   "source": [
    "# Make sure all values have unit of Celcius\n",
    "assert len(np.unique(wq.Unit)) == 1\n",
    "assert np.unique(wq.Unit) == ['DEG C']"
   ]
  },
  {
   "cell_type": "code",
   "execution_count": 12,
   "id": "d3cc83ff-2db3-4af0-af29-9fc8bc76893f",
   "metadata": {},
   "outputs": [],
   "source": [
    "wq = wq[wq.MeasureValue < 100]"
   ]
  },
  {
   "cell_type": "code",
   "execution_count": 13,
   "id": "d7869e28-4aca-4a7a-b194-4408194019a5",
   "metadata": {},
   "outputs": [],
   "source": [
    "assert len(wq[wq.MeasureValue > 100]) == 0"
   ]
  },
  {
   "cell_type": "markdown",
   "id": "257ba1dd-3477-4a93-b3bd-63e77174532f",
   "metadata": {},
   "source": [
    "**Layer Codes**\n",
    "from page 33 of [the database schema](https://d18lev1ok5leia.cloudfront.net/chesapeakebay/documents/cbwqdb2004_rb.pdf).\n",
    "| Code | Meaning|\n",
    "| :--: | :--: |\n",
    "| AB | FIXED ABOVE BOTTOM |\n",
    "| AP | ABOVE PYCNOCLINE |\n",
    "| B | BOTTOM |\n",
    "| BP | BELOW PYCNOCLINE |\n",
    "| BS | FLOATING BELOW SURFACE |\n",
    "| I | INTEGRATED |\n",
    "| M | MID-DEPTH |\n",
    "| M1 | MIDDLE 1/3 OF TOTAL STATION DEPTH |\n",
    "| M2 | MIDDLE 2/3 OF TOTAL STATION DEPTH |\n",
    "| S | SURFACE |\n",
    "| VP | VERTICAL PROFILE |"
   ]
  },
  {
   "cell_type": "code",
   "execution_count": 14,
   "id": "9613fc6b-f742-471e-a13b-ad03e88f99f3",
   "metadata": {},
   "outputs": [],
   "source": [
    "# Select only samples taken at mid-depths, below the pycnocline, or as part of a vertical profile\n",
    "wq = wq[(wq.Layer == 'BP') | (wq.Layer == 'M') | (wq.Layer == 'M1') | \\\n",
    "        (wq.Layer == 'M2') | (wq.Layer == 'VP')]"
   ]
  },
  {
   "cell_type": "code",
   "execution_count": 15,
   "id": "e90cb637-9d48-46b2-81ae-4a217e498af0",
   "metadata": {},
   "outputs": [],
   "source": [
    "# Filter out anything shallower than 0.2m and deeper than 8m\n",
    "wq = wq[(wq.Depth > 3) & (wq.Depth < 5)]"
   ]
  },
  {
   "cell_type": "markdown",
   "id": "3dfb06ab-d5aa-4a2e-8753-8bf68fa86b06",
   "metadata": {},
   "source": [
    "### Filtering: Spatial"
   ]
  },
  {
   "cell_type": "markdown",
   "id": "fc84ab5d-a076-400f-baea-f340b604a152",
   "metadata": {},
   "source": [
    "Learned: All of the \"Integrated\" profiles are way up in the tributaries. I'm still not sure what it means, but none seem to be in places where we would be trying to compare them to satellite data."
   ]
  },
  {
   "cell_type": "markdown",
   "id": "c0d3b296-226a-4d7f-8bed-40d0d69a7c6c",
   "metadata": {},
   "source": [
    "**TODO** Need to move this into the raw data folder"
   ]
  },
  {
   "cell_type": "code",
   "execution_count": 16,
   "id": "aba2ee2d-65bc-47dd-b13f-d161860b4c5e",
   "metadata": {},
   "outputs": [],
   "source": [
    "# Open the geometry for the Chesapeake Bay\n",
    "cbay_shape = gpd.read_file(\"/Users/rwegener/repos/mhw_ocetrac_census/data/\" \\\n",
    "                        \"SST-geopolar-chesapeake/cbay_vector.geojson\")\n",
    "cbay_shape = cbay_shape[cbay_shape.DN == 0].iloc[1]"
   ]
  },
  {
   "cell_type": "code",
   "execution_count": 17,
   "id": "3441f041-5c0b-477e-bf3b-913e4d4e402d",
   "metadata": {},
   "outputs": [],
   "source": [
    "# Convert the dataframe to a spatially-aware geodataframe\n",
    "wq_gpd = gpd.GeoDataFrame(\n",
    "    wq, geometry=gpd.points_from_xy(wq['Longitude'], wq['Latitude']), \n",
    "    crs='epsg:4326')"
   ]
  },
  {
   "cell_type": "code",
   "execution_count": 18,
   "id": "4f652c3d-3b3a-4013-93dd-d1a5026e3e80",
   "metadata": {},
   "outputs": [
    {
     "name": "stdout",
     "output_type": "stream",
     "text": [
      "CPU times: user 7.26 s, sys: 36.5 ms, total: 7.29 s\n",
      "Wall time: 7.34 s\n"
     ]
    }
   ],
   "source": [
    "%%time\n",
    "# Runtime: 1.5 minutes\n",
    "\n",
    "wq = wq_gpd[wq_gpd['geometry'].intersects(cbay_shape.geometry)]\n",
    "# wq is now a GeoDataFrame"
   ]
  },
  {
   "cell_type": "markdown",
   "id": "e5ab8993-2d7a-4008-8d4b-f231c6823640",
   "metadata": {},
   "source": [
    "### Filtering: Time\n",
    "\n",
    "Because we don't have MUR past Jan 2020"
   ]
  },
  {
   "cell_type": "code",
   "execution_count": 19,
   "id": "ee25b6da-f418-461f-9e5f-f9ab7a4ebe44",
   "metadata": {},
   "outputs": [
    {
     "data": {
      "text/plain": [
       "15945"
      ]
     },
     "execution_count": 19,
     "metadata": {},
     "output_type": "execute_result"
    }
   ],
   "source": [
    "wq = wq[(wq.SampleDate >= '2003-01-01') & (wq.SampleDate <= '2019-12-31')]\n",
    "len(wq)"
   ]
  },
  {
   "cell_type": "markdown",
   "id": "ee03ae73-d61d-476f-8847-94aa9802f3df",
   "metadata": {},
   "source": [
    "### Isolating just one depth observation per location\n",
    "\n",
    "Select one measurement for each location and time, in each case selecting the measurement closest to 2 meters depth."
   ]
  },
  {
   "cell_type": "code",
   "execution_count": 20,
   "id": "dcf1cb84-2818-4326-861d-4a2d33357dad",
   "metadata": {},
   "outputs": [],
   "source": [
    "def find_correct_depth(df):\n",
    "    if len(df) > 1:\n",
    "        # Get the row with the depth closest to 2 meters\n",
    "        df = df.iloc[(df['Depth']-4).abs().argsort()[:1]]\n",
    "    # if there was only 1 row to begin with, just return that one\n",
    "    return df"
   ]
  },
  {
   "cell_type": "code",
   "execution_count": 21,
   "id": "c011b9ab-4dc1-434e-b942-8277b84eaccc",
   "metadata": {},
   "outputs": [
    {
     "name": "stdout",
     "output_type": "stream",
     "text": [
      "CPU times: user 17.6 s, sys: 252 ms, total: 17.9 s\n",
      "Wall time: 18 s\n"
     ]
    }
   ],
   "source": [
    "%%time\n",
    "# Runtime: ~1 minute\n",
    "\n",
    "wq = wq.groupby(['Station', 'SampleDate', 'SampleTime']) \\\n",
    "                .apply(find_correct_depth)"
   ]
  },
  {
   "cell_type": "markdown",
   "id": "088f551a-f8e7-4985-90d0-9dbc4f461ee9",
   "metadata": {},
   "source": [
    "### Inspecting the remaining observations\n",
    "\n",
    "There are about 39,000 in situ observations ranging from 0.25 to 7.3 meters depth. The majority (>25,000) of them are at about 2m depth. On visual inspection there are not any large regions of the bay that are left totally blank. There is an average of 1953 samples per year with a standard deviation of 535 samples. There are more samples taken in the summer than in the winter."
   ]
  },
  {
   "cell_type": "code",
   "execution_count": 22,
   "id": "dbd9730f-a3a2-4336-ad14-aca378d14700",
   "metadata": {},
   "outputs": [],
   "source": [
    "# wq.geometry.explore()"
   ]
  },
  {
   "cell_type": "code",
   "execution_count": 23,
   "id": "c3883c4f-89d4-44f8-bbbc-5250445c0f7f",
   "metadata": {},
   "outputs": [
    {
     "data": {
      "text/plain": [
       "Text(0.5, 0.98, 'Number of Available Validation Data Points over Time')"
      ]
     },
     "execution_count": 23,
     "metadata": {},
     "output_type": "execute_result"
    },
    {
     "data": {
      "image/png": "[encoded data removed]",
      "text/plain": [
       "<Figure size 640x480 with 2 Axes>"
      ]
     },
     "metadata": {},
     "output_type": "display_data"
    }
   ],
   "source": [
    "fig, ax1 = plt.subplots()\n",
    "ax2 = ax1.twinx()\n",
    "ax2.set_ylim([800, 4000])\n",
    "\n",
    "histogram = wq.SampleDate.hist(bins=68, ax=ax1, grid=False)\n",
    "ax1.set_ylabel('Number of observations (3 month bins)')\n",
    "ax1.set_xlabel('Year')\n",
    "# ax1.grid(axis='y', linestyle='--', color='lightgrey')\n",
    "# ax1.set_yticks(np.arange(100, 900, 100))\n",
    "\n",
    "# Making the line plot\n",
    "# didn't work using default pandas .plot(ax=ax2) I think because date range was off\n",
    "avgs = wq.groupby(wq.SampleDate.dt.year).count().EventId.values\n",
    "year_start = pd.date_range('2003', '2019', freq='YS')\n",
    "year_end = pd.date_range('2003', '2020', freq='Y')\n",
    "ax2.hlines(avgs, year_start, year_end, color='black')\n",
    "ax2.set_ylabel('Average # of observations per calendar year')\n",
    "# ax2.set_yticks(np.arange(1200, 3200, 3050))\n",
    "\n",
    "fig.suptitle('Number of Available Validation Data Points over Time')\n",
    "\n",
    "# plt.savefig('./figures/validation_analysis/available_validation_hist.png')"
   ]
  },
  {
   "cell_type": "code",
   "execution_count": null,
   "id": "8e79498c-e3fb-4256-a33b-7347243a20a1",
   "metadata": {},
   "outputs": [],
   "source": []
  },
  {
   "cell_type": "markdown",
   "id": "0ac26eb6-dfa3-45aa-80ce-e50ccc8ce5e7",
   "metadata": {},
   "source": [
    "## Intersect Operation -- co-locating SST and in situ obs"
   ]
  },
  {
   "cell_type": "code",
   "execution_count": 24,
   "id": "2b679de1-63d6-4d6d-a255-9926b7813f15",
   "metadata": {},
   "outputs": [],
   "source": [
    "import warnings"
   ]
  },
  {
   "cell_type": "code",
   "execution_count": 25,
   "id": "6f8a70ea-0c07-48c9-a1fe-46785cae1ea0",
   "metadata": {},
   "outputs": [],
   "source": [
    "def get_satellite_sst(full_sst, lat, lon, time):\n",
    "    # print('lat', lat, 'lon', lon, 'time', time)\n",
    "    # time does NOT have nearest interpolation because we do not want adjacent days to\n",
    "    # be selected\n",
    "    try:\n",
    "        matching_array = full_sst.sel(lat=lat, lon=lon, \n",
    "                                      method='nearest').sel(time=time.strftime('%Y-%m-%d')).values\n",
    "        if matching_array.size == 1:\n",
    "            matching_sst = matching_array[0]\n",
    "        elif matching_array.size == 0:\n",
    "            matching_sst = np.nan\n",
    "            # warnings.warn('Matching array length is 0. Date is likely missing (?)' + time.strftime('%Y-%m-%d'))\n",
    "        else:\n",
    "            raise Exception('more than one matching value?')\n",
    "    except KeyError:\n",
    "        # If a key error was raised corresponding date was not found. Return nan for that sample location\n",
    "        matching_sst = np.nan\n",
    "    # print('returning ', matching_sst)\n",
    "    return matching_sst"
   ]
  },
  {
   "cell_type": "code",
   "execution_count": 26,
   "id": "e5ff8a04-3424-45ca-8797-78c3948b5133",
   "metadata": {},
   "outputs": [],
   "source": [
    "# wq = wq_applied"
   ]
  },
  {
   "cell_type": "code",
   "execution_count": 27,
   "id": "ad05c074-58c7-4f11-a50d-3fd90ef8cf62",
   "metadata": {},
   "outputs": [],
   "source": [
    "wq = wq[['MeasureValue', 'Latitude', 'Longitude', 'SampleDate', 'Depth']]\n",
    "# wq = wq[['MeasureValue', 'Latitude', 'Longitude', 'Datetime']]\n",
    "wq_sst = wq.copy()\n",
    "wq_sst['geopolar_sst'] = -999"
   ]
  },
  {
   "cell_type": "code",
   "execution_count": 29,
   "id": "526943a1-1b7e-4568-891f-129c6e6db820",
   "metadata": {},
   "outputs": [],
   "source": [
    "# geopolar = xr.open_dataset('/Users/rwegener/repos/mhw_ocetrac_census/data/SST-geopolar-chesapeake/SST_geopolar_chesapeake.nc')\n",
    "geopolar = xr.open_dataset('/Users/rwegener/repos/chesapeake_mhw/data/raw/delete/L4_GHRSST-SSTfnd-Geo_Polar_Blended_Night-GLOB-v02.0-fv01.0_CB_20030101_20221231.nc')\n",
    "geopolar = geopolar.analysed_sst"
   ]
  },
  {
   "cell_type": "code",
   "execution_count": 30,
   "id": "c3426b0c-0183-4623-a725-6b323f9afb67",
   "metadata": {},
   "outputs": [
    {
     "data": {
      "text/plain": [
       "<matplotlib.collections.QuadMesh at 0x16e751890>"
      ]
     },
     "execution_count": 30,
     "metadata": {},
     "output_type": "execute_result"
    },
    {
     "data": {
      "image/png": "[encoded data removed]",
      "text/plain": [
       "<Figure size 640x480 with 2 Axes>"
      ]
     },
     "metadata": {},
     "output_type": "display_data"
    }
   ],
   "source": [
    "geopolar.isel(time=1000).plot()"
   ]
  },
  {
   "cell_type": "code",
   "execution_count": 31,
   "id": "353025e3-56f6-4a7e-b1d6-1346c06e643c",
   "metadata": {
    "tags": []
   },
   "outputs": [
    {
     "data": {
      "text/html": [
       "<div>\n",
       "<style scoped>\n",
       "    .dataframe tbody tr th:only-of-type {\n",
       "        vertical-align: middle;\n",
       "    }\n",
       "\n",
       "    .dataframe tbody tr th {\n",
       "        vertical-align: top;\n",
       "    }\n",
       "\n",
       "    .dataframe thead th {\n",
       "        text-align: right;\n",
       "    }\n",
       "</style>\n",
       "<table border=\"1\" class=\"dataframe\">\n",
       "  <thead>\n",
       "    <tr style=\"text-align: right;\">\n",
       "      <th></th>\n",
       "      <th></th>\n",
       "      <th></th>\n",
       "      <th></th>\n",
       "      <th>MeasureValue</th>\n",
       "      <th>Latitude</th>\n",
       "      <th>Longitude</th>\n",
       "      <th>SampleDate</th>\n",
       "      <th>Depth</th>\n",
       "      <th>geopolar_sst</th>\n",
       "    </tr>\n",
       "    <tr>\n",
       "      <th>Station</th>\n",
       "      <th>SampleDate</th>\n",
       "      <th>SampleTime</th>\n",
       "      <th></th>\n",
       "      <th></th>\n",
       "      <th></th>\n",
       "      <th></th>\n",
       "      <th></th>\n",
       "      <th></th>\n",
       "      <th></th>\n",
       "    </tr>\n",
       "  </thead>\n",
       "  <tbody>\n",
       "    <tr>\n",
       "      <th rowspan=\"5\" valign=\"top\">1AOCC002.47</th>\n",
       "      <th>2011-06-07</th>\n",
       "      <th>10:10:00</th>\n",
       "      <th>233624</th>\n",
       "      <td>25.90</td>\n",
       "      <td>38.64028</td>\n",
       "      <td>-77.22222</td>\n",
       "      <td>2011-06-07</td>\n",
       "      <td>3.50</td>\n",
       "      <td>-999</td>\n",
       "    </tr>\n",
       "    <tr>\n",
       "      <th>2011-11-28</th>\n",
       "      <th>10:20:00</th>\n",
       "      <th>248356</th>\n",
       "      <td>10.60</td>\n",
       "      <td>38.64028</td>\n",
       "      <td>-77.22222</td>\n",
       "      <td>2011-11-28</td>\n",
       "      <td>3.50</td>\n",
       "      <td>-999</td>\n",
       "    </tr>\n",
       "    <tr>\n",
       "      <th>2012-07-23</th>\n",
       "      <th>09:45:00</th>\n",
       "      <th>265439</th>\n",
       "      <td>27.18</td>\n",
       "      <td>38.64028</td>\n",
       "      <td>-77.22222</td>\n",
       "      <td>2012-07-23</td>\n",
       "      <td>3.50</td>\n",
       "      <td>-999</td>\n",
       "    </tr>\n",
       "    <tr>\n",
       "      <th>2013-12-19</th>\n",
       "      <th>10:10:00</th>\n",
       "      <th>305879</th>\n",
       "      <td>3.78</td>\n",
       "      <td>38.64028</td>\n",
       "      <td>-77.22222</td>\n",
       "      <td>2013-12-19</td>\n",
       "      <td>3.50</td>\n",
       "      <td>-999</td>\n",
       "    </tr>\n",
       "    <tr>\n",
       "      <th>2014-06-17</th>\n",
       "      <th>10:15:00</th>\n",
       "      <th>316411</th>\n",
       "      <td>27.09</td>\n",
       "      <td>38.64028</td>\n",
       "      <td>-77.22222</td>\n",
       "      <td>2014-06-17</td>\n",
       "      <td>3.50</td>\n",
       "      <td>-999</td>\n",
       "    </tr>\n",
       "    <tr>\n",
       "      <th>...</th>\n",
       "      <th>...</th>\n",
       "      <th>...</th>\n",
       "      <th>...</th>\n",
       "      <td>...</td>\n",
       "      <td>...</td>\n",
       "      <td>...</td>\n",
       "      <td>...</td>\n",
       "      <td>...</td>\n",
       "      <td>...</td>\n",
       "    </tr>\n",
       "    <tr>\n",
       "      <th rowspan=\"5\" valign=\"top\">YRK005.40</th>\n",
       "      <th>2013-08-05</th>\n",
       "      <th>07:56:00</th>\n",
       "      <th>294497</th>\n",
       "      <td>25.62</td>\n",
       "      <td>37.24828</td>\n",
       "      <td>-76.49651</td>\n",
       "      <td>2013-08-05</td>\n",
       "      <td>3.25</td>\n",
       "      <td>-999</td>\n",
       "    </tr>\n",
       "    <tr>\n",
       "      <th>2013-09-03</th>\n",
       "      <th>07:42:00</th>\n",
       "      <th>297533</th>\n",
       "      <td>25.83</td>\n",
       "      <td>37.24828</td>\n",
       "      <td>-76.49651</td>\n",
       "      <td>2013-09-03</td>\n",
       "      <td>3.50</td>\n",
       "      <td>-999</td>\n",
       "    </tr>\n",
       "    <tr>\n",
       "      <th>2013-10-15</th>\n",
       "      <th>07:48:00</th>\n",
       "      <th>300970</th>\n",
       "      <td>19.80</td>\n",
       "      <td>37.24828</td>\n",
       "      <td>-76.49651</td>\n",
       "      <td>2013-10-15</td>\n",
       "      <td>3.25</td>\n",
       "      <td>-999</td>\n",
       "    </tr>\n",
       "    <tr>\n",
       "      <th>2015-10-26</th>\n",
       "      <th>07:48:00</th>\n",
       "      <th>353543</th>\n",
       "      <td>16.88</td>\n",
       "      <td>37.24828</td>\n",
       "      <td>-76.49651</td>\n",
       "      <td>2015-10-26</td>\n",
       "      <td>3.25</td>\n",
       "      <td>-999</td>\n",
       "    </tr>\n",
       "    <tr>\n",
       "      <th>2017-05-24</th>\n",
       "      <th>07:47:00</th>\n",
       "      <th>392746</th>\n",
       "      <td>20.23</td>\n",
       "      <td>37.24828</td>\n",
       "      <td>-76.49651</td>\n",
       "      <td>2017-05-24</td>\n",
       "      <td>3.25</td>\n",
       "      <td>-999</td>\n",
       "    </tr>\n",
       "  </tbody>\n",
       "</table>\n",
       "<p>15217 rows × 6 columns</p>\n",
       "</div>"
      ],
      "text/plain": [
       "                                          MeasureValue  Latitude  Longitude  \\\n",
       "Station     SampleDate SampleTime                                             \n",
       "1AOCC002.47 2011-06-07 10:10:00   233624         25.90  38.64028  -77.22222   \n",
       "            2011-11-28 10:20:00   248356         10.60  38.64028  -77.22222   \n",
       "            2012-07-23 09:45:00   265439         27.18  38.64028  -77.22222   \n",
       "            2013-12-19 10:10:00   305879          3.78  38.64028  -77.22222   \n",
       "            2014-06-17 10:15:00   316411         27.09  38.64028  -77.22222   \n",
       "...                                                ...       ...        ...   \n",
       "YRK005.40   2013-08-05 07:56:00   294497         25.62  37.24828  -76.49651   \n",
       "            2013-09-03 07:42:00   297533         25.83  37.24828  -76.49651   \n",
       "            2013-10-15 07:48:00   300970         19.80  37.24828  -76.49651   \n",
       "            2015-10-26 07:48:00   353543         16.88  37.24828  -76.49651   \n",
       "            2017-05-24 07:47:00   392746         20.23  37.24828  -76.49651   \n",
       "\n",
       "                                         SampleDate  Depth  geopolar_sst  \n",
       "Station     SampleDate SampleTime                                         \n",
       "1AOCC002.47 2011-06-07 10:10:00   233624 2011-06-07   3.50          -999  \n",
       "            2011-11-28 10:20:00   248356 2011-11-28   3.50          -999  \n",
       "            2012-07-23 09:45:00   265439 2012-07-23   3.50          -999  \n",
       "            2013-12-19 10:10:00   305879 2013-12-19   3.50          -999  \n",
       "            2014-06-17 10:15:00   316411 2014-06-17   3.50          -999  \n",
       "...                                             ...    ...           ...  \n",
       "YRK005.40   2013-08-05 07:56:00   294497 2013-08-05   3.25          -999  \n",
       "            2013-09-03 07:42:00   297533 2013-09-03   3.50          -999  \n",
       "            2013-10-15 07:48:00   300970 2013-10-15   3.25          -999  \n",
       "            2015-10-26 07:48:00   353543 2015-10-26   3.25          -999  \n",
       "            2017-05-24 07:47:00   392746 2017-05-24   3.25          -999  \n",
       "\n",
       "[15217 rows x 6 columns]"
      ]
     },
     "execution_count": 31,
     "metadata": {},
     "output_type": "execute_result"
    }
   ],
   "source": [
    "wq_sst"
   ]
  },
  {
   "cell_type": "markdown",
   "id": "3c816843-69ef-46c5-b4f3-a1a303eca20f",
   "metadata": {},
   "source": [
    "Timing Notes\n",
    "\n",
    "Feb 1: ~22,000 rows: ~50 seconds\n"
   ]
  },
  {
   "cell_type": "code",
   "execution_count": 32,
   "id": "04610115-afc2-4586-ac68-b82b18cd034d",
   "metadata": {
    "tags": []
   },
   "outputs": [
    {
     "name": "stdout",
     "output_type": "stream",
     "text": [
      "CPU times: user 24.7 s, sys: 383 ms, total: 25.1 s\n",
      "Wall time: 25.4 s\n"
     ]
    }
   ],
   "source": [
    "%%time\n",
    "\n",
    "# Create a new column of the wq dataframe containing the corresponding geopolar sst value\n",
    "wq_sst['geopolar_sst'] = wq_sst.apply(lambda x: get_satellite_sst(geopolar, x.Latitude, x.Longitude, x.SampleDate), \n",
    "                                                axis=1)"
   ]
  },
  {
   "cell_type": "code",
   "execution_count": 33,
   "id": "05c4e449-6839-4394-9add-98cfe34b1728",
   "metadata": {},
   "outputs": [
    {
     "data": {
      "text/plain": [
       "15217"
      ]
     },
     "execution_count": 33,
     "metadata": {},
     "output_type": "execute_result"
    }
   ],
   "source": [
    "len(wq_sst)"
   ]
  },
  {
   "cell_type": "code",
   "execution_count": 34,
   "id": "c7aec0cd-6af6-47ef-9897-38cb385fcb19",
   "metadata": {},
   "outputs": [
    {
     "data": {
      "text/html": [
       "<div>\n",
       "<style scoped>\n",
       "    .dataframe tbody tr th:only-of-type {\n",
       "        vertical-align: middle;\n",
       "    }\n",
       "\n",
       "    .dataframe tbody tr th {\n",
       "        vertical-align: top;\n",
       "    }\n",
       "\n",
       "    .dataframe thead th {\n",
       "        text-align: right;\n",
       "    }\n",
       "</style>\n",
       "<table border=\"1\" class=\"dataframe\">\n",
       "  <thead>\n",
       "    <tr style=\"text-align: right;\">\n",
       "      <th></th>\n",
       "      <th></th>\n",
       "      <th></th>\n",
       "      <th></th>\n",
       "      <th>MeasureValue</th>\n",
       "      <th>Latitude</th>\n",
       "      <th>Longitude</th>\n",
       "      <th>SampleDate</th>\n",
       "      <th>Depth</th>\n",
       "      <th>geopolar_sst</th>\n",
       "    </tr>\n",
       "    <tr>\n",
       "      <th>Station</th>\n",
       "      <th>SampleDate</th>\n",
       "      <th>SampleTime</th>\n",
       "      <th></th>\n",
       "      <th></th>\n",
       "      <th></th>\n",
       "      <th></th>\n",
       "      <th></th>\n",
       "      <th></th>\n",
       "      <th></th>\n",
       "    </tr>\n",
       "  </thead>\n",
       "  <tbody>\n",
       "    <tr>\n",
       "      <th rowspan=\"5\" valign=\"top\">1AOCC002.47</th>\n",
       "      <th>2011-06-07</th>\n",
       "      <th>10:10:00</th>\n",
       "      <th>233624</th>\n",
       "      <td>25.90</td>\n",
       "      <td>38.64028</td>\n",
       "      <td>-77.22222</td>\n",
       "      <td>2011-06-07</td>\n",
       "      <td>3.50</td>\n",
       "      <td>295.989990</td>\n",
       "    </tr>\n",
       "    <tr>\n",
       "      <th>2011-11-28</th>\n",
       "      <th>10:20:00</th>\n",
       "      <th>248356</th>\n",
       "      <td>10.60</td>\n",
       "      <td>38.64028</td>\n",
       "      <td>-77.22222</td>\n",
       "      <td>2011-11-28</td>\n",
       "      <td>3.50</td>\n",
       "      <td>283.660004</td>\n",
       "    </tr>\n",
       "    <tr>\n",
       "      <th>2012-07-23</th>\n",
       "      <th>09:45:00</th>\n",
       "      <th>265439</th>\n",
       "      <td>27.18</td>\n",
       "      <td>38.64028</td>\n",
       "      <td>-77.22222</td>\n",
       "      <td>2012-07-23</td>\n",
       "      <td>3.50</td>\n",
       "      <td>299.369995</td>\n",
       "    </tr>\n",
       "    <tr>\n",
       "      <th>2013-12-19</th>\n",
       "      <th>10:10:00</th>\n",
       "      <th>305879</th>\n",
       "      <td>3.78</td>\n",
       "      <td>38.64028</td>\n",
       "      <td>-77.22222</td>\n",
       "      <td>2013-12-19</td>\n",
       "      <td>3.50</td>\n",
       "      <td>278.769989</td>\n",
       "    </tr>\n",
       "    <tr>\n",
       "      <th>2014-06-17</th>\n",
       "      <th>10:15:00</th>\n",
       "      <th>316411</th>\n",
       "      <td>27.09</td>\n",
       "      <td>38.64028</td>\n",
       "      <td>-77.22222</td>\n",
       "      <td>2014-06-17</td>\n",
       "      <td>3.50</td>\n",
       "      <td>297.179993</td>\n",
       "    </tr>\n",
       "    <tr>\n",
       "      <th>...</th>\n",
       "      <th>...</th>\n",
       "      <th>...</th>\n",
       "      <th>...</th>\n",
       "      <td>...</td>\n",
       "      <td>...</td>\n",
       "      <td>...</td>\n",
       "      <td>...</td>\n",
       "      <td>...</td>\n",
       "      <td>...</td>\n",
       "    </tr>\n",
       "    <tr>\n",
       "      <th rowspan=\"5\" valign=\"top\">YRK005.40</th>\n",
       "      <th>2013-08-05</th>\n",
       "      <th>07:56:00</th>\n",
       "      <th>294497</th>\n",
       "      <td>25.62</td>\n",
       "      <td>37.24828</td>\n",
       "      <td>-76.49651</td>\n",
       "      <td>2013-08-05</td>\n",
       "      <td>3.25</td>\n",
       "      <td>299.509979</td>\n",
       "    </tr>\n",
       "    <tr>\n",
       "      <th>2013-09-03</th>\n",
       "      <th>07:42:00</th>\n",
       "      <th>297533</th>\n",
       "      <td>25.83</td>\n",
       "      <td>37.24828</td>\n",
       "      <td>-76.49651</td>\n",
       "      <td>2013-09-03</td>\n",
       "      <td>3.50</td>\n",
       "      <td>299.660004</td>\n",
       "    </tr>\n",
       "    <tr>\n",
       "      <th>2013-10-15</th>\n",
       "      <th>07:48:00</th>\n",
       "      <th>300970</th>\n",
       "      <td>19.80</td>\n",
       "      <td>37.24828</td>\n",
       "      <td>-76.49651</td>\n",
       "      <td>2013-10-15</td>\n",
       "      <td>3.25</td>\n",
       "      <td>292.880005</td>\n",
       "    </tr>\n",
       "    <tr>\n",
       "      <th>2015-10-26</th>\n",
       "      <th>07:48:00</th>\n",
       "      <th>353543</th>\n",
       "      <td>16.88</td>\n",
       "      <td>37.24828</td>\n",
       "      <td>-76.49651</td>\n",
       "      <td>2015-10-26</td>\n",
       "      <td>3.25</td>\n",
       "      <td>290.059998</td>\n",
       "    </tr>\n",
       "    <tr>\n",
       "      <th>2017-05-24</th>\n",
       "      <th>07:47:00</th>\n",
       "      <th>392746</th>\n",
       "      <td>20.23</td>\n",
       "      <td>37.24828</td>\n",
       "      <td>-76.49651</td>\n",
       "      <td>2017-05-24</td>\n",
       "      <td>3.25</td>\n",
       "      <td>293.880005</td>\n",
       "    </tr>\n",
       "  </tbody>\n",
       "</table>\n",
       "<p>15194 rows × 6 columns</p>\n",
       "</div>"
      ],
      "text/plain": [
       "                                          MeasureValue  Latitude  Longitude  \\\n",
       "Station     SampleDate SampleTime                                             \n",
       "1AOCC002.47 2011-06-07 10:10:00   233624         25.90  38.64028  -77.22222   \n",
       "            2011-11-28 10:20:00   248356         10.60  38.64028  -77.22222   \n",
       "            2012-07-23 09:45:00   265439         27.18  38.64028  -77.22222   \n",
       "            2013-12-19 10:10:00   305879          3.78  38.64028  -77.22222   \n",
       "            2014-06-17 10:15:00   316411         27.09  38.64028  -77.22222   \n",
       "...                                                ...       ...        ...   \n",
       "YRK005.40   2013-08-05 07:56:00   294497         25.62  37.24828  -76.49651   \n",
       "            2013-09-03 07:42:00   297533         25.83  37.24828  -76.49651   \n",
       "            2013-10-15 07:48:00   300970         19.80  37.24828  -76.49651   \n",
       "            2015-10-26 07:48:00   353543         16.88  37.24828  -76.49651   \n",
       "            2017-05-24 07:47:00   392746         20.23  37.24828  -76.49651   \n",
       "\n",
       "                                         SampleDate  Depth  geopolar_sst  \n",
       "Station     SampleDate SampleTime                                         \n",
       "1AOCC002.47 2011-06-07 10:10:00   233624 2011-06-07   3.50    295.989990  \n",
       "            2011-11-28 10:20:00   248356 2011-11-28   3.50    283.660004  \n",
       "            2012-07-23 09:45:00   265439 2012-07-23   3.50    299.369995  \n",
       "            2013-12-19 10:10:00   305879 2013-12-19   3.50    278.769989  \n",
       "            2014-06-17 10:15:00   316411 2014-06-17   3.50    297.179993  \n",
       "...                                             ...    ...           ...  \n",
       "YRK005.40   2013-08-05 07:56:00   294497 2013-08-05   3.25    299.509979  \n",
       "            2013-09-03 07:42:00   297533 2013-09-03   3.50    299.660004  \n",
       "            2013-10-15 07:48:00   300970 2013-10-15   3.25    292.880005  \n",
       "            2015-10-26 07:48:00   353543 2015-10-26   3.25    290.059998  \n",
       "            2017-05-24 07:47:00   392746 2017-05-24   3.25    293.880005  \n",
       "\n",
       "[15194 rows x 6 columns]"
      ]
     },
     "execution_count": 34,
     "metadata": {},
     "output_type": "execute_result"
    }
   ],
   "source": [
    "wq_sst[~wq_sst.geopolar_sst.isnull()]"
   ]
  },
  {
   "cell_type": "code",
   "execution_count": null,
   "id": "1b26fbc4-fde2-499c-8056-e009a2a68e28",
   "metadata": {},
   "outputs": [],
   "source": []
  },
  {
   "cell_type": "code",
   "execution_count": 35,
   "id": "40ef06a9-4c28-44ab-a8d8-68c1f8b44bdd",
   "metadata": {},
   "outputs": [
    {
     "ename": "FileNotFoundError",
     "evalue": "[Errno 2] No such file or directory: b'/Users/rwegener/repos/mhw_ocetrac_census/data/SST-mur-chesapeake-from-skylar/MUR_FullCB.nc'",
     "output_type": "error",
     "traceback": [
      "\u001b[0;31m---------------------------------------------------------------------------\u001b[0m",
      "\u001b[0;31mKeyError\u001b[0m                                  Traceback (most recent call last)",
      "File \u001b[0;32m~/miniconda3/envs/chesapeake_mhw/lib/python3.11/site-packages/xarray/backends/file_manager.py:209\u001b[0m, in \u001b[0;36mCachingFileManager._acquire_with_cache_info\u001b[0;34m(self, needs_lock)\u001b[0m\n\u001b[1;32m    208\u001b[0m \u001b[38;5;28;01mtry\u001b[39;00m:\n\u001b[0;32m--> 209\u001b[0m     file \u001b[38;5;241m=\u001b[39m \u001b[38;5;28;43mself\u001b[39;49m\u001b[38;5;241;43m.\u001b[39;49m\u001b[43m_cache\u001b[49m\u001b[43m[\u001b[49m\u001b[38;5;28;43mself\u001b[39;49m\u001b[38;5;241;43m.\u001b[39;49m\u001b[43m_key\u001b[49m\u001b[43m]\u001b[49m\n\u001b[1;32m    210\u001b[0m \u001b[38;5;28;01mexcept\u001b[39;00m \u001b[38;5;167;01mKeyError\u001b[39;00m:\n",
      "File \u001b[0;32m~/miniconda3/envs/chesapeake_mhw/lib/python3.11/site-packages/xarray/backends/lru_cache.py:55\u001b[0m, in \u001b[0;36mLRUCache.__getitem__\u001b[0;34m(self, key)\u001b[0m\n\u001b[1;32m     54\u001b[0m \u001b[38;5;28;01mwith\u001b[39;00m \u001b[38;5;28mself\u001b[39m\u001b[38;5;241m.\u001b[39m_lock:\n\u001b[0;32m---> 55\u001b[0m     value \u001b[38;5;241m=\u001b[39m \u001b[38;5;28;43mself\u001b[39;49m\u001b[38;5;241;43m.\u001b[39;49m\u001b[43m_cache\u001b[49m\u001b[43m[\u001b[49m\u001b[43mkey\u001b[49m\u001b[43m]\u001b[49m\n\u001b[1;32m     56\u001b[0m     \u001b[38;5;28mself\u001b[39m\u001b[38;5;241m.\u001b[39m_cache\u001b[38;5;241m.\u001b[39mmove_to_end(key)\n",
      "\u001b[0;31mKeyError\u001b[0m: [<class 'netCDF4._netCDF4.Dataset'>, ('/Users/rwegener/repos/mhw_ocetrac_census/data/SST-mur-chesapeake-from-skylar/MUR_FullCB.nc',), 'r', (('clobber', True), ('diskless', False), ('format', 'NETCDF4'), ('persist', False)), 'a971f711-d308-417d-ad72-cfe4fc60ded4']",
      "\nDuring handling of the above exception, another exception occurred:\n",
      "\u001b[0;31mFileNotFoundError\u001b[0m                         Traceback (most recent call last)",
      "Cell \u001b[0;32mIn[35], line 1\u001b[0m\n\u001b[0;32m----> 1\u001b[0m mur \u001b[38;5;241m=\u001b[39m \u001b[43mxr\u001b[49m\u001b[38;5;241;43m.\u001b[39;49m\u001b[43mopen_dataset\u001b[49m\u001b[43m(\u001b[49m\u001b[38;5;124;43m'\u001b[39;49m\u001b[38;5;124;43m/Users/rwegener/repos/mhw_ocetrac_census/data/SST-mur-chesapeake-from-skylar/MUR_FullCB.nc\u001b[39;49m\u001b[38;5;124;43m'\u001b[39;49m\u001b[43m)\u001b[49m\n\u001b[1;32m      2\u001b[0m mur \u001b[38;5;241m=\u001b[39m mur\u001b[38;5;241m.\u001b[39manalysed_sst\n",
      "File \u001b[0;32m~/miniconda3/envs/chesapeake_mhw/lib/python3.11/site-packages/xarray/backends/api.py:541\u001b[0m, in \u001b[0;36mopen_dataset\u001b[0;34m(filename_or_obj, engine, chunks, cache, decode_cf, mask_and_scale, decode_times, decode_timedelta, use_cftime, concat_characters, decode_coords, drop_variables, inline_array, backend_kwargs, **kwargs)\u001b[0m\n\u001b[1;32m    529\u001b[0m decoders \u001b[38;5;241m=\u001b[39m _resolve_decoders_kwargs(\n\u001b[1;32m    530\u001b[0m     decode_cf,\n\u001b[1;32m    531\u001b[0m     open_backend_dataset_parameters\u001b[38;5;241m=\u001b[39mbackend\u001b[38;5;241m.\u001b[39mopen_dataset_parameters,\n\u001b[0;32m   (...)\u001b[0m\n\u001b[1;32m    537\u001b[0m     decode_coords\u001b[38;5;241m=\u001b[39mdecode_coords,\n\u001b[1;32m    538\u001b[0m )\n\u001b[1;32m    540\u001b[0m overwrite_encoded_chunks \u001b[38;5;241m=\u001b[39m kwargs\u001b[38;5;241m.\u001b[39mpop(\u001b[38;5;124m\"\u001b[39m\u001b[38;5;124moverwrite_encoded_chunks\u001b[39m\u001b[38;5;124m\"\u001b[39m, \u001b[38;5;28;01mNone\u001b[39;00m)\n\u001b[0;32m--> 541\u001b[0m backend_ds \u001b[38;5;241m=\u001b[39m \u001b[43mbackend\u001b[49m\u001b[38;5;241;43m.\u001b[39;49m\u001b[43mopen_dataset\u001b[49m\u001b[43m(\u001b[49m\n\u001b[1;32m    542\u001b[0m \u001b[43m    \u001b[49m\u001b[43mfilename_or_obj\u001b[49m\u001b[43m,\u001b[49m\n\u001b[1;32m    543\u001b[0m \u001b[43m    \u001b[49m\u001b[43mdrop_variables\u001b[49m\u001b[38;5;241;43m=\u001b[39;49m\u001b[43mdrop_variables\u001b[49m\u001b[43m,\u001b[49m\n\u001b[1;32m    544\u001b[0m \u001b[43m    \u001b[49m\u001b[38;5;241;43m*\u001b[39;49m\u001b[38;5;241;43m*\u001b[39;49m\u001b[43mdecoders\u001b[49m\u001b[43m,\u001b[49m\n\u001b[1;32m    545\u001b[0m \u001b[43m    \u001b[49m\u001b[38;5;241;43m*\u001b[39;49m\u001b[38;5;241;43m*\u001b[39;49m\u001b[43mkwargs\u001b[49m\u001b[43m,\u001b[49m\n\u001b[1;32m    546\u001b[0m \u001b[43m\u001b[49m\u001b[43m)\u001b[49m\n\u001b[1;32m    547\u001b[0m ds \u001b[38;5;241m=\u001b[39m _dataset_from_backend_dataset(\n\u001b[1;32m    548\u001b[0m     backend_ds,\n\u001b[1;32m    549\u001b[0m     filename_or_obj,\n\u001b[0;32m   (...)\u001b[0m\n\u001b[1;32m    557\u001b[0m     \u001b[38;5;241m*\u001b[39m\u001b[38;5;241m*\u001b[39mkwargs,\n\u001b[1;32m    558\u001b[0m )\n\u001b[1;32m    559\u001b[0m \u001b[38;5;28;01mreturn\u001b[39;00m ds\n",
      "File \u001b[0;32m~/miniconda3/envs/chesapeake_mhw/lib/python3.11/site-packages/xarray/backends/netCDF4_.py:578\u001b[0m, in \u001b[0;36mNetCDF4BackendEntrypoint.open_dataset\u001b[0;34m(self, filename_or_obj, mask_and_scale, decode_times, concat_characters, decode_coords, drop_variables, use_cftime, decode_timedelta, group, mode, format, clobber, diskless, persist, lock, autoclose)\u001b[0m\n\u001b[1;32m    557\u001b[0m \u001b[38;5;28;01mdef\u001b[39;00m \u001b[38;5;21mopen_dataset\u001b[39m(\n\u001b[1;32m    558\u001b[0m     \u001b[38;5;28mself\u001b[39m,\n\u001b[1;32m    559\u001b[0m     filename_or_obj,\n\u001b[0;32m   (...)\u001b[0m\n\u001b[1;32m    574\u001b[0m     autoclose\u001b[38;5;241m=\u001b[39m\u001b[38;5;28;01mFalse\u001b[39;00m,\n\u001b[1;32m    575\u001b[0m ):\n\u001b[1;32m    577\u001b[0m     filename_or_obj \u001b[38;5;241m=\u001b[39m _normalize_path(filename_or_obj)\n\u001b[0;32m--> 578\u001b[0m     store \u001b[38;5;241m=\u001b[39m \u001b[43mNetCDF4DataStore\u001b[49m\u001b[38;5;241;43m.\u001b[39;49m\u001b[43mopen\u001b[49m\u001b[43m(\u001b[49m\n\u001b[1;32m    579\u001b[0m \u001b[43m        \u001b[49m\u001b[43mfilename_or_obj\u001b[49m\u001b[43m,\u001b[49m\n\u001b[1;32m    580\u001b[0m \u001b[43m        \u001b[49m\u001b[43mmode\u001b[49m\u001b[38;5;241;43m=\u001b[39;49m\u001b[43mmode\u001b[49m\u001b[43m,\u001b[49m\n\u001b[1;32m    581\u001b[0m \u001b[43m        \u001b[49m\u001b[38;5;28;43mformat\u001b[39;49m\u001b[38;5;241;43m=\u001b[39;49m\u001b[38;5;28;43mformat\u001b[39;49m\u001b[43m,\u001b[49m\n\u001b[1;32m    582\u001b[0m \u001b[43m        \u001b[49m\u001b[43mgroup\u001b[49m\u001b[38;5;241;43m=\u001b[39;49m\u001b[43mgroup\u001b[49m\u001b[43m,\u001b[49m\n\u001b[1;32m    583\u001b[0m \u001b[43m        \u001b[49m\u001b[43mclobber\u001b[49m\u001b[38;5;241;43m=\u001b[39;49m\u001b[43mclobber\u001b[49m\u001b[43m,\u001b[49m\n\u001b[1;32m    584\u001b[0m \u001b[43m        \u001b[49m\u001b[43mdiskless\u001b[49m\u001b[38;5;241;43m=\u001b[39;49m\u001b[43mdiskless\u001b[49m\u001b[43m,\u001b[49m\n\u001b[1;32m    585\u001b[0m \u001b[43m        \u001b[49m\u001b[43mpersist\u001b[49m\u001b[38;5;241;43m=\u001b[39;49m\u001b[43mpersist\u001b[49m\u001b[43m,\u001b[49m\n\u001b[1;32m    586\u001b[0m \u001b[43m        \u001b[49m\u001b[43mlock\u001b[49m\u001b[38;5;241;43m=\u001b[39;49m\u001b[43mlock\u001b[49m\u001b[43m,\u001b[49m\n\u001b[1;32m    587\u001b[0m \u001b[43m        \u001b[49m\u001b[43mautoclose\u001b[49m\u001b[38;5;241;43m=\u001b[39;49m\u001b[43mautoclose\u001b[49m\u001b[43m,\u001b[49m\n\u001b[1;32m    588\u001b[0m \u001b[43m    \u001b[49m\u001b[43m)\u001b[49m\n\u001b[1;32m    590\u001b[0m     store_entrypoint \u001b[38;5;241m=\u001b[39m StoreBackendEntrypoint()\n\u001b[1;32m    591\u001b[0m     \u001b[38;5;28;01mwith\u001b[39;00m close_on_error(store):\n",
      "File \u001b[0;32m~/miniconda3/envs/chesapeake_mhw/lib/python3.11/site-packages/xarray/backends/netCDF4_.py:382\u001b[0m, in \u001b[0;36mNetCDF4DataStore.open\u001b[0;34m(cls, filename, mode, format, group, clobber, diskless, persist, lock, lock_maker, autoclose)\u001b[0m\n\u001b[1;32m    376\u001b[0m kwargs \u001b[38;5;241m=\u001b[39m \u001b[38;5;28mdict\u001b[39m(\n\u001b[1;32m    377\u001b[0m     clobber\u001b[38;5;241m=\u001b[39mclobber, diskless\u001b[38;5;241m=\u001b[39mdiskless, persist\u001b[38;5;241m=\u001b[39mpersist, \u001b[38;5;28mformat\u001b[39m\u001b[38;5;241m=\u001b[39m\u001b[38;5;28mformat\u001b[39m\n\u001b[1;32m    378\u001b[0m )\n\u001b[1;32m    379\u001b[0m manager \u001b[38;5;241m=\u001b[39m CachingFileManager(\n\u001b[1;32m    380\u001b[0m     netCDF4\u001b[38;5;241m.\u001b[39mDataset, filename, mode\u001b[38;5;241m=\u001b[39mmode, kwargs\u001b[38;5;241m=\u001b[39mkwargs\n\u001b[1;32m    381\u001b[0m )\n\u001b[0;32m--> 382\u001b[0m \u001b[38;5;28;01mreturn\u001b[39;00m \u001b[38;5;28;43mcls\u001b[39;49m\u001b[43m(\u001b[49m\u001b[43mmanager\u001b[49m\u001b[43m,\u001b[49m\u001b[43m \u001b[49m\u001b[43mgroup\u001b[49m\u001b[38;5;241;43m=\u001b[39;49m\u001b[43mgroup\u001b[49m\u001b[43m,\u001b[49m\u001b[43m \u001b[49m\u001b[43mmode\u001b[49m\u001b[38;5;241;43m=\u001b[39;49m\u001b[43mmode\u001b[49m\u001b[43m,\u001b[49m\u001b[43m \u001b[49m\u001b[43mlock\u001b[49m\u001b[38;5;241;43m=\u001b[39;49m\u001b[43mlock\u001b[49m\u001b[43m,\u001b[49m\u001b[43m \u001b[49m\u001b[43mautoclose\u001b[49m\u001b[38;5;241;43m=\u001b[39;49m\u001b[43mautoclose\u001b[49m\u001b[43m)\u001b[49m\n",
      "File \u001b[0;32m~/miniconda3/envs/chesapeake_mhw/lib/python3.11/site-packages/xarray/backends/netCDF4_.py:329\u001b[0m, in \u001b[0;36mNetCDF4DataStore.__init__\u001b[0;34m(self, manager, group, mode, lock, autoclose)\u001b[0m\n\u001b[1;32m    327\u001b[0m \u001b[38;5;28mself\u001b[39m\u001b[38;5;241m.\u001b[39m_group \u001b[38;5;241m=\u001b[39m group\n\u001b[1;32m    328\u001b[0m \u001b[38;5;28mself\u001b[39m\u001b[38;5;241m.\u001b[39m_mode \u001b[38;5;241m=\u001b[39m mode\n\u001b[0;32m--> 329\u001b[0m \u001b[38;5;28mself\u001b[39m\u001b[38;5;241m.\u001b[39mformat \u001b[38;5;241m=\u001b[39m \u001b[38;5;28;43mself\u001b[39;49m\u001b[38;5;241;43m.\u001b[39;49m\u001b[43mds\u001b[49m\u001b[38;5;241m.\u001b[39mdata_model\n\u001b[1;32m    330\u001b[0m \u001b[38;5;28mself\u001b[39m\u001b[38;5;241m.\u001b[39m_filename \u001b[38;5;241m=\u001b[39m \u001b[38;5;28mself\u001b[39m\u001b[38;5;241m.\u001b[39mds\u001b[38;5;241m.\u001b[39mfilepath()\n\u001b[1;32m    331\u001b[0m \u001b[38;5;28mself\u001b[39m\u001b[38;5;241m.\u001b[39mis_remote \u001b[38;5;241m=\u001b[39m is_remote_uri(\u001b[38;5;28mself\u001b[39m\u001b[38;5;241m.\u001b[39m_filename)\n",
      "File \u001b[0;32m~/miniconda3/envs/chesapeake_mhw/lib/python3.11/site-packages/xarray/backends/netCDF4_.py:391\u001b[0m, in \u001b[0;36mNetCDF4DataStore.ds\u001b[0;34m(self)\u001b[0m\n\u001b[1;32m    389\u001b[0m \u001b[38;5;129m@property\u001b[39m\n\u001b[1;32m    390\u001b[0m \u001b[38;5;28;01mdef\u001b[39;00m \u001b[38;5;21mds\u001b[39m(\u001b[38;5;28mself\u001b[39m):\n\u001b[0;32m--> 391\u001b[0m     \u001b[38;5;28;01mreturn\u001b[39;00m \u001b[38;5;28;43mself\u001b[39;49m\u001b[38;5;241;43m.\u001b[39;49m\u001b[43m_acquire\u001b[49m\u001b[43m(\u001b[49m\u001b[43m)\u001b[49m\n",
      "File \u001b[0;32m~/miniconda3/envs/chesapeake_mhw/lib/python3.11/site-packages/xarray/backends/netCDF4_.py:385\u001b[0m, in \u001b[0;36mNetCDF4DataStore._acquire\u001b[0;34m(self, needs_lock)\u001b[0m\n\u001b[1;32m    384\u001b[0m \u001b[38;5;28;01mdef\u001b[39;00m \u001b[38;5;21m_acquire\u001b[39m(\u001b[38;5;28mself\u001b[39m, needs_lock\u001b[38;5;241m=\u001b[39m\u001b[38;5;28;01mTrue\u001b[39;00m):\n\u001b[0;32m--> 385\u001b[0m \u001b[43m    \u001b[49m\u001b[38;5;28;43;01mwith\u001b[39;49;00m\u001b[43m \u001b[49m\u001b[38;5;28;43mself\u001b[39;49m\u001b[38;5;241;43m.\u001b[39;49m\u001b[43m_manager\u001b[49m\u001b[38;5;241;43m.\u001b[39;49m\u001b[43macquire_context\u001b[49m\u001b[43m(\u001b[49m\u001b[43mneeds_lock\u001b[49m\u001b[43m)\u001b[49m\u001b[43m \u001b[49m\u001b[38;5;28;43;01mas\u001b[39;49;00m\u001b[43m \u001b[49m\u001b[43mroot\u001b[49m\u001b[43m:\u001b[49m\n\u001b[1;32m    386\u001b[0m \u001b[43m        \u001b[49m\u001b[43mds\u001b[49m\u001b[43m \u001b[49m\u001b[38;5;241;43m=\u001b[39;49m\u001b[43m \u001b[49m\u001b[43m_nc4_require_group\u001b[49m\u001b[43m(\u001b[49m\u001b[43mroot\u001b[49m\u001b[43m,\u001b[49m\u001b[43m \u001b[49m\u001b[38;5;28;43mself\u001b[39;49m\u001b[38;5;241;43m.\u001b[39;49m\u001b[43m_group\u001b[49m\u001b[43m,\u001b[49m\u001b[43m \u001b[49m\u001b[38;5;28;43mself\u001b[39;49m\u001b[38;5;241;43m.\u001b[39;49m\u001b[43m_mode\u001b[49m\u001b[43m)\u001b[49m\n\u001b[1;32m    387\u001b[0m     \u001b[38;5;28;01mreturn\u001b[39;00m ds\n",
      "File \u001b[0;32m~/miniconda3/envs/chesapeake_mhw/lib/python3.11/contextlib.py:137\u001b[0m, in \u001b[0;36m_GeneratorContextManager.__enter__\u001b[0;34m(self)\u001b[0m\n\u001b[1;32m    135\u001b[0m \u001b[38;5;28;01mdel\u001b[39;00m \u001b[38;5;28mself\u001b[39m\u001b[38;5;241m.\u001b[39margs, \u001b[38;5;28mself\u001b[39m\u001b[38;5;241m.\u001b[39mkwds, \u001b[38;5;28mself\u001b[39m\u001b[38;5;241m.\u001b[39mfunc\n\u001b[1;32m    136\u001b[0m \u001b[38;5;28;01mtry\u001b[39;00m:\n\u001b[0;32m--> 137\u001b[0m     \u001b[38;5;28;01mreturn\u001b[39;00m \u001b[38;5;28mnext\u001b[39m(\u001b[38;5;28mself\u001b[39m\u001b[38;5;241m.\u001b[39mgen)\n\u001b[1;32m    138\u001b[0m \u001b[38;5;28;01mexcept\u001b[39;00m \u001b[38;5;167;01mStopIteration\u001b[39;00m:\n\u001b[1;32m    139\u001b[0m     \u001b[38;5;28;01mraise\u001b[39;00m \u001b[38;5;167;01mRuntimeError\u001b[39;00m(\u001b[38;5;124m\"\u001b[39m\u001b[38;5;124mgenerator didn\u001b[39m\u001b[38;5;124m'\u001b[39m\u001b[38;5;124mt yield\u001b[39m\u001b[38;5;124m\"\u001b[39m) \u001b[38;5;28;01mfrom\u001b[39;00m \u001b[38;5;28mNone\u001b[39m\n",
      "File \u001b[0;32m~/miniconda3/envs/chesapeake_mhw/lib/python3.11/site-packages/xarray/backends/file_manager.py:197\u001b[0m, in \u001b[0;36mCachingFileManager.acquire_context\u001b[0;34m(self, needs_lock)\u001b[0m\n\u001b[1;32m    194\u001b[0m \u001b[38;5;129m@contextlib\u001b[39m\u001b[38;5;241m.\u001b[39mcontextmanager\n\u001b[1;32m    195\u001b[0m \u001b[38;5;28;01mdef\u001b[39;00m \u001b[38;5;21macquire_context\u001b[39m(\u001b[38;5;28mself\u001b[39m, needs_lock\u001b[38;5;241m=\u001b[39m\u001b[38;5;28;01mTrue\u001b[39;00m):\n\u001b[1;32m    196\u001b[0m \u001b[38;5;250m    \u001b[39m\u001b[38;5;124;03m\"\"\"Context manager for acquiring a file.\"\"\"\u001b[39;00m\n\u001b[0;32m--> 197\u001b[0m     file, cached \u001b[38;5;241m=\u001b[39m \u001b[38;5;28;43mself\u001b[39;49m\u001b[38;5;241;43m.\u001b[39;49m\u001b[43m_acquire_with_cache_info\u001b[49m\u001b[43m(\u001b[49m\u001b[43mneeds_lock\u001b[49m\u001b[43m)\u001b[49m\n\u001b[1;32m    198\u001b[0m     \u001b[38;5;28;01mtry\u001b[39;00m:\n\u001b[1;32m    199\u001b[0m         \u001b[38;5;28;01myield\u001b[39;00m file\n",
      "File \u001b[0;32m~/miniconda3/envs/chesapeake_mhw/lib/python3.11/site-packages/xarray/backends/file_manager.py:215\u001b[0m, in \u001b[0;36mCachingFileManager._acquire_with_cache_info\u001b[0;34m(self, needs_lock)\u001b[0m\n\u001b[1;32m    213\u001b[0m     kwargs \u001b[38;5;241m=\u001b[39m kwargs\u001b[38;5;241m.\u001b[39mcopy()\n\u001b[1;32m    214\u001b[0m     kwargs[\u001b[38;5;124m\"\u001b[39m\u001b[38;5;124mmode\u001b[39m\u001b[38;5;124m\"\u001b[39m] \u001b[38;5;241m=\u001b[39m \u001b[38;5;28mself\u001b[39m\u001b[38;5;241m.\u001b[39m_mode\n\u001b[0;32m--> 215\u001b[0m file \u001b[38;5;241m=\u001b[39m \u001b[38;5;28;43mself\u001b[39;49m\u001b[38;5;241;43m.\u001b[39;49m\u001b[43m_opener\u001b[49m\u001b[43m(\u001b[49m\u001b[38;5;241;43m*\u001b[39;49m\u001b[38;5;28;43mself\u001b[39;49m\u001b[38;5;241;43m.\u001b[39;49m\u001b[43m_args\u001b[49m\u001b[43m,\u001b[49m\u001b[43m \u001b[49m\u001b[38;5;241;43m*\u001b[39;49m\u001b[38;5;241;43m*\u001b[39;49m\u001b[43mkwargs\u001b[49m\u001b[43m)\u001b[49m\n\u001b[1;32m    216\u001b[0m \u001b[38;5;28;01mif\u001b[39;00m \u001b[38;5;28mself\u001b[39m\u001b[38;5;241m.\u001b[39m_mode \u001b[38;5;241m==\u001b[39m \u001b[38;5;124m\"\u001b[39m\u001b[38;5;124mw\u001b[39m\u001b[38;5;124m\"\u001b[39m:\n\u001b[1;32m    217\u001b[0m     \u001b[38;5;66;03m# ensure file doesn't get overridden when opened again\u001b[39;00m\n\u001b[1;32m    218\u001b[0m     \u001b[38;5;28mself\u001b[39m\u001b[38;5;241m.\u001b[39m_mode \u001b[38;5;241m=\u001b[39m \u001b[38;5;124m\"\u001b[39m\u001b[38;5;124ma\u001b[39m\u001b[38;5;124m\"\u001b[39m\n",
      "File \u001b[0;32msrc/netCDF4/_netCDF4.pyx:2463\u001b[0m, in \u001b[0;36mnetCDF4._netCDF4.Dataset.__init__\u001b[0;34m()\u001b[0m\n",
      "File \u001b[0;32msrc/netCDF4/_netCDF4.pyx:2026\u001b[0m, in \u001b[0;36mnetCDF4._netCDF4._ensure_nc_success\u001b[0;34m()\u001b[0m\n",
      "\u001b[0;31mFileNotFoundError\u001b[0m: [Errno 2] No such file or directory: b'/Users/rwegener/repos/mhw_ocetrac_census/data/SST-mur-chesapeake-from-skylar/MUR_FullCB.nc'"
     ]
    }
   ],
   "source": [
    "mur = xr.open_dataset('/Users/rwegener/repos/mhw_ocetrac_census/data/SST-mur-chesapeake-from-skylar/MUR_FullCB.nc')\n",
    "mur = mur.analysed_sst"
   ]
  },
  {
   "cell_type": "code",
   "execution_count": null,
   "id": "ca6f8b3b-18d0-473d-a284-f7c8ecf65f1c",
   "metadata": {},
   "outputs": [],
   "source": [
    "mur.isel(time=1000).plot()"
   ]
  },
  {
   "cell_type": "code",
   "execution_count": null,
   "id": "e7e64d36-41e3-4ca4-9a90-1227e13de666",
   "metadata": {
    "tags": []
   },
   "outputs": [],
   "source": [
    "%%time\n",
    "\n",
    "# Create a new column of the wq dataframe containing the corresponding geopolar sst value\n",
    "wq_sst['mur_sst'] = wq_sst.apply(lambda x: get_satellite_sst(mur, x.Latitude, x.Longitude, x.SampleDate), \n",
    "                                                axis=1)"
   ]
  },
  {
   "cell_type": "code",
   "execution_count": null,
   "id": "f5cb22ea-b2a2-43c5-92f7-82a1cf98ce62",
   "metadata": {},
   "outputs": [],
   "source": [
    "len(wq_sst)"
   ]
  },
  {
   "cell_type": "code",
   "execution_count": null,
   "id": "6e47f41d-18fd-4221-99bc-b7523867574e",
   "metadata": {},
   "outputs": [],
   "source": [
    "wq_sst[~wq_sst.mur_sst.isnull()]"
   ]
  },
  {
   "cell_type": "markdown",
   "id": "3fdd5e2a-462f-41f0-ba16-9c64690a8a46",
   "metadata": {},
   "source": [
    "### Cleaning Output"
   ]
  },
  {
   "cell_type": "markdown",
   "id": "89c4ac72-c0ea-4552-9ef5-730fb3d8d81a",
   "metadata": {},
   "source": [
    "Convert to Celsius"
   ]
  },
  {
   "cell_type": "code",
   "execution_count": 37,
   "id": "441da680-8b82-44d6-93c2-20bf25046cb7",
   "metadata": {},
   "outputs": [],
   "source": [
    "# wq_sst['mur_sst'] = wq_sst['mur_sst'] - 273\n",
    "wq_sst['geopolar_sst'] = wq_sst['geopolar_sst'] - 273"
   ]
  },
  {
   "cell_type": "markdown",
   "id": "62a90ac4-415f-4c89-ba09-7703d9bf2ecc",
   "metadata": {},
   "source": [
    "Keep just the rows where either mur or geopolar have values. (Remove the rows where both mur and geopolar are null)"
   ]
  },
  {
   "cell_type": "markdown",
   "id": "bc2c9773-88e4-4f86-b17c-2ccbb3d3710f",
   "metadata": {},
   "source": [
    "_Do we want an AND or an OR in there?_ --> OR is good. (note the NOT in front of the isnull)"
   ]
  },
  {
   "cell_type": "code",
   "execution_count": null,
   "id": "7c933c1e-d861-4d31-b068-87774d89d70a",
   "metadata": {},
   "outputs": [],
   "source": [
    "wq_sst = wq_sst[(~wq_sst['mur_sst'].isnull()) | (~wq_sst['geopolar_sst'].isnull())]"
   ]
  },
  {
   "cell_type": "markdown",
   "id": "b0fe8a6b-cb8c-4622-b0e3-b20c8a330601",
   "metadata": {},
   "source": [
    "Optional function / flag -- remove rivers"
   ]
  },
  {
   "cell_type": "code",
   "execution_count": null,
   "id": "91e6357b-d192-499b-a1dc-72bb8136f35b",
   "metadata": {},
   "outputs": [],
   "source": [
    "wq_sst"
   ]
  },
  {
   "cell_type": "code",
   "execution_count": null,
   "id": "98095827-da4c-4ee9-9533-374bfe9418ee",
   "metadata": {},
   "outputs": [],
   "source": []
  },
  {
   "cell_type": "code",
   "execution_count": 33,
   "id": "871d7003-251f-4985-b422-27d1e3ee87f2",
   "metadata": {},
   "outputs": [
    {
     "data": {
      "text/plain": [
       "4.012962471245482"
      ]
     },
     "execution_count": 33,
     "metadata": {},
     "output_type": "execute_result"
    }
   ],
   "source": [
    "wq_sst['Depth'].mean()"
   ]
  },
  {
   "cell_type": "code",
   "execution_count": 38,
   "id": "4c3ec4aa-6f55-4cc7-8b2b-779f72bc1ace",
   "metadata": {},
   "outputs": [
    {
     "ename": "IndexError",
     "evalue": "Too many levels: Index has only 1 level, not 2",
     "output_type": "error",
     "traceback": [
      "\u001b[0;31m---------------------------------------------------------------------------\u001b[0m",
      "\u001b[0;31mIndexError\u001b[0m                                Traceback (most recent call last)",
      "Cell \u001b[0;32mIn[38], line 3\u001b[0m\n\u001b[1;32m      1\u001b[0m \u001b[38;5;66;03m# droplevel - get rid of SampleDate, because it already exists and \u001b[39;00m\n\u001b[1;32m      2\u001b[0m \u001b[38;5;66;03m# also the old index value\u001b[39;00m\n\u001b[0;32m----> 3\u001b[0m wq_sst \u001b[38;5;241m=\u001b[39m \u001b[43mwq_sst\u001b[49m\u001b[38;5;241;43m.\u001b[39;49m\u001b[43mdroplevel\u001b[49m\u001b[43m(\u001b[49m\u001b[43m[\u001b[49m\u001b[38;5;241;43m1\u001b[39;49m\u001b[43m,\u001b[49m\u001b[43m \u001b[49m\u001b[38;5;241;43m3\u001b[39;49m\u001b[43m]\u001b[49m\u001b[43m)\u001b[49m\u001b[38;5;241m.\u001b[39mreset_index()\n",
      "File \u001b[0;32m~/miniconda3/envs/chesapeake_mhw/lib/python3.11/site-packages/pandas/core/generic.py:919\u001b[0m, in \u001b[0;36mNDFrame.droplevel\u001b[0;34m(self, level, axis)\u001b[0m\n\u001b[1;32m    860\u001b[0m \u001b[38;5;250m\u001b[39m\u001b[38;5;124;03m\"\"\"\u001b[39;00m\n\u001b[1;32m    861\u001b[0m \u001b[38;5;124;03mReturn {klass} with requested index / column level(s) removed.\u001b[39;00m\n\u001b[1;32m    862\u001b[0m \n\u001b[0;32m   (...)\u001b[0m\n\u001b[1;32m    916\u001b[0m \u001b[38;5;124;03m9 10    11  12\u001b[39;00m\n\u001b[1;32m    917\u001b[0m \u001b[38;5;124;03m\"\"\"\u001b[39;00m\n\u001b[1;32m    918\u001b[0m labels \u001b[38;5;241m=\u001b[39m \u001b[38;5;28mself\u001b[39m\u001b[38;5;241m.\u001b[39m_get_axis(axis)\n\u001b[0;32m--> 919\u001b[0m new_labels \u001b[38;5;241m=\u001b[39m \u001b[43mlabels\u001b[49m\u001b[38;5;241;43m.\u001b[39;49m\u001b[43mdroplevel\u001b[49m\u001b[43m(\u001b[49m\u001b[43mlevel\u001b[49m\u001b[43m)\u001b[49m\n\u001b[1;32m    920\u001b[0m \u001b[38;5;28;01mreturn\u001b[39;00m \u001b[38;5;28mself\u001b[39m\u001b[38;5;241m.\u001b[39mset_axis(new_labels, axis\u001b[38;5;241m=\u001b[39maxis)\n",
      "File \u001b[0;32m~/miniconda3/envs/chesapeake_mhw/lib/python3.11/site-packages/pandas/core/indexes/base.py:2180\u001b[0m, in \u001b[0;36mIndex.droplevel\u001b[0;34m(self, level)\u001b[0m\n\u001b[1;32m   2177\u001b[0m \u001b[38;5;28;01mif\u001b[39;00m \u001b[38;5;129;01mnot\u001b[39;00m \u001b[38;5;28misinstance\u001b[39m(level, (\u001b[38;5;28mtuple\u001b[39m, \u001b[38;5;28mlist\u001b[39m)):\n\u001b[1;32m   2178\u001b[0m     level \u001b[38;5;241m=\u001b[39m [level]\n\u001b[0;32m-> 2180\u001b[0m levnums \u001b[38;5;241m=\u001b[39m \u001b[38;5;28;43msorted\u001b[39;49m\u001b[43m(\u001b[49m\u001b[38;5;28;43mself\u001b[39;49m\u001b[38;5;241;43m.\u001b[39;49m\u001b[43m_get_level_number\u001b[49m\u001b[43m(\u001b[49m\u001b[43mlev\u001b[49m\u001b[43m)\u001b[49m\u001b[43m \u001b[49m\u001b[38;5;28;43;01mfor\u001b[39;49;00m\u001b[43m \u001b[49m\u001b[43mlev\u001b[49m\u001b[43m \u001b[49m\u001b[38;5;129;43;01min\u001b[39;49;00m\u001b[43m \u001b[49m\u001b[43mlevel\u001b[49m\u001b[43m)\u001b[49m[::\u001b[38;5;241m-\u001b[39m\u001b[38;5;241m1\u001b[39m]\n\u001b[1;32m   2182\u001b[0m \u001b[38;5;28;01mreturn\u001b[39;00m \u001b[38;5;28mself\u001b[39m\u001b[38;5;241m.\u001b[39m_drop_level_numbers(levnums)\n",
      "File \u001b[0;32m~/miniconda3/envs/chesapeake_mhw/lib/python3.11/site-packages/pandas/core/indexes/base.py:2180\u001b[0m, in \u001b[0;36m<genexpr>\u001b[0;34m(.0)\u001b[0m\n\u001b[1;32m   2177\u001b[0m \u001b[38;5;28;01mif\u001b[39;00m \u001b[38;5;129;01mnot\u001b[39;00m \u001b[38;5;28misinstance\u001b[39m(level, (\u001b[38;5;28mtuple\u001b[39m, \u001b[38;5;28mlist\u001b[39m)):\n\u001b[1;32m   2178\u001b[0m     level \u001b[38;5;241m=\u001b[39m [level]\n\u001b[0;32m-> 2180\u001b[0m levnums \u001b[38;5;241m=\u001b[39m \u001b[38;5;28msorted\u001b[39m(\u001b[38;5;28;43mself\u001b[39;49m\u001b[38;5;241;43m.\u001b[39;49m\u001b[43m_get_level_number\u001b[49m\u001b[43m(\u001b[49m\u001b[43mlev\u001b[49m\u001b[43m)\u001b[49m \u001b[38;5;28;01mfor\u001b[39;00m lev \u001b[38;5;129;01min\u001b[39;00m level)[::\u001b[38;5;241m-\u001b[39m\u001b[38;5;241m1\u001b[39m]\n\u001b[1;32m   2182\u001b[0m \u001b[38;5;28;01mreturn\u001b[39;00m \u001b[38;5;28mself\u001b[39m\u001b[38;5;241m.\u001b[39m_drop_level_numbers(levnums)\n",
      "File \u001b[0;32m~/miniconda3/envs/chesapeake_mhw/lib/python3.11/site-packages/pandas/core/indexes/base.py:2055\u001b[0m, in \u001b[0;36mIndex._get_level_number\u001b[0;34m(self, level)\u001b[0m\n\u001b[1;32m   2054\u001b[0m \u001b[38;5;28;01mdef\u001b[39;00m \u001b[38;5;21m_get_level_number\u001b[39m(\u001b[38;5;28mself\u001b[39m, level) \u001b[38;5;241m-\u001b[39m\u001b[38;5;241m>\u001b[39m \u001b[38;5;28mint\u001b[39m:\n\u001b[0;32m-> 2055\u001b[0m     \u001b[38;5;28;43mself\u001b[39;49m\u001b[38;5;241;43m.\u001b[39;49m\u001b[43m_validate_index_level\u001b[49m\u001b[43m(\u001b[49m\u001b[43mlevel\u001b[49m\u001b[43m)\u001b[49m\n\u001b[1;32m   2056\u001b[0m     \u001b[38;5;28;01mreturn\u001b[39;00m \u001b[38;5;241m0\u001b[39m\n",
      "File \u001b[0;32m~/miniconda3/envs/chesapeake_mhw/lib/python3.11/site-packages/pandas/core/indexes/base.py:2046\u001b[0m, in \u001b[0;36mIndex._validate_index_level\u001b[0;34m(self, level)\u001b[0m\n\u001b[1;32m   2041\u001b[0m         \u001b[38;5;28;01mraise\u001b[39;00m \u001b[38;5;167;01mIndexError\u001b[39;00m(\n\u001b[1;32m   2042\u001b[0m             \u001b[38;5;124m\"\u001b[39m\u001b[38;5;124mToo many levels: Index has only 1 level, \u001b[39m\u001b[38;5;124m\"\u001b[39m\n\u001b[1;32m   2043\u001b[0m             \u001b[38;5;124mf\u001b[39m\u001b[38;5;124m\"\u001b[39m\u001b[38;5;132;01m{\u001b[39;00mlevel\u001b[38;5;132;01m}\u001b[39;00m\u001b[38;5;124m is not a valid level number\u001b[39m\u001b[38;5;124m\"\u001b[39m\n\u001b[1;32m   2044\u001b[0m         )\n\u001b[1;32m   2045\u001b[0m     \u001b[38;5;28;01melif\u001b[39;00m level \u001b[38;5;241m>\u001b[39m \u001b[38;5;241m0\u001b[39m:\n\u001b[0;32m-> 2046\u001b[0m         \u001b[38;5;28;01mraise\u001b[39;00m \u001b[38;5;167;01mIndexError\u001b[39;00m(\n\u001b[1;32m   2047\u001b[0m             \u001b[38;5;124mf\u001b[39m\u001b[38;5;124m\"\u001b[39m\u001b[38;5;124mToo many levels: Index has only 1 level, not \u001b[39m\u001b[38;5;132;01m{\u001b[39;00mlevel\u001b[38;5;250m \u001b[39m\u001b[38;5;241m+\u001b[39m\u001b[38;5;250m \u001b[39m\u001b[38;5;241m1\u001b[39m\u001b[38;5;132;01m}\u001b[39;00m\u001b[38;5;124m\"\u001b[39m\n\u001b[1;32m   2048\u001b[0m         )\n\u001b[1;32m   2049\u001b[0m \u001b[38;5;28;01melif\u001b[39;00m level \u001b[38;5;241m!=\u001b[39m \u001b[38;5;28mself\u001b[39m\u001b[38;5;241m.\u001b[39mname:\n\u001b[1;32m   2050\u001b[0m     \u001b[38;5;28;01mraise\u001b[39;00m \u001b[38;5;167;01mKeyError\u001b[39;00m(\n\u001b[1;32m   2051\u001b[0m         \u001b[38;5;124mf\u001b[39m\u001b[38;5;124m\"\u001b[39m\u001b[38;5;124mRequested level (\u001b[39m\u001b[38;5;132;01m{\u001b[39;00mlevel\u001b[38;5;132;01m}\u001b[39;00m\u001b[38;5;124m) does not match index name (\u001b[39m\u001b[38;5;132;01m{\u001b[39;00m\u001b[38;5;28mself\u001b[39m\u001b[38;5;241m.\u001b[39mname\u001b[38;5;132;01m}\u001b[39;00m\u001b[38;5;124m)\u001b[39m\u001b[38;5;124m\"\u001b[39m\n\u001b[1;32m   2052\u001b[0m     )\n",
      "\u001b[0;31mIndexError\u001b[0m: Too many levels: Index has only 1 level, not 2"
     ]
    }
   ],
   "source": [
    "# droplevel - get rid of SampleDate, because it already exists and \n",
    "# also the old index value\n",
    "wq_sst = wq_sst.droplevel([1, 3]).reset_index()"
   ]
  },
  {
   "cell_type": "markdown",
   "id": "94d5bff7-ad27-4e8f-a7f5-a9890f1bd797",
   "metadata": {},
   "source": [
    "### Save File"
   ]
  },
  {
   "cell_type": "code",
   "execution_count": 35,
   "id": "bbe4a429-04f0-4d8d-8c55-c660668066a1",
   "metadata": {},
   "outputs": [],
   "source": [
    "wq_sst.to_csv('../data/AllTemps_WaterQualityMURGeopolar_expD.csv')\n"
   ]
  },
  {
   "cell_type": "code",
   "execution_count": null,
   "id": "076e271d-902f-4e03-9c2b-4c5c01039c37",
   "metadata": {},
   "outputs": [],
   "source": []
  },
  {
   "cell_type": "markdown",
   "id": "44458807-acfc-4b72-826e-74efd4426d75",
   "metadata": {},
   "source": [
    "### Exploring distribution of depths"
   ]
  },
  {
   "cell_type": "code",
   "execution_count": 139,
   "id": "3b3219a3-6571-4bf0-b536-32b86baae563",
   "metadata": {},
   "outputs": [],
   "source": [
    "june = wq_sst[wq_sst.SampleDate.dt.month == 12]"
   ]
  },
  {
   "cell_type": "code",
   "execution_count": null,
   "id": "dac61558-f630-4e20-abdc-4b27606688c7",
   "metadata": {},
   "outputs": [],
   "source": []
  },
  {
   "cell_type": "code",
   "execution_count": 140,
   "id": "f1f3410e-6f4b-4561-8dfd-246756907309",
   "metadata": {},
   "outputs": [],
   "source": [
    "from scipy.stats import norm\n",
    "import matplotlib.pyplot as plt"
   ]
  },
  {
   "cell_type": "code",
   "execution_count": 141,
   "id": "0b3c5a08-c01b-4da7-aab4-7429c812a6dd",
   "metadata": {},
   "outputs": [
    {
     "name": "stdout",
     "output_type": "stream",
     "text": [
      "7.915372972972973 2.2980796987571153\n"
     ]
    }
   ],
   "source": [
    "t_mean = june.MeasureValue.mean()\n",
    "t_std = june.MeasureValue.std()\n",
    "print(t_mean, t_std)"
   ]
  },
  {
   "cell_type": "code",
   "execution_count": 142,
   "id": "aba1dc3e-f9e2-4253-9b35-0477587da4d8",
   "metadata": {},
   "outputs": [
    {
     "name": "stdout",
     "output_type": "stream",
     "text": [
      "8.525561069797826 1.999455409028514\n"
     ]
    }
   ],
   "source": [
    "gp_mean = june.geopolar_sst.mean()\n",
    "gp_std = june.geopolar_sst.std()\n",
    "print(gp_mean, gp_std)"
   ]
  },
  {
   "cell_type": "code",
   "execution_count": 144,
   "id": "52c06184-8f39-4961-a216-a9f2866cf394",
   "metadata": {},
   "outputs": [
    {
     "data": {
      "text/plain": [
       "(13.3800048828125, 2.399993896484375)"
      ]
     },
     "execution_count": 144,
     "metadata": {},
     "output_type": "execute_result"
    }
   ],
   "source": [
    "june.geopolar_sst.max(), june.geopolar_sst.min()"
   ]
  },
  {
   "cell_type": "code",
   "execution_count": 146,
   "id": "8bc93d93-8d62-4b65-b38b-4682da378b3b",
   "metadata": {},
   "outputs": [
    {
     "data": {
      "text/plain": [
       "<matplotlib.collections.LineCollection at 0x16dc0c610>"
      ]
     },
     "execution_count": 146,
     "metadata": {},
     "output_type": "execute_result"
    },
    {
     "data": {
      "image/png": "[encoded data removed]",
      "text/plain": [
       "<Figure size 640x480 with 1 Axes>"
      ]
     },
     "metadata": {},
     "output_type": "display_data"
    }
   ],
   "source": [
    "x = np.arange(2, 13, 0.05)\n",
    "\n",
    "plt.plot(x, norm.pdf(x, gp_mean, gp_std)) \n",
    "plt.vlines(gp_mean, 0, 0.26)\n",
    "plt.plot(x, norm.pdf(x, t_mean, t_std)) \n",
    "plt.vlines(t_mean, 0, 0.24, color='orange')"
   ]
  },
  {
   "cell_type": "code",
   "execution_count": 131,
   "id": "0cdd5797-401f-43e9-9a8f-a1c421af30d3",
   "metadata": {},
   "outputs": [
    {
     "data": {
      "text/html": [
       "<div>\n",
       "<style scoped>\n",
       "    .dataframe tbody tr th:only-of-type {\n",
       "        vertical-align: middle;\n",
       "    }\n",
       "\n",
       "    .dataframe tbody tr th {\n",
       "        vertical-align: top;\n",
       "    }\n",
       "\n",
       "    .dataframe thead th {\n",
       "        text-align: right;\n",
       "    }\n",
       "</style>\n",
       "<table border=\"1\" class=\"dataframe\">\n",
       "  <thead>\n",
       "    <tr style=\"text-align: right;\">\n",
       "      <th></th>\n",
       "      <th>Station</th>\n",
       "      <th>SampleTime</th>\n",
       "      <th>MeasureValue</th>\n",
       "      <th>Latitude</th>\n",
       "      <th>Longitude</th>\n",
       "      <th>SampleDate</th>\n",
       "      <th>Depth</th>\n",
       "      <th>geopolar_sst</th>\n",
       "    </tr>\n",
       "  </thead>\n",
       "  <tbody>\n",
       "    <tr>\n",
       "      <th>0</th>\n",
       "      <td>1AOCC002.47</td>\n",
       "      <td>10:10:00</td>\n",
       "      <td>25.90</td>\n",
       "      <td>38.64028</td>\n",
       "      <td>-77.22222</td>\n",
       "      <td>2011-06-07</td>\n",
       "      <td>3.50</td>\n",
       "      <td>22.989990</td>\n",
       "    </tr>\n",
       "    <tr>\n",
       "      <th>1</th>\n",
       "      <td>1AOCC002.47</td>\n",
       "      <td>10:20:00</td>\n",
       "      <td>10.60</td>\n",
       "      <td>38.64028</td>\n",
       "      <td>-77.22222</td>\n",
       "      <td>2011-11-28</td>\n",
       "      <td>3.50</td>\n",
       "      <td>10.660004</td>\n",
       "    </tr>\n",
       "    <tr>\n",
       "      <th>2</th>\n",
       "      <td>1AOCC002.47</td>\n",
       "      <td>09:45:00</td>\n",
       "      <td>27.18</td>\n",
       "      <td>38.64028</td>\n",
       "      <td>-77.22222</td>\n",
       "      <td>2012-07-23</td>\n",
       "      <td>3.50</td>\n",
       "      <td>26.369995</td>\n",
       "    </tr>\n",
       "    <tr>\n",
       "      <th>3</th>\n",
       "      <td>1AOCC002.47</td>\n",
       "      <td>10:10:00</td>\n",
       "      <td>3.78</td>\n",
       "      <td>38.64028</td>\n",
       "      <td>-77.22222</td>\n",
       "      <td>2013-12-19</td>\n",
       "      <td>3.50</td>\n",
       "      <td>5.769989</td>\n",
       "    </tr>\n",
       "    <tr>\n",
       "      <th>4</th>\n",
       "      <td>1AOCC002.47</td>\n",
       "      <td>10:15:00</td>\n",
       "      <td>27.09</td>\n",
       "      <td>38.64028</td>\n",
       "      <td>-77.22222</td>\n",
       "      <td>2014-06-17</td>\n",
       "      <td>3.50</td>\n",
       "      <td>24.179993</td>\n",
       "    </tr>\n",
       "    <tr>\n",
       "      <th>...</th>\n",
       "      <td>...</td>\n",
       "      <td>...</td>\n",
       "      <td>...</td>\n",
       "      <td>...</td>\n",
       "      <td>...</td>\n",
       "      <td>...</td>\n",
       "      <td>...</td>\n",
       "      <td>...</td>\n",
       "    </tr>\n",
       "    <tr>\n",
       "      <th>15212</th>\n",
       "      <td>YRK005.40</td>\n",
       "      <td>07:56:00</td>\n",
       "      <td>25.62</td>\n",
       "      <td>37.24828</td>\n",
       "      <td>-76.49651</td>\n",
       "      <td>2013-08-05</td>\n",
       "      <td>3.25</td>\n",
       "      <td>26.509979</td>\n",
       "    </tr>\n",
       "    <tr>\n",
       "      <th>15213</th>\n",
       "      <td>YRK005.40</td>\n",
       "      <td>07:42:00</td>\n",
       "      <td>25.83</td>\n",
       "      <td>37.24828</td>\n",
       "      <td>-76.49651</td>\n",
       "      <td>2013-09-03</td>\n",
       "      <td>3.50</td>\n",
       "      <td>26.660004</td>\n",
       "    </tr>\n",
       "    <tr>\n",
       "      <th>15214</th>\n",
       "      <td>YRK005.40</td>\n",
       "      <td>07:48:00</td>\n",
       "      <td>19.80</td>\n",
       "      <td>37.24828</td>\n",
       "      <td>-76.49651</td>\n",
       "      <td>2013-10-15</td>\n",
       "      <td>3.25</td>\n",
       "      <td>19.880005</td>\n",
       "    </tr>\n",
       "    <tr>\n",
       "      <th>15215</th>\n",
       "      <td>YRK005.40</td>\n",
       "      <td>07:48:00</td>\n",
       "      <td>16.88</td>\n",
       "      <td>37.24828</td>\n",
       "      <td>-76.49651</td>\n",
       "      <td>2015-10-26</td>\n",
       "      <td>3.25</td>\n",
       "      <td>17.059998</td>\n",
       "    </tr>\n",
       "    <tr>\n",
       "      <th>15216</th>\n",
       "      <td>YRK005.40</td>\n",
       "      <td>07:47:00</td>\n",
       "      <td>20.23</td>\n",
       "      <td>37.24828</td>\n",
       "      <td>-76.49651</td>\n",
       "      <td>2017-05-24</td>\n",
       "      <td>3.25</td>\n",
       "      <td>20.880005</td>\n",
       "    </tr>\n",
       "  </tbody>\n",
       "</table>\n",
       "<p>15217 rows × 8 columns</p>\n",
       "</div>"
      ],
      "text/plain": [
       "           Station SampleTime  MeasureValue  Latitude  Longitude SampleDate  \\\n",
       "0      1AOCC002.47   10:10:00         25.90  38.64028  -77.22222 2011-06-07   \n",
       "1      1AOCC002.47   10:20:00         10.60  38.64028  -77.22222 2011-11-28   \n",
       "2      1AOCC002.47   09:45:00         27.18  38.64028  -77.22222 2012-07-23   \n",
       "3      1AOCC002.47   10:10:00          3.78  38.64028  -77.22222 2013-12-19   \n",
       "4      1AOCC002.47   10:15:00         27.09  38.64028  -77.22222 2014-06-17   \n",
       "...            ...        ...           ...       ...        ...        ...   \n",
       "15212    YRK005.40   07:56:00         25.62  37.24828  -76.49651 2013-08-05   \n",
       "15213    YRK005.40   07:42:00         25.83  37.24828  -76.49651 2013-09-03   \n",
       "15214    YRK005.40   07:48:00         19.80  37.24828  -76.49651 2013-10-15   \n",
       "15215    YRK005.40   07:48:00         16.88  37.24828  -76.49651 2015-10-26   \n",
       "15216    YRK005.40   07:47:00         20.23  37.24828  -76.49651 2017-05-24   \n",
       "\n",
       "       Depth  geopolar_sst  \n",
       "0       3.50     22.989990  \n",
       "1       3.50     10.660004  \n",
       "2       3.50     26.369995  \n",
       "3       3.50      5.769989  \n",
       "4       3.50     24.179993  \n",
       "...      ...           ...  \n",
       "15212   3.25     26.509979  \n",
       "15213   3.50     26.660004  \n",
       "15214   3.25     19.880005  \n",
       "15215   3.25     17.059998  \n",
       "15216   3.25     20.880005  \n",
       "\n",
       "[15217 rows x 8 columns]"
      ]
     },
     "execution_count": 131,
     "metadata": {},
     "output_type": "execute_result"
    }
   ],
   "source": [
    "wq_sst"
   ]
  },
  {
   "cell_type": "code",
   "execution_count": null,
   "id": "7f3a27c4-4108-473f-9aa7-10ac7e7cd50d",
   "metadata": {},
   "outputs": [],
   "source": []
  },
  {
   "cell_type": "code",
   "execution_count": null,
   "id": "de5b5e8a-043c-4dfb-a768-750c51805fa3",
   "metadata": {},
   "outputs": [],
   "source": []
  },
  {
   "cell_type": "code",
   "execution_count": null,
   "id": "ebbce6ca-63ec-4fdb-a2d3-fbc68fa78217",
   "metadata": {},
   "outputs": [],
   "source": []
  }
 ],
 "metadata": {
  "kernelspec": {
   "display_name": "Python [conda env:chesapeake_mhw]",
   "language": "python",
   "name": "conda-env-chesapeake_mhw-py"
  },
  "language_info": {
   "codemirror_mode": {
    "name": "ipython",
    "version": 3
   },
   "file_extension": ".py",
   "mimetype": "text/x-python",
   "name": "python",
   "nbconvert_exporter": "python",
   "pygments_lexer": "ipython3",
   "version": "3.11.0"
  }
 },
 "nbformat": 4,
 "nbformat_minor": 5
}
